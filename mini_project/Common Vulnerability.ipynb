{
 "cells": [
  {
   "metadata": {},
   "cell_type": "markdown",
   "source": "# 📌 1. Loading the Dataset",
   "id": "8ebca1c6d8223b49"
  },
  {
   "cell_type": "code",
   "id": "initial_id",
   "metadata": {
    "collapsed": true,
    "ExecuteTime": {
     "end_time": "2025-04-22T14:36:45.210136Z",
     "start_time": "2025-04-22T14:36:45.205618Z"
    }
   },
   "source": [
    "from os.path import join as path_join\n",
    "import kagglehub\n",
    "import numpy as np\n",
    "import pandas as pd\n",
    "import seaborn as sns\n",
    "from holoviews.ipython import display\n",
    "from matplotlib import pyplot as plt\n",
    "from scipy import stats\n",
    "from scipy.stats import zscore\n",
    "import plotly.express as px\n",
    "from sklearn.model_selection import train_test_split\n",
    "from sklearn.linear_model import LinearRegression\n",
    "from sklearn.metrics import r2_score, mean_squared_error\n",
    "\n",
    "import warnings\n",
    "warnings.filterwarnings(\"ignore\", category=RuntimeWarning) # suppress mathematically undefined errors\n"
   ],
   "outputs": [],
   "execution_count": 113
  },
  {
   "metadata": {
    "ExecuteTime": {
     "end_time": "2025-04-22T14:36:45.514356Z",
     "start_time": "2025-04-22T14:36:45.219740Z"
    }
   },
   "cell_type": "code",
   "source": [
    "# Load dataset from URL\n",
    "data_root = kagglehub.dataset_download(\"andrewkronser/cve-common-vulnerabilities-and-exposures\")\n"
   ],
   "id": "5ce79fb3c069149c",
   "outputs": [
    {
     "name": "stdout",
     "output_type": "stream",
     "text": [
      "Warning: Looks like you're using an outdated `kagglehub` version, please consider updating (latest version: 0.3.11)\n"
     ]
    }
   ],
   "execution_count": 114
  },
  {
   "metadata": {},
   "cell_type": "markdown",
   "source": "",
   "id": "adf754990c0252c9"
  },
  {
   "metadata": {},
   "cell_type": "markdown",
   "source": "## 💡 **Interpretation**:",
   "id": "a57b8e557f12efe1"
  },
  {
   "metadata": {},
   "cell_type": "markdown",
   "source": [
    "-  **mod_date: The date the entry was last modified.**\n",
    " -  **pub_date: The date the entry was published.**\n",
    " -  **cvss: Common Vulnerability Scoring System (CVSS) score, a measure of the severity of a vulnerability.**\n",
    "-  **cwe_code: Common Weakness Enumeration (CWE) code, identifying the type of weakness.**\n",
    " -  **cwe_name: The name associated with the CWE code.**\n",
    " -  **summary: A text summary of the vulnerability.**\n",
    "-  **access_authentication.**\n",
    "-  **access_complexity: how difficult it is to execute.**\n",
    "-  **access_vector: how the attack is performed, aka via network or locally.**"
   ],
   "id": "6107cb63f60b603f"
  },
  {
   "metadata": {
    "ExecuteTime": {
     "end_time": "2025-04-22T17:54:11.183845Z",
     "start_time": "2025-04-22T17:54:10.546239Z"
    }
   },
   "cell_type": "code",
   "source": [
    "# Read the dataset into a pandas dataframe\n",
    "df = pd.read_csv(path_join(data_root, 'cve.csv'), header=0, index_col=0)\n",
    "df.mod_date = pd.to_datetime(df.mod_date)\n",
    "df.pub_date = pd.to_datetime(df.pub_date)\n",
    "\n",
    "# Check for missing values before summary statistics\n",
    "print(\"\\nMissing Values:\")\n",
    "print(df.isnull().sum())\n",
    "\n",
    "# General information about the DataFrame (column names, non-null counts, data types)\n",
    "print(\"\\nDataset Info:\")\n",
    "df.info()\n",
    "\n",
    "\n",
    "non_par_com = {\"NONE\": 0, \"COMPLETE\": 2, \"PARTIAL\": 1}\n",
    "low_med_hih = {\"LOW\": 0, \"MEDIUM\": 1, \"HIGH\": 2}\n",
    "non_sin_mul = {\"NONE\": 0, \"SINGLE\": 1, \"MULTIPLE\": 2}\n",
    "loc_adj_net = {\"LOCAL\": 0, \"ADJACENT_NETWORK\": 1, \"NETWORK\": 2}\n",
    "\n",
    "ordinal_remapping = {\n",
    "    \"access_authentication\": non_sin_mul,\n",
    "    \"access_complexity\": low_med_hih,\n",
    "    \"access_vector\": loc_adj_net,\n",
    "    \"impact_availability\": non_par_com,\n",
    "    \"impact_confidentiality\": non_par_com,\n",
    "    \"impact_integrity\": non_par_com,\n",
    "}\n",
    "\n",
    "for ordinal_column in ordinal_remapping:\n",
    "    df[ordinal_column] = df[ordinal_column].apply(\n",
    "        lambda v: ordinal_remapping[ordinal_column].get(v, v)\n",
    "    )\n"
   ],
   "id": "1c8b34ce1e180904",
   "outputs": [
    {
     "name": "stdout",
     "output_type": "stream",
     "text": [
      "\n",
      "Missing Values:\n",
      "mod_date                    0\n",
      "pub_date                    0\n",
      "cvss                        0\n",
      "cwe_code                    0\n",
      "cwe_name                    0\n",
      "summary                     0\n",
      "access_authentication     884\n",
      "access_complexity         884\n",
      "access_vector             884\n",
      "impact_availability       884\n",
      "impact_confidentiality    884\n",
      "impact_integrity          884\n",
      "dtype: int64\n",
      "\n",
      "Dataset Info:\n",
      "<class 'pandas.core.frame.DataFrame'>\n",
      "Index: 89660 entries, CVE-2019-16548 to CVE-2007-3004\n",
      "Data columns (total 12 columns):\n",
      " #   Column                  Non-Null Count  Dtype         \n",
      "---  ------                  --------------  -----         \n",
      " 0   mod_date                89660 non-null  datetime64[ns]\n",
      " 1   pub_date                89660 non-null  datetime64[ns]\n",
      " 2   cvss                    89660 non-null  float64       \n",
      " 3   cwe_code                89660 non-null  int64         \n",
      " 4   cwe_name                89660 non-null  object        \n",
      " 5   summary                 89660 non-null  object        \n",
      " 6   access_authentication   88776 non-null  object        \n",
      " 7   access_complexity       88776 non-null  object        \n",
      " 8   access_vector           88776 non-null  object        \n",
      " 9   impact_availability     88776 non-null  object        \n",
      " 10  impact_confidentiality  88776 non-null  object        \n",
      " 11  impact_integrity        88776 non-null  object        \n",
      "dtypes: datetime64[ns](2), float64(1), int64(1), object(8)\n",
      "memory usage: 8.9+ MB\n"
     ]
    }
   ],
   "execution_count": 134
  },
  {
   "metadata": {
    "ExecuteTime": {
     "end_time": "2025-04-22T14:36:46.378850Z",
     "start_time": "2025-04-22T14:36:46.353005Z"
    }
   },
   "cell_type": "code",
   "source": [
    "# Summary statistics for numeric columns (e.g., mean, min, max)\n",
    "print(\"\\nSummary Statistics:\")\n",
    "print(df.describe())"
   ],
   "id": "a348d7c84411d0a9",
   "outputs": [
    {
     "name": "stdout",
     "output_type": "stream",
     "text": [
      "\n",
      "Summary Statistics:\n",
      "                            mod_date                       pub_date  \\\n",
      "count                          89660                          89660   \n",
      "mean   2017-09-26 16:10:18.163952640  2015-03-10 06:07:30.900067072   \n",
      "min              2008-01-10 05:00:00            1999-01-01 05:00:00   \n",
      "25%              2017-07-14 14:51:45            2012-04-25 10:10:00   \n",
      "50%              2018-03-05 15:56:30            2016-08-08 01:59:00   \n",
      "75%              2019-04-05 18:16:30            2018-06-17 16:29:00   \n",
      "max              2019-11-21 15:15:00            2019-11-21 15:15:00   \n",
      "std                              NaN                            NaN   \n",
      "\n",
      "               cvss      cwe_code  access_authentication  access_complexity  \\\n",
      "count  89660.000000  89660.000000           88776.000000       88776.000000   \n",
      "mean       6.021429    199.690854               0.135419           0.512470   \n",
      "min        0.000000      1.000000               0.000000           0.000000   \n",
      "25%        4.300000     79.000000               0.000000           0.000000   \n",
      "50%        5.800000    119.000000               0.000000           0.000000   \n",
      "75%        7.500000    284.000000               0.000000           1.000000   \n",
      "max       10.000000   1188.000000               2.000000           2.000000   \n",
      "std        1.994757    176.177244               0.342929           0.552613   \n",
      "\n",
      "       access_vector  impact_availability  impact_confidentiality  \\\n",
      "count   88776.000000         88776.000000            88776.000000   \n",
      "mean        1.744019             0.862609                0.865943   \n",
      "min         0.000000             0.000000                0.000000   \n",
      "25%         2.000000             0.000000                0.000000   \n",
      "50%         2.000000             1.000000                1.000000   \n",
      "75%         2.000000             1.000000                1.000000   \n",
      "max         2.000000             2.000000                2.000000   \n",
      "std         0.645709             0.758760                0.713088   \n",
      "\n",
      "       impact_integrity  \n",
      "count      88776.000000  \n",
      "mean           0.902079  \n",
      "min            0.000000  \n",
      "25%            0.000000  \n",
      "50%            1.000000  \n",
      "75%            1.000000  \n",
      "max            2.000000  \n",
      "std            0.684279  \n"
     ]
    }
   ],
   "execution_count": 116
  },
  {
   "metadata": {
    "ExecuteTime": {
     "end_time": "2025-04-22T14:36:46.398587Z",
     "start_time": "2025-04-22T14:36:46.396929Z"
    }
   },
   "cell_type": "code",
   "source": [
    "# Display the column names\n",
    "print(df.columns.tolist())"
   ],
   "id": "8a59f8170a7c6081",
   "outputs": [
    {
     "name": "stdout",
     "output_type": "stream",
     "text": [
      "['mod_date', 'pub_date', 'cvss', 'cwe_code', 'cwe_name', 'summary', 'access_authentication', 'access_complexity', 'access_vector', 'impact_availability', 'impact_confidentiality', 'impact_integrity']\n"
     ]
    }
   ],
   "execution_count": 117
  },
  {
   "metadata": {},
   "cell_type": "markdown",
   "source": "# 🧼 2. Handling Missing Data",
   "id": "1012c1ca37e6eca3"
  },
  {
   "metadata": {
    "ExecuteTime": {
     "end_time": "2025-04-22T18:00:01.678064Z",
     "start_time": "2025-04-22T18:00:01.597030Z"
    }
   },
   "cell_type": "code",
   "source": [
    "# Check for missing values in each column\n",
    "missing_counts = df.isnull().sum()\n",
    "print(\"Missing Data Count:\\n\", missing_counts)\n",
    "\n",
    "# Remove rows with missing values\n",
    "cleaned_df = df.dropna()\n",
    "print(\"\\nCleaned DataFrame Head:\")\n",
    "print(cleaned_df.head())\n"
   ],
   "id": "197a3b652eb5af82",
   "outputs": [
    {
     "name": "stdout",
     "output_type": "stream",
     "text": [
      "Missing Data Count:\n",
      " mod_date                    0\n",
      "pub_date                    0\n",
      "cvss                        0\n",
      "cwe_code                    0\n",
      "cwe_name                    0\n",
      "summary                     0\n",
      "access_authentication     884\n",
      "access_complexity         884\n",
      "access_vector             884\n",
      "impact_availability       884\n",
      "impact_confidentiality    884\n",
      "impact_integrity          884\n",
      "dtype: int64\n",
      "\n",
      "Cleaned DataFrame Head:\n",
      "                          mod_date            pub_date  cvss  cwe_code  \\\n",
      "CVE-2019-2211  2019-11-14 21:36:00 2019-11-13 18:15:00   7.8        89   \n",
      "CVE-2019-2212  2019-11-14 21:30:00 2019-11-13 18:15:00   4.9       200   \n",
      "CVE-2019-2213  2019-11-14 21:24:00 2019-11-13 18:15:00   6.9       416   \n",
      "CVE-2019-2214  2019-11-14 21:19:00 2019-11-13 18:15:00   7.2       269   \n",
      "CVE-2019-18793 2019-11-14 21:14:00 2019-11-13 20:15:00   4.3        79   \n",
      "\n",
      "                                                         cwe_name  \\\n",
      "CVE-2019-2211    Improper Neutralization of Special Elements u...   \n",
      "CVE-2019-2212                                Information Exposure   \n",
      "CVE-2019-2213                                      Use After Free   \n",
      "CVE-2019-2214                       Improper Privilege Management   \n",
      "CVE-2019-18793   Improper Neutralization of Input During Web P...   \n",
      "\n",
      "                                                          summary  \\\n",
      "CVE-2019-2211   In createProjectionMapForQuery of TvProvider.j...   \n",
      "CVE-2019-2212   In poisson_distribution of random, there is an...   \n",
      "CVE-2019-2213   In binder_free_transaction of binder.c, there ...   \n",
      "CVE-2019-2214   In binder_transaction of binder.c, there is a ...   \n",
      "CVE-2019-18793  Parallels Plesk Panel 9.5 allows XSS in target...   \n",
      "\n",
      "                access_authentication  access_complexity  access_vector  \\\n",
      "CVE-2019-2211                     0.0                0.0            2.0   \n",
      "CVE-2019-2212                     0.0                0.0            0.0   \n",
      "CVE-2019-2213                     0.0                1.0            0.0   \n",
      "CVE-2019-2214                     0.0                0.0            0.0   \n",
      "CVE-2019-18793                    0.0                1.0            2.0   \n",
      "\n",
      "                impact_availability  impact_confidentiality  impact_integrity  \n",
      "CVE-2019-2211                   0.0                     2.0               0.0  \n",
      "CVE-2019-2212                   0.0                     2.0               0.0  \n",
      "CVE-2019-2213                   2.0                     2.0               2.0  \n",
      "CVE-2019-2214                   2.0                     2.0               2.0  \n",
      "CVE-2019-18793                  0.0                     0.0               1.0  \n",
      "\n",
      "Value counts of 'cwe_name' entries containing 'Improper':\n",
      "cwe_name\n",
      "Improper Restriction of Operations within the Bounds of a Memory Buffer                        12344\n",
      "Improper Neutralization of Input During Web Page Generation ('Cross-site Scripting')           12339\n",
      "Improper Input Validation                                                                       7884\n",
      "Improper Neutralization of Special Elements used in an SQL Command ('SQL Injection')            5758\n",
      "Improper Limitation of a Pathname to a Restricted Directory ('Path Traversal')                  3071\n",
      "Improper Control of Generation of Code ('Code Injection')                                       2419\n",
      "Improper Authentication                                                                         1802\n",
      "Improper Access Control                                                                         1658\n",
      "Improper Neutralization of Special Elements used in an OS Command ('OS Command Injection')       829\n",
      "Concurrent Execution using Shared Resource with Improper Synchronization ('Race Condition')      644\n",
      "Improper Link Resolution Before File Access ('Link Following')                                   543\n",
      "Improper Neutralization of Special Elements used in a Command ('Command Injection')              520\n",
      "Improper Restriction of XML External Entity Reference                                            421\n",
      "Improper Certificate Validation                                                                  392\n",
      "Improper Privilege Management                                                                    390\n",
      "Improper Authorization                                                                           117\n",
      "Improper Verification of Cryptographic Signature                                                  82\n",
      "Improper Validation of Array Index                                                                78\n",
      "Improper Resource Shutdown or Release                                                             61\n",
      "Improper Handling of Exceptional Conditions                                                       49\n",
      "Improper Initialization                                                                           48\n",
      "Improper Check for Unusual or Exceptional Conditions                                              42\n",
      "Improper Neutralization of CRLF Sequences ('CRLF Injection')                                      34\n",
      "Improper Preservation of Permissions                                                              31\n",
      "Improper Restriction of Excessive Authentication Attempts                                         24\n",
      "Improper Neutralization of CRLF Sequences in HTTP Headers ('HTTP Response Splitting')             24\n",
      "Improperly Implemented Security Check for Standard                                                23\n",
      "Improper Neutralization of Argument Delimiters in a Command ('Argument Injection')                20\n",
      "Improper Restriction of Rendered UI Layers or Frames                                              12\n",
      "Improper Encoding or Escaping of Output                                                           12\n",
      "Improper Neutralization of Special Elements used in an LDAP Query ('LDAP Injection')              11\n",
      "Improper Validation of Integrity Check Value                                                       8\n",
      "Improper Validation of Certificate with Host Mismatch                                              8\n",
      "Improper Check for Dropped Privileges                                                              5\n",
      "Improper Restriction of Recursive Entity References in DTDs ('XML Entity Expansion')               4\n",
      "Improper Handling of Case Sensitivity                                                              3\n",
      "Improper Control of Dynamically-Managed Code Resources                                             3\n",
      "Improper Control of Resource Identifiers ('Resource Injection')                                    3\n",
      "Improper Enforcement of Message Integrity During Transmission in a Communication Channel           3\n",
      "Improper Neutralization of Special Elements in Data Query Logic                                    3\n",
      "Improper Restriction of Power Consumption                                                          2\n",
      "Improperly Controlled Modification of Dynamically-Determined Object Attributes                     2\n",
      "Improper Enforcement of Message or Data Structure                                                  2\n",
      "Improper Control of a Resource Through its Lifetime                                                2\n",
      "Name: count, dtype: int64\n"
     ]
    }
   ],
   "execution_count": 140
  },
  {
   "metadata": {
    "ExecuteTime": {
     "end_time": "2025-04-22T14:36:46.533078Z",
     "start_time": "2025-04-22T14:36:46.530184Z"
    }
   },
   "cell_type": "code",
   "source": [
    "# Extract the 'summary' column as a NumPy array\n",
    "summary_array = df['summary'].to_numpy()\n",
    "\n",
    "# Show the first 10 values to understand the data\n",
    "print(summary_array[:10])"
   ],
   "id": "66abb14f2f34490e",
   "outputs": [
    {
     "name": "stdout",
     "output_type": "stream",
     "text": [
      "['A cross-site request forgery vulnerability in Jenkins Google Compute Engine Plugin 4.1.1 and earlier in ComputeEngineCloud#doProvision could be used to provision new agents.'\n",
      " 'Missing permission checks in various API endpoints in Jenkins Google Compute Engine Plugin 4.1.1 and earlier allow attackers with Overall/Read permission to obtain limited information about the plugin configuration and environment.'\n",
      " 'Jenkins Google Compute Engine Plugin 4.1.1 and earlier does not verify SSH host keys when connecting agents created by the plugin, enabling man-in-the-middle attacks.'\n",
      " 'Cross-site Scripting (XSS) in Dolibarr ERP/CRM 3.3.1 allows remote attackers to inject arbitrary web script or HTML in functions.lib.php.'\n",
      " \"SQL injection vulnerability in Dolibarr ERP/CRM 3.3.1 allows remote attackers to execute arbitrary SQL commands via the 'pays' parameter in fiche.php.\"\n",
      " 'MediaWiki before 1.19.4 and 1.20.x before 1.20.3 contains an error in the api.php script which allows remote attackers to obtain sensitive information.'\n",
      " 'MediaWiki before 1.19.4 and 1.20.x before 1.20.3 allows remote attackers to cause a denial of service (application crash) by sending a specially crafted request.'\n",
      " 'Pidgin 2.10.0 uses DBUS for certain cleartext communication, which allows local users to obtain sensitive information via a dbus session monitor.'\n",
      " 'Multiple cross-site scripting vulnerabilities in Tiki 7.2 and earlier allow remote attackers to inject arbitrary web script or HTML via the path info to (1) tiki-admin_system.php, (2) tiki-pagehistory.php, (3) tiki-removepage.php, or (4) tiki-rename_page.php.'\n",
      " 'Multiple cross-site scripting vulnerabilities in Tiki 8.0 RC1 and earlier allow remote attackers to inject arbitrary web script or HTML via the path info to (1) tiki-remind_password.php, (2) tiki-index.php, (3) tiki-login_scr.php, or (4) tiki-index.']\n"
     ]
    }
   ],
   "execution_count": 119
  },
  {
   "metadata": {},
   "cell_type": "markdown",
   "source": "# 3. Time-Series Data",
   "id": "ed28c4b360da8eb6"
  },
  {
   "metadata": {
    "ExecuteTime": {
     "end_time": "2025-04-22T18:00:57.156648Z",
     "start_time": "2025-04-22T18:00:57.116868Z"
    }
   },
   "cell_type": "code",
   "source": [
    "# Convert 'pub_date' column to datetime format\n",
    "df['pub_date'] = pd.to_datetime(df['pub_date'])  # Convert to datetime format\n",
    "df.set_index('pub_date', inplace=True) # Display the converted dates"
   ],
   "id": "5bcd8aebc0880e1c",
   "outputs": [],
   "execution_count": 141
  },
  {
   "metadata": {
    "ExecuteTime": {
     "end_time": "2025-04-22T14:40:41.789002Z",
     "start_time": "2025-04-22T14:40:41.749702Z"
    }
   },
   "cell_type": "code",
   "source": [
    "# General count of events over time\n",
    "df['pub_year'] = df.index.year\n",
    "year_x_count = df.groupby(\"pub_year\").size().reset_index(name=\"count\")\n",
    "fig = px.line(year_x_count, x=\"pub_year\", y=\"count\", log_y=True, title=\"CVE Count Over Time (Log Scale)\")\n",
    "fig.show()"
   ],
   "id": "b67b7f817d5c6ffd",
   "outputs": [
    {
     "data": {
      "application/vnd.plotly.v1+json": {
       "data": [
        {
         "hovertemplate": "pub_year=%{x}<br>count=%{y}<extra></extra>",
         "legendgroup": "",
         "line": {
          "color": "#636efa",
          "dash": "solid"
         },
         "marker": {
          "symbol": "circle"
         },
         "mode": "lines",
         "name": "",
         "orientation": "v",
         "showlegend": false,
         "x": [
          1999,
          2000,
          2001,
          2002,
          2003,
          2004,
          2005,
          2006,
          2007,
          2008,
          2009,
          2010,
          2011,
          2012,
          2013,
          2014,
          2015,
          2016,
          2017,
          2018,
          2019
         ],
         "xaxis": "x",
         "y": [
          46,
          18,
          34,
          217,
          245,
          147,
          356,
          864,
          2435,
          4991,
          4909,
          3755,
          3396,
          4135,
          4125,
          6825,
          5217,
          5325,
          12965,
          14855,
          14800
         ],
         "yaxis": "y",
         "type": "scatter"
        }
       ],
       "layout": {
        "template": {
         "data": {
          "histogram2dcontour": [
           {
            "type": "histogram2dcontour",
            "colorbar": {
             "outlinewidth": 0,
             "ticks": ""
            },
            "colorscale": [
             [
              0.0,
              "#0d0887"
             ],
             [
              0.1111111111111111,
              "#46039f"
             ],
             [
              0.2222222222222222,
              "#7201a8"
             ],
             [
              0.3333333333333333,
              "#9c179e"
             ],
             [
              0.4444444444444444,
              "#bd3786"
             ],
             [
              0.5555555555555556,
              "#d8576b"
             ],
             [
              0.6666666666666666,
              "#ed7953"
             ],
             [
              0.7777777777777778,
              "#fb9f3a"
             ],
             [
              0.8888888888888888,
              "#fdca26"
             ],
             [
              1.0,
              "#f0f921"
             ]
            ]
           }
          ],
          "choropleth": [
           {
            "type": "choropleth",
            "colorbar": {
             "outlinewidth": 0,
             "ticks": ""
            }
           }
          ],
          "histogram2d": [
           {
            "type": "histogram2d",
            "colorbar": {
             "outlinewidth": 0,
             "ticks": ""
            },
            "colorscale": [
             [
              0.0,
              "#0d0887"
             ],
             [
              0.1111111111111111,
              "#46039f"
             ],
             [
              0.2222222222222222,
              "#7201a8"
             ],
             [
              0.3333333333333333,
              "#9c179e"
             ],
             [
              0.4444444444444444,
              "#bd3786"
             ],
             [
              0.5555555555555556,
              "#d8576b"
             ],
             [
              0.6666666666666666,
              "#ed7953"
             ],
             [
              0.7777777777777778,
              "#fb9f3a"
             ],
             [
              0.8888888888888888,
              "#fdca26"
             ],
             [
              1.0,
              "#f0f921"
             ]
            ]
           }
          ],
          "heatmap": [
           {
            "type": "heatmap",
            "colorbar": {
             "outlinewidth": 0,
             "ticks": ""
            },
            "colorscale": [
             [
              0.0,
              "#0d0887"
             ],
             [
              0.1111111111111111,
              "#46039f"
             ],
             [
              0.2222222222222222,
              "#7201a8"
             ],
             [
              0.3333333333333333,
              "#9c179e"
             ],
             [
              0.4444444444444444,
              "#bd3786"
             ],
             [
              0.5555555555555556,
              "#d8576b"
             ],
             [
              0.6666666666666666,
              "#ed7953"
             ],
             [
              0.7777777777777778,
              "#fb9f3a"
             ],
             [
              0.8888888888888888,
              "#fdca26"
             ],
             [
              1.0,
              "#f0f921"
             ]
            ]
           }
          ],
          "heatmapgl": [
           {
            "type": "heatmapgl",
            "colorbar": {
             "outlinewidth": 0,
             "ticks": ""
            },
            "colorscale": [
             [
              0.0,
              "#0d0887"
             ],
             [
              0.1111111111111111,
              "#46039f"
             ],
             [
              0.2222222222222222,
              "#7201a8"
             ],
             [
              0.3333333333333333,
              "#9c179e"
             ],
             [
              0.4444444444444444,
              "#bd3786"
             ],
             [
              0.5555555555555556,
              "#d8576b"
             ],
             [
              0.6666666666666666,
              "#ed7953"
             ],
             [
              0.7777777777777778,
              "#fb9f3a"
             ],
             [
              0.8888888888888888,
              "#fdca26"
             ],
             [
              1.0,
              "#f0f921"
             ]
            ]
           }
          ],
          "contourcarpet": [
           {
            "type": "contourcarpet",
            "colorbar": {
             "outlinewidth": 0,
             "ticks": ""
            }
           }
          ],
          "contour": [
           {
            "type": "contour",
            "colorbar": {
             "outlinewidth": 0,
             "ticks": ""
            },
            "colorscale": [
             [
              0.0,
              "#0d0887"
             ],
             [
              0.1111111111111111,
              "#46039f"
             ],
             [
              0.2222222222222222,
              "#7201a8"
             ],
             [
              0.3333333333333333,
              "#9c179e"
             ],
             [
              0.4444444444444444,
              "#bd3786"
             ],
             [
              0.5555555555555556,
              "#d8576b"
             ],
             [
              0.6666666666666666,
              "#ed7953"
             ],
             [
              0.7777777777777778,
              "#fb9f3a"
             ],
             [
              0.8888888888888888,
              "#fdca26"
             ],
             [
              1.0,
              "#f0f921"
             ]
            ]
           }
          ],
          "surface": [
           {
            "type": "surface",
            "colorbar": {
             "outlinewidth": 0,
             "ticks": ""
            },
            "colorscale": [
             [
              0.0,
              "#0d0887"
             ],
             [
              0.1111111111111111,
              "#46039f"
             ],
             [
              0.2222222222222222,
              "#7201a8"
             ],
             [
              0.3333333333333333,
              "#9c179e"
             ],
             [
              0.4444444444444444,
              "#bd3786"
             ],
             [
              0.5555555555555556,
              "#d8576b"
             ],
             [
              0.6666666666666666,
              "#ed7953"
             ],
             [
              0.7777777777777778,
              "#fb9f3a"
             ],
             [
              0.8888888888888888,
              "#fdca26"
             ],
             [
              1.0,
              "#f0f921"
             ]
            ]
           }
          ],
          "mesh3d": [
           {
            "type": "mesh3d",
            "colorbar": {
             "outlinewidth": 0,
             "ticks": ""
            }
           }
          ],
          "scatter": [
           {
            "marker": {
             "line": {
              "color": "#283442"
             }
            },
            "type": "scatter"
           }
          ],
          "parcoords": [
           {
            "type": "parcoords",
            "line": {
             "colorbar": {
              "outlinewidth": 0,
              "ticks": ""
             }
            }
           }
          ],
          "scatterpolargl": [
           {
            "type": "scatterpolargl",
            "marker": {
             "colorbar": {
              "outlinewidth": 0,
              "ticks": ""
             }
            }
           }
          ],
          "bar": [
           {
            "error_x": {
             "color": "#f2f5fa"
            },
            "error_y": {
             "color": "#f2f5fa"
            },
            "marker": {
             "line": {
              "color": "rgb(17,17,17)",
              "width": 0.5
             },
             "pattern": {
              "fillmode": "overlay",
              "size": 10,
              "solidity": 0.2
             }
            },
            "type": "bar"
           }
          ],
          "scattergeo": [
           {
            "type": "scattergeo",
            "marker": {
             "colorbar": {
              "outlinewidth": 0,
              "ticks": ""
             }
            }
           }
          ],
          "scatterpolar": [
           {
            "type": "scatterpolar",
            "marker": {
             "colorbar": {
              "outlinewidth": 0,
              "ticks": ""
             }
            }
           }
          ],
          "histogram": [
           {
            "marker": {
             "pattern": {
              "fillmode": "overlay",
              "size": 10,
              "solidity": 0.2
             }
            },
            "type": "histogram"
           }
          ],
          "scattergl": [
           {
            "marker": {
             "line": {
              "color": "#283442"
             }
            },
            "type": "scattergl"
           }
          ],
          "scatter3d": [
           {
            "type": "scatter3d",
            "line": {
             "colorbar": {
              "outlinewidth": 0,
              "ticks": ""
             }
            },
            "marker": {
             "colorbar": {
              "outlinewidth": 0,
              "ticks": ""
             }
            }
           }
          ],
          "scattermapbox": [
           {
            "type": "scattermapbox",
            "marker": {
             "colorbar": {
              "outlinewidth": 0,
              "ticks": ""
             }
            }
           }
          ],
          "scatterternary": [
           {
            "type": "scatterternary",
            "marker": {
             "colorbar": {
              "outlinewidth": 0,
              "ticks": ""
             }
            }
           }
          ],
          "scattercarpet": [
           {
            "type": "scattercarpet",
            "marker": {
             "colorbar": {
              "outlinewidth": 0,
              "ticks": ""
             }
            }
           }
          ],
          "carpet": [
           {
            "aaxis": {
             "endlinecolor": "#A2B1C6",
             "gridcolor": "#506784",
             "linecolor": "#506784",
             "minorgridcolor": "#506784",
             "startlinecolor": "#A2B1C6"
            },
            "baxis": {
             "endlinecolor": "#A2B1C6",
             "gridcolor": "#506784",
             "linecolor": "#506784",
             "minorgridcolor": "#506784",
             "startlinecolor": "#A2B1C6"
            },
            "type": "carpet"
           }
          ],
          "table": [
           {
            "cells": {
             "fill": {
              "color": "#506784"
             },
             "line": {
              "color": "rgb(17,17,17)"
             }
            },
            "header": {
             "fill": {
              "color": "#2a3f5f"
             },
             "line": {
              "color": "rgb(17,17,17)"
             }
            },
            "type": "table"
           }
          ],
          "barpolar": [
           {
            "marker": {
             "line": {
              "color": "rgb(17,17,17)",
              "width": 0.5
             },
             "pattern": {
              "fillmode": "overlay",
              "size": 10,
              "solidity": 0.2
             }
            },
            "type": "barpolar"
           }
          ],
          "pie": [
           {
            "automargin": true,
            "type": "pie"
           }
          ]
         },
         "layout": {
          "autotypenumbers": "strict",
          "colorway": [
           "#636efa",
           "#EF553B",
           "#00cc96",
           "#ab63fa",
           "#FFA15A",
           "#19d3f3",
           "#FF6692",
           "#B6E880",
           "#FF97FF",
           "#FECB52"
          ],
          "font": {
           "color": "#f2f5fa"
          },
          "hovermode": "closest",
          "hoverlabel": {
           "align": "left"
          },
          "paper_bgcolor": "rgb(17,17,17)",
          "plot_bgcolor": "rgb(17,17,17)",
          "polar": {
           "bgcolor": "rgb(17,17,17)",
           "angularaxis": {
            "gridcolor": "#506784",
            "linecolor": "#506784",
            "ticks": ""
           },
           "radialaxis": {
            "gridcolor": "#506784",
            "linecolor": "#506784",
            "ticks": ""
           }
          },
          "ternary": {
           "bgcolor": "rgb(17,17,17)",
           "aaxis": {
            "gridcolor": "#506784",
            "linecolor": "#506784",
            "ticks": ""
           },
           "baxis": {
            "gridcolor": "#506784",
            "linecolor": "#506784",
            "ticks": ""
           },
           "caxis": {
            "gridcolor": "#506784",
            "linecolor": "#506784",
            "ticks": ""
           }
          },
          "coloraxis": {
           "colorbar": {
            "outlinewidth": 0,
            "ticks": ""
           }
          },
          "colorscale": {
           "sequential": [
            [
             0.0,
             "#0d0887"
            ],
            [
             0.1111111111111111,
             "#46039f"
            ],
            [
             0.2222222222222222,
             "#7201a8"
            ],
            [
             0.3333333333333333,
             "#9c179e"
            ],
            [
             0.4444444444444444,
             "#bd3786"
            ],
            [
             0.5555555555555556,
             "#d8576b"
            ],
            [
             0.6666666666666666,
             "#ed7953"
            ],
            [
             0.7777777777777778,
             "#fb9f3a"
            ],
            [
             0.8888888888888888,
             "#fdca26"
            ],
            [
             1.0,
             "#f0f921"
            ]
           ],
           "sequentialminus": [
            [
             0.0,
             "#0d0887"
            ],
            [
             0.1111111111111111,
             "#46039f"
            ],
            [
             0.2222222222222222,
             "#7201a8"
            ],
            [
             0.3333333333333333,
             "#9c179e"
            ],
            [
             0.4444444444444444,
             "#bd3786"
            ],
            [
             0.5555555555555556,
             "#d8576b"
            ],
            [
             0.6666666666666666,
             "#ed7953"
            ],
            [
             0.7777777777777778,
             "#fb9f3a"
            ],
            [
             0.8888888888888888,
             "#fdca26"
            ],
            [
             1.0,
             "#f0f921"
            ]
           ],
           "diverging": [
            [
             0,
             "#8e0152"
            ],
            [
             0.1,
             "#c51b7d"
            ],
            [
             0.2,
             "#de77ae"
            ],
            [
             0.3,
             "#f1b6da"
            ],
            [
             0.4,
             "#fde0ef"
            ],
            [
             0.5,
             "#f7f7f7"
            ],
            [
             0.6,
             "#e6f5d0"
            ],
            [
             0.7,
             "#b8e186"
            ],
            [
             0.8,
             "#7fbc41"
            ],
            [
             0.9,
             "#4d9221"
            ],
            [
             1,
             "#276419"
            ]
           ]
          },
          "xaxis": {
           "gridcolor": "#283442",
           "linecolor": "#506784",
           "ticks": "",
           "title": {
            "standoff": 15
           },
           "zerolinecolor": "#283442",
           "automargin": true,
           "zerolinewidth": 2
          },
          "yaxis": {
           "gridcolor": "#283442",
           "linecolor": "#506784",
           "ticks": "",
           "title": {
            "standoff": 15
           },
           "zerolinecolor": "#283442",
           "automargin": true,
           "zerolinewidth": 2
          },
          "scene": {
           "xaxis": {
            "backgroundcolor": "rgb(17,17,17)",
            "gridcolor": "#506784",
            "linecolor": "#506784",
            "showbackground": true,
            "ticks": "",
            "zerolinecolor": "#C8D4E3",
            "gridwidth": 2
           },
           "yaxis": {
            "backgroundcolor": "rgb(17,17,17)",
            "gridcolor": "#506784",
            "linecolor": "#506784",
            "showbackground": true,
            "ticks": "",
            "zerolinecolor": "#C8D4E3",
            "gridwidth": 2
           },
           "zaxis": {
            "backgroundcolor": "rgb(17,17,17)",
            "gridcolor": "#506784",
            "linecolor": "#506784",
            "showbackground": true,
            "ticks": "",
            "zerolinecolor": "#C8D4E3",
            "gridwidth": 2
           }
          },
          "shapedefaults": {
           "line": {
            "color": "#f2f5fa"
           }
          },
          "annotationdefaults": {
           "arrowcolor": "#f2f5fa",
           "arrowhead": 0,
           "arrowwidth": 1
          },
          "geo": {
           "bgcolor": "rgb(17,17,17)",
           "landcolor": "rgb(17,17,17)",
           "subunitcolor": "#506784",
           "showland": true,
           "showlakes": true,
           "lakecolor": "rgb(17,17,17)"
          },
          "title": {
           "x": 0.05
          },
          "updatemenudefaults": {
           "bgcolor": "#506784",
           "borderwidth": 0
          },
          "sliderdefaults": {
           "bgcolor": "#C8D4E3",
           "borderwidth": 1,
           "bordercolor": "rgb(17,17,17)",
           "tickwidth": 0
          },
          "mapbox": {
           "style": "dark"
          }
         }
        },
        "xaxis": {
         "anchor": "y",
         "domain": [
          0.0,
          1.0
         ],
         "title": {
          "text": "pub_year"
         }
        },
        "yaxis": {
         "anchor": "x",
         "domain": [
          0.0,
          1.0
         ],
         "title": {
          "text": "count"
         },
         "type": "log"
        },
        "legend": {
         "tracegroupgap": 0
        },
        "title": {
         "text": "CVE Count Over Time (Log Scale)"
        }
       },
       "config": {
        "plotlyServerURL": "https://plot.ly"
       }
      },
      "text/html": [
       "<div>                            <div id=\"254c610a-5f8d-4a93-8eca-1f7bc6a3b1ee\" class=\"plotly-graph-div\" style=\"height:525px; width:100%;\"></div>            <script type=\"text/javascript\">                require([\"plotly\"], function(Plotly) {                    window.PLOTLYENV=window.PLOTLYENV || {};                                    if (document.getElementById(\"254c610a-5f8d-4a93-8eca-1f7bc6a3b1ee\")) {                    Plotly.newPlot(                        \"254c610a-5f8d-4a93-8eca-1f7bc6a3b1ee\",                        [{\"hovertemplate\":\"pub_year=%{x}\\u003cbr\\u003ecount=%{y}\\u003cextra\\u003e\\u003c\\u002fextra\\u003e\",\"legendgroup\":\"\",\"line\":{\"color\":\"#636efa\",\"dash\":\"solid\"},\"marker\":{\"symbol\":\"circle\"},\"mode\":\"lines\",\"name\":\"\",\"orientation\":\"v\",\"showlegend\":false,\"x\":[1999,2000,2001,2002,2003,2004,2005,2006,2007,2008,2009,2010,2011,2012,2013,2014,2015,2016,2017,2018,2019],\"xaxis\":\"x\",\"y\":[46,18,34,217,245,147,356,864,2435,4991,4909,3755,3396,4135,4125,6825,5217,5325,12965,14855,14800],\"yaxis\":\"y\",\"type\":\"scatter\"}],                        {\"template\":{\"data\":{\"histogram2dcontour\":[{\"type\":\"histogram2dcontour\",\"colorbar\":{\"outlinewidth\":0,\"ticks\":\"\"},\"colorscale\":[[0.0,\"#0d0887\"],[0.1111111111111111,\"#46039f\"],[0.2222222222222222,\"#7201a8\"],[0.3333333333333333,\"#9c179e\"],[0.4444444444444444,\"#bd3786\"],[0.5555555555555556,\"#d8576b\"],[0.6666666666666666,\"#ed7953\"],[0.7777777777777778,\"#fb9f3a\"],[0.8888888888888888,\"#fdca26\"],[1.0,\"#f0f921\"]]}],\"choropleth\":[{\"type\":\"choropleth\",\"colorbar\":{\"outlinewidth\":0,\"ticks\":\"\"}}],\"histogram2d\":[{\"type\":\"histogram2d\",\"colorbar\":{\"outlinewidth\":0,\"ticks\":\"\"},\"colorscale\":[[0.0,\"#0d0887\"],[0.1111111111111111,\"#46039f\"],[0.2222222222222222,\"#7201a8\"],[0.3333333333333333,\"#9c179e\"],[0.4444444444444444,\"#bd3786\"],[0.5555555555555556,\"#d8576b\"],[0.6666666666666666,\"#ed7953\"],[0.7777777777777778,\"#fb9f3a\"],[0.8888888888888888,\"#fdca26\"],[1.0,\"#f0f921\"]]}],\"heatmap\":[{\"type\":\"heatmap\",\"colorbar\":{\"outlinewidth\":0,\"ticks\":\"\"},\"colorscale\":[[0.0,\"#0d0887\"],[0.1111111111111111,\"#46039f\"],[0.2222222222222222,\"#7201a8\"],[0.3333333333333333,\"#9c179e\"],[0.4444444444444444,\"#bd3786\"],[0.5555555555555556,\"#d8576b\"],[0.6666666666666666,\"#ed7953\"],[0.7777777777777778,\"#fb9f3a\"],[0.8888888888888888,\"#fdca26\"],[1.0,\"#f0f921\"]]}],\"heatmapgl\":[{\"type\":\"heatmapgl\",\"colorbar\":{\"outlinewidth\":0,\"ticks\":\"\"},\"colorscale\":[[0.0,\"#0d0887\"],[0.1111111111111111,\"#46039f\"],[0.2222222222222222,\"#7201a8\"],[0.3333333333333333,\"#9c179e\"],[0.4444444444444444,\"#bd3786\"],[0.5555555555555556,\"#d8576b\"],[0.6666666666666666,\"#ed7953\"],[0.7777777777777778,\"#fb9f3a\"],[0.8888888888888888,\"#fdca26\"],[1.0,\"#f0f921\"]]}],\"contourcarpet\":[{\"type\":\"contourcarpet\",\"colorbar\":{\"outlinewidth\":0,\"ticks\":\"\"}}],\"contour\":[{\"type\":\"contour\",\"colorbar\":{\"outlinewidth\":0,\"ticks\":\"\"},\"colorscale\":[[0.0,\"#0d0887\"],[0.1111111111111111,\"#46039f\"],[0.2222222222222222,\"#7201a8\"],[0.3333333333333333,\"#9c179e\"],[0.4444444444444444,\"#bd3786\"],[0.5555555555555556,\"#d8576b\"],[0.6666666666666666,\"#ed7953\"],[0.7777777777777778,\"#fb9f3a\"],[0.8888888888888888,\"#fdca26\"],[1.0,\"#f0f921\"]]}],\"surface\":[{\"type\":\"surface\",\"colorbar\":{\"outlinewidth\":0,\"ticks\":\"\"},\"colorscale\":[[0.0,\"#0d0887\"],[0.1111111111111111,\"#46039f\"],[0.2222222222222222,\"#7201a8\"],[0.3333333333333333,\"#9c179e\"],[0.4444444444444444,\"#bd3786\"],[0.5555555555555556,\"#d8576b\"],[0.6666666666666666,\"#ed7953\"],[0.7777777777777778,\"#fb9f3a\"],[0.8888888888888888,\"#fdca26\"],[1.0,\"#f0f921\"]]}],\"mesh3d\":[{\"type\":\"mesh3d\",\"colorbar\":{\"outlinewidth\":0,\"ticks\":\"\"}}],\"scatter\":[{\"marker\":{\"line\":{\"color\":\"#283442\"}},\"type\":\"scatter\"}],\"parcoords\":[{\"type\":\"parcoords\",\"line\":{\"colorbar\":{\"outlinewidth\":0,\"ticks\":\"\"}}}],\"scatterpolargl\":[{\"type\":\"scatterpolargl\",\"marker\":{\"colorbar\":{\"outlinewidth\":0,\"ticks\":\"\"}}}],\"bar\":[{\"error_x\":{\"color\":\"#f2f5fa\"},\"error_y\":{\"color\":\"#f2f5fa\"},\"marker\":{\"line\":{\"color\":\"rgb(17,17,17)\",\"width\":0.5},\"pattern\":{\"fillmode\":\"overlay\",\"size\":10,\"solidity\":0.2}},\"type\":\"bar\"}],\"scattergeo\":[{\"type\":\"scattergeo\",\"marker\":{\"colorbar\":{\"outlinewidth\":0,\"ticks\":\"\"}}}],\"scatterpolar\":[{\"type\":\"scatterpolar\",\"marker\":{\"colorbar\":{\"outlinewidth\":0,\"ticks\":\"\"}}}],\"histogram\":[{\"marker\":{\"pattern\":{\"fillmode\":\"overlay\",\"size\":10,\"solidity\":0.2}},\"type\":\"histogram\"}],\"scattergl\":[{\"marker\":{\"line\":{\"color\":\"#283442\"}},\"type\":\"scattergl\"}],\"scatter3d\":[{\"type\":\"scatter3d\",\"line\":{\"colorbar\":{\"outlinewidth\":0,\"ticks\":\"\"}},\"marker\":{\"colorbar\":{\"outlinewidth\":0,\"ticks\":\"\"}}}],\"scattermapbox\":[{\"type\":\"scattermapbox\",\"marker\":{\"colorbar\":{\"outlinewidth\":0,\"ticks\":\"\"}}}],\"scatterternary\":[{\"type\":\"scatterternary\",\"marker\":{\"colorbar\":{\"outlinewidth\":0,\"ticks\":\"\"}}}],\"scattercarpet\":[{\"type\":\"scattercarpet\",\"marker\":{\"colorbar\":{\"outlinewidth\":0,\"ticks\":\"\"}}}],\"carpet\":[{\"aaxis\":{\"endlinecolor\":\"#A2B1C6\",\"gridcolor\":\"#506784\",\"linecolor\":\"#506784\",\"minorgridcolor\":\"#506784\",\"startlinecolor\":\"#A2B1C6\"},\"baxis\":{\"endlinecolor\":\"#A2B1C6\",\"gridcolor\":\"#506784\",\"linecolor\":\"#506784\",\"minorgridcolor\":\"#506784\",\"startlinecolor\":\"#A2B1C6\"},\"type\":\"carpet\"}],\"table\":[{\"cells\":{\"fill\":{\"color\":\"#506784\"},\"line\":{\"color\":\"rgb(17,17,17)\"}},\"header\":{\"fill\":{\"color\":\"#2a3f5f\"},\"line\":{\"color\":\"rgb(17,17,17)\"}},\"type\":\"table\"}],\"barpolar\":[{\"marker\":{\"line\":{\"color\":\"rgb(17,17,17)\",\"width\":0.5},\"pattern\":{\"fillmode\":\"overlay\",\"size\":10,\"solidity\":0.2}},\"type\":\"barpolar\"}],\"pie\":[{\"automargin\":true,\"type\":\"pie\"}]},\"layout\":{\"autotypenumbers\":\"strict\",\"colorway\":[\"#636efa\",\"#EF553B\",\"#00cc96\",\"#ab63fa\",\"#FFA15A\",\"#19d3f3\",\"#FF6692\",\"#B6E880\",\"#FF97FF\",\"#FECB52\"],\"font\":{\"color\":\"#f2f5fa\"},\"hovermode\":\"closest\",\"hoverlabel\":{\"align\":\"left\"},\"paper_bgcolor\":\"rgb(17,17,17)\",\"plot_bgcolor\":\"rgb(17,17,17)\",\"polar\":{\"bgcolor\":\"rgb(17,17,17)\",\"angularaxis\":{\"gridcolor\":\"#506784\",\"linecolor\":\"#506784\",\"ticks\":\"\"},\"radialaxis\":{\"gridcolor\":\"#506784\",\"linecolor\":\"#506784\",\"ticks\":\"\"}},\"ternary\":{\"bgcolor\":\"rgb(17,17,17)\",\"aaxis\":{\"gridcolor\":\"#506784\",\"linecolor\":\"#506784\",\"ticks\":\"\"},\"baxis\":{\"gridcolor\":\"#506784\",\"linecolor\":\"#506784\",\"ticks\":\"\"},\"caxis\":{\"gridcolor\":\"#506784\",\"linecolor\":\"#506784\",\"ticks\":\"\"}},\"coloraxis\":{\"colorbar\":{\"outlinewidth\":0,\"ticks\":\"\"}},\"colorscale\":{\"sequential\":[[0.0,\"#0d0887\"],[0.1111111111111111,\"#46039f\"],[0.2222222222222222,\"#7201a8\"],[0.3333333333333333,\"#9c179e\"],[0.4444444444444444,\"#bd3786\"],[0.5555555555555556,\"#d8576b\"],[0.6666666666666666,\"#ed7953\"],[0.7777777777777778,\"#fb9f3a\"],[0.8888888888888888,\"#fdca26\"],[1.0,\"#f0f921\"]],\"sequentialminus\":[[0.0,\"#0d0887\"],[0.1111111111111111,\"#46039f\"],[0.2222222222222222,\"#7201a8\"],[0.3333333333333333,\"#9c179e\"],[0.4444444444444444,\"#bd3786\"],[0.5555555555555556,\"#d8576b\"],[0.6666666666666666,\"#ed7953\"],[0.7777777777777778,\"#fb9f3a\"],[0.8888888888888888,\"#fdca26\"],[1.0,\"#f0f921\"]],\"diverging\":[[0,\"#8e0152\"],[0.1,\"#c51b7d\"],[0.2,\"#de77ae\"],[0.3,\"#f1b6da\"],[0.4,\"#fde0ef\"],[0.5,\"#f7f7f7\"],[0.6,\"#e6f5d0\"],[0.7,\"#b8e186\"],[0.8,\"#7fbc41\"],[0.9,\"#4d9221\"],[1,\"#276419\"]]},\"xaxis\":{\"gridcolor\":\"#283442\",\"linecolor\":\"#506784\",\"ticks\":\"\",\"title\":{\"standoff\":15},\"zerolinecolor\":\"#283442\",\"automargin\":true,\"zerolinewidth\":2},\"yaxis\":{\"gridcolor\":\"#283442\",\"linecolor\":\"#506784\",\"ticks\":\"\",\"title\":{\"standoff\":15},\"zerolinecolor\":\"#283442\",\"automargin\":true,\"zerolinewidth\":2},\"scene\":{\"xaxis\":{\"backgroundcolor\":\"rgb(17,17,17)\",\"gridcolor\":\"#506784\",\"linecolor\":\"#506784\",\"showbackground\":true,\"ticks\":\"\",\"zerolinecolor\":\"#C8D4E3\",\"gridwidth\":2},\"yaxis\":{\"backgroundcolor\":\"rgb(17,17,17)\",\"gridcolor\":\"#506784\",\"linecolor\":\"#506784\",\"showbackground\":true,\"ticks\":\"\",\"zerolinecolor\":\"#C8D4E3\",\"gridwidth\":2},\"zaxis\":{\"backgroundcolor\":\"rgb(17,17,17)\",\"gridcolor\":\"#506784\",\"linecolor\":\"#506784\",\"showbackground\":true,\"ticks\":\"\",\"zerolinecolor\":\"#C8D4E3\",\"gridwidth\":2}},\"shapedefaults\":{\"line\":{\"color\":\"#f2f5fa\"}},\"annotationdefaults\":{\"arrowcolor\":\"#f2f5fa\",\"arrowhead\":0,\"arrowwidth\":1},\"geo\":{\"bgcolor\":\"rgb(17,17,17)\",\"landcolor\":\"rgb(17,17,17)\",\"subunitcolor\":\"#506784\",\"showland\":true,\"showlakes\":true,\"lakecolor\":\"rgb(17,17,17)\"},\"title\":{\"x\":0.05},\"updatemenudefaults\":{\"bgcolor\":\"#506784\",\"borderwidth\":0},\"sliderdefaults\":{\"bgcolor\":\"#C8D4E3\",\"borderwidth\":1,\"bordercolor\":\"rgb(17,17,17)\",\"tickwidth\":0},\"mapbox\":{\"style\":\"dark\"}}},\"xaxis\":{\"anchor\":\"y\",\"domain\":[0.0,1.0],\"title\":{\"text\":\"pub_year\"}},\"yaxis\":{\"anchor\":\"x\",\"domain\":[0.0,1.0],\"title\":{\"text\":\"count\"},\"type\":\"log\"},\"legend\":{\"tracegroupgap\":0},\"title\":{\"text\":\"CVE Count Over Time (Log Scale)\"}},                        {\"responsive\": true}                    ).then(function(){\n",
       "                            \n",
       "var gd = document.getElementById('254c610a-5f8d-4a93-8eca-1f7bc6a3b1ee');\n",
       "var x = new MutationObserver(function (mutations, observer) {{\n",
       "        var display = window.getComputedStyle(gd).display;\n",
       "        if (!display || display === 'none') {{\n",
       "            console.log([gd, 'removed!']);\n",
       "            Plotly.purge(gd);\n",
       "            observer.disconnect();\n",
       "        }}\n",
       "}});\n",
       "\n",
       "// Listen for the removal of the full notebook cells\n",
       "var notebookContainer = gd.closest('#notebook-container');\n",
       "if (notebookContainer) {{\n",
       "    x.observe(notebookContainer, {childList: true});\n",
       "}}\n",
       "\n",
       "// Listen for the clearing of the current output cell\n",
       "var outputEl = gd.closest('.output');\n",
       "if (outputEl) {{\n",
       "    x.observe(outputEl, {childList: true});\n",
       "}}\n",
       "\n",
       "                        })                };                });            </script>        </div>"
      ]
     },
     "metadata": {},
     "output_type": "display_data"
    }
   ],
   "execution_count": 124
  },
  {
   "metadata": {
    "ExecuteTime": {
     "end_time": "2025-04-22T14:36:46.689513Z",
     "start_time": "2025-04-21T09:02:48.861243Z"
    }
   },
   "cell_type": "code",
   "source": [
    "# Slice time-series data by date range\n",
    "print(\"Slicing Time-Series Data (January 2 to January 5, 2023):\")\n",
    "print(Improper_Input_Validation_time_series_df['2021-01-02':'2023-01-05'])  # Show specific date range"
   ],
   "id": "7476daf673507107",
   "outputs": [
    {
     "name": "stdout",
     "output_type": "stream",
     "text": [
      "Slicing Time-Series Data (January 2 to January 5, 2023):\n",
      "            Times\n",
      "2023-01-01    414\n",
      "2023-01-02    459\n",
      "2023-01-03    444\n",
      "2023-01-04    288\n",
      "2023-01-05    125\n"
     ]
    }
   ],
   "execution_count": 40
  },
  {
   "metadata": {
    "ExecuteTime": {
     "end_time": "2025-04-22T14:36:46.689570Z",
     "start_time": "2025-04-21T09:02:19.314110Z"
    }
   },
   "cell_type": "code",
   "source": [
    "# Extract year, month, and day from the datetime index\n",
    "df['Year'] = df.index.year  # Extract year\n",
    "df['Month'] = df.index.month  # Extract month\n",
    "df['Day'] = df.index.day  # Extract day\n",
    "print(df[['Year', 'Month', 'Day']].head(10))  # Display the extracted columns"
   ],
   "id": "a78cbc05114f8ea4",
   "outputs": [
    {
     "name": "stdout",
     "output_type": "stream",
     "text": [
      "                     Year  Month  Day\n",
      "pub_date                             \n",
      "2019-11-21 15:15:00  2019     11   21\n",
      "2019-11-21 15:15:00  2019     11   21\n",
      "2019-11-21 15:15:00  2019     11   21\n",
      "2019-11-20 21:15:00  2019     11   20\n",
      "2019-11-20 20:15:00  2019     11   20\n",
      "2019-11-20 20:15:00  2019     11   20\n",
      "2019-11-20 20:15:00  2019     11   20\n",
      "2019-11-20 20:15:00  2019     11   20\n",
      "2019-11-20 19:15:00  2019     11   20\n",
      "2019-11-20 19:15:00  2019     11   20\n"
     ]
    }
   ],
   "execution_count": 39
  },
  {
   "metadata": {
    "ExecuteTime": {
     "end_time": "2025-04-22T14:36:46.689618Z",
     "start_time": "2025-04-20T20:59:55.745375Z"
    }
   },
   "cell_type": "code",
   "source": [
    "# Calculate time differences from the earliest date\n",
    "print(\"Calculating Time Differences from the Start Date:\")\n",
    "df['Time_from_start'] = df.index - df.index.min()  # Calculate timedelta from the first date\n",
    "print(df[['Time_from_start']].head())  # Display the time differences"
   ],
   "id": "470b5e3d2e7284a6",
   "outputs": [
    {
     "name": "stdout",
     "output_type": "stream",
     "text": [
      "Calculating Time Differences from the Start Date:\n",
      "                       Time_from_start\n",
      "pub_date                              \n",
      "2019-11-21 15:15:00 7629 days 10:15:00\n",
      "2019-11-21 15:15:00 7629 days 10:15:00\n",
      "2019-11-21 15:15:00 7629 days 10:15:00\n",
      "2019-11-20 21:15:00 7628 days 16:15:00\n",
      "2019-11-20 20:15:00 7628 days 15:15:00\n"
     ]
    }
   ],
   "execution_count": 26
  },
  {
   "metadata": {
    "ExecuteTime": {
     "end_time": "2025-04-22T18:01:13.001830Z",
     "start_time": "2025-04-22T18:01:12.934107Z"
    }
   },
   "cell_type": "code",
   "source": [
    "# Calculate cumulative Improper_Input_Validation over time\n",
    "df['Cumulative_Improper_Input_Validation'] = df['Improper Input Validation'].cumsum()  # Calculate cumulative sum of revenue\n",
    "print(df[['Improper Input Validation', 'Cumulative_Improper_Input_Validation']].head())  # Display the cumulative revenue"
   ],
   "id": "301ff45e1caff48c",
   "outputs": [
    {
     "ename": "KeyError",
     "evalue": "'Improper Input Validation'",
     "output_type": "error",
     "traceback": [
      "\u001B[0;31m---------------------------------------------------------------------------\u001B[0m",
      "\u001B[0;31mKeyError\u001B[0m                                  Traceback (most recent call last)",
      "File \u001B[0;32m/opt/anaconda3/lib/python3.12/site-packages/pandas/core/indexes/base.py:3805\u001B[0m, in \u001B[0;36mIndex.get_loc\u001B[0;34m(self, key)\u001B[0m\n\u001B[1;32m   3804\u001B[0m \u001B[38;5;28;01mtry\u001B[39;00m:\n\u001B[0;32m-> 3805\u001B[0m     \u001B[38;5;28;01mreturn\u001B[39;00m \u001B[38;5;28mself\u001B[39m\u001B[38;5;241m.\u001B[39m_engine\u001B[38;5;241m.\u001B[39mget_loc(casted_key)\n\u001B[1;32m   3806\u001B[0m \u001B[38;5;28;01mexcept\u001B[39;00m \u001B[38;5;167;01mKeyError\u001B[39;00m \u001B[38;5;28;01mas\u001B[39;00m err:\n",
      "File \u001B[0;32mindex.pyx:167\u001B[0m, in \u001B[0;36mpandas._libs.index.IndexEngine.get_loc\u001B[0;34m()\u001B[0m\n",
      "File \u001B[0;32mindex.pyx:196\u001B[0m, in \u001B[0;36mpandas._libs.index.IndexEngine.get_loc\u001B[0;34m()\u001B[0m\n",
      "File \u001B[0;32mpandas/_libs/hashtable_class_helper.pxi:7081\u001B[0m, in \u001B[0;36mpandas._libs.hashtable.PyObjectHashTable.get_item\u001B[0;34m()\u001B[0m\n",
      "File \u001B[0;32mpandas/_libs/hashtable_class_helper.pxi:7089\u001B[0m, in \u001B[0;36mpandas._libs.hashtable.PyObjectHashTable.get_item\u001B[0;34m()\u001B[0m\n",
      "\u001B[0;31mKeyError\u001B[0m: 'Improper Input Validation'",
      "\nThe above exception was the direct cause of the following exception:\n",
      "\u001B[0;31mKeyError\u001B[0m                                  Traceback (most recent call last)",
      "Cell \u001B[0;32mIn[142], line 2\u001B[0m\n\u001B[1;32m      1\u001B[0m \u001B[38;5;66;03m# Calculate cumulative Improper_Input_Validation over time\u001B[39;00m\n\u001B[0;32m----> 2\u001B[0m df[\u001B[38;5;124m'\u001B[39m\u001B[38;5;124mCumulative_Improper_Input_Validation\u001B[39m\u001B[38;5;124m'\u001B[39m] \u001B[38;5;241m=\u001B[39m df[\u001B[38;5;124m'\u001B[39m\u001B[38;5;124mImproper Input Validation\u001B[39m\u001B[38;5;124m'\u001B[39m]\u001B[38;5;241m.\u001B[39mcumsum()  \u001B[38;5;66;03m# Calculate cumulative sum of revenue\u001B[39;00m\n\u001B[1;32m      3\u001B[0m \u001B[38;5;28mprint\u001B[39m(df[[\u001B[38;5;124m'\u001B[39m\u001B[38;5;124mImproper Input Validation\u001B[39m\u001B[38;5;124m'\u001B[39m, \u001B[38;5;124m'\u001B[39m\u001B[38;5;124mCumulative_Improper_Input_Validation\u001B[39m\u001B[38;5;124m'\u001B[39m]]\u001B[38;5;241m.\u001B[39mhead())\n",
      "File \u001B[0;32m/opt/anaconda3/lib/python3.12/site-packages/pandas/core/frame.py:4102\u001B[0m, in \u001B[0;36mDataFrame.__getitem__\u001B[0;34m(self, key)\u001B[0m\n\u001B[1;32m   4100\u001B[0m \u001B[38;5;28;01mif\u001B[39;00m \u001B[38;5;28mself\u001B[39m\u001B[38;5;241m.\u001B[39mcolumns\u001B[38;5;241m.\u001B[39mnlevels \u001B[38;5;241m>\u001B[39m \u001B[38;5;241m1\u001B[39m:\n\u001B[1;32m   4101\u001B[0m     \u001B[38;5;28;01mreturn\u001B[39;00m \u001B[38;5;28mself\u001B[39m\u001B[38;5;241m.\u001B[39m_getitem_multilevel(key)\n\u001B[0;32m-> 4102\u001B[0m indexer \u001B[38;5;241m=\u001B[39m \u001B[38;5;28mself\u001B[39m\u001B[38;5;241m.\u001B[39mcolumns\u001B[38;5;241m.\u001B[39mget_loc(key)\n\u001B[1;32m   4103\u001B[0m \u001B[38;5;28;01mif\u001B[39;00m is_integer(indexer):\n\u001B[1;32m   4104\u001B[0m     indexer \u001B[38;5;241m=\u001B[39m [indexer]\n",
      "File \u001B[0;32m/opt/anaconda3/lib/python3.12/site-packages/pandas/core/indexes/base.py:3812\u001B[0m, in \u001B[0;36mIndex.get_loc\u001B[0;34m(self, key)\u001B[0m\n\u001B[1;32m   3807\u001B[0m     \u001B[38;5;28;01mif\u001B[39;00m \u001B[38;5;28misinstance\u001B[39m(casted_key, \u001B[38;5;28mslice\u001B[39m) \u001B[38;5;129;01mor\u001B[39;00m (\n\u001B[1;32m   3808\u001B[0m         \u001B[38;5;28misinstance\u001B[39m(casted_key, abc\u001B[38;5;241m.\u001B[39mIterable)\n\u001B[1;32m   3809\u001B[0m         \u001B[38;5;129;01mand\u001B[39;00m \u001B[38;5;28many\u001B[39m(\u001B[38;5;28misinstance\u001B[39m(x, \u001B[38;5;28mslice\u001B[39m) \u001B[38;5;28;01mfor\u001B[39;00m x \u001B[38;5;129;01min\u001B[39;00m casted_key)\n\u001B[1;32m   3810\u001B[0m     ):\n\u001B[1;32m   3811\u001B[0m         \u001B[38;5;28;01mraise\u001B[39;00m InvalidIndexError(key)\n\u001B[0;32m-> 3812\u001B[0m     \u001B[38;5;28;01mraise\u001B[39;00m \u001B[38;5;167;01mKeyError\u001B[39;00m(key) \u001B[38;5;28;01mfrom\u001B[39;00m \u001B[38;5;21;01merr\u001B[39;00m\n\u001B[1;32m   3813\u001B[0m \u001B[38;5;28;01mexcept\u001B[39;00m \u001B[38;5;167;01mTypeError\u001B[39;00m:\n\u001B[1;32m   3814\u001B[0m     \u001B[38;5;66;03m# If we have a listlike key, _check_indexing_error will raise\u001B[39;00m\n\u001B[1;32m   3815\u001B[0m     \u001B[38;5;66;03m#  InvalidIndexError. Otherwise we fall through and re-raise\u001B[39;00m\n\u001B[1;32m   3816\u001B[0m     \u001B[38;5;66;03m#  the TypeError.\u001B[39;00m\n\u001B[1;32m   3817\u001B[0m     \u001B[38;5;28mself\u001B[39m\u001B[38;5;241m.\u001B[39m_check_indexing_error(key)\n",
      "\u001B[0;31mKeyError\u001B[0m: 'Improper Input Validation'"
     ]
    }
   ],
   "execution_count": 142
  },
  {
   "metadata": {},
   "cell_type": "code",
   "outputs": [],
   "execution_count": null,
   "source": [
    "# Downsample: Calculate total sales per month\n",
    "monthly_vulner = df.resample('ME').sum()  # Resample data by month and calculate the sum\n",
    "print(\"\\nMonthly Sales Summary:\")\n",
    "print(monthly_sales.head(2))"
   ],
   "id": "455bd1ee84aa3d42"
  },
  {
   "metadata": {},
   "cell_type": "markdown",
   "source": "# 📐 4. Probability Distribution & Descriptive Stats",
   "id": "78880aa4c8e4cc90"
  },
  {
   "metadata": {},
   "cell_type": "markdown",
   "source": [
    "**The McCumber Cube is a model framework created by John McCumber in 1991 to help organizations establish and evaluate information security initiatives by considering all of the related factors that impact them.**\n",
    "\n",
    "**This security model has three dimensions:**\n",
    "\n",
    "**The foundational principles for protecting information systems.**\n",
    "\n",
    "**1.availability, 2.integrity, 3.Confidentiality ✅**\n",
    "\n",
    "**The protection of information in each of its possible states.**\n",
    "\n",
    "**The security measures used to protect data.**"
   ],
   "id": "e3dae08c619434d2"
  },
  {
   "metadata": {},
   "cell_type": "markdown",
   "source": "## 4.1 Minimum and Maximum Values",
   "id": "6f3b798175c0d9c4"
  },
  {
   "metadata": {
    "ExecuteTime": {
     "end_time": "2025-04-22T14:36:46.689772Z",
     "start_time": "2025-04-18T15:53:47.169513Z"
    }
   },
   "cell_type": "code",
   "source": [
    "# Min and Max of DataFrame columns\n",
    "print(\"Minimum values in each column:\")\n",
    "print(df.min(numeric_only=True))\n",
    "\n",
    "print(\"\\nMaximum values in each column:\")\n",
    "print(df.max(numeric_only=True))\n"
   ],
   "id": "80985b7cc5134d9e",
   "outputs": [
    {
     "name": "stdout",
     "output_type": "stream",
     "text": [
      "Minimum values in each column:\n",
      "cvss                      0.0\n",
      "cwe_code                  1.0\n",
      "access_authentication     0.0\n",
      "access_complexity         0.0\n",
      "access_vector             0.0\n",
      "impact_availability       0.0\n",
      "impact_confidentiality    0.0\n",
      "impact_integrity          0.0\n",
      "dtype: float64\n",
      "\n",
      "Maximum values in each column:\n",
      "cvss                        10.0\n",
      "cwe_code                  1188.0\n",
      "access_authentication        2.0\n",
      "access_complexity            2.0\n",
      "access_vector                2.0\n",
      "impact_availability          2.0\n",
      "impact_confidentiality       2.0\n",
      "impact_integrity             2.0\n",
      "dtype: float64\n"
     ]
    }
   ],
   "execution_count": 37
  },
  {
   "metadata": {},
   "cell_type": "markdown",
   "source": "## 4.2 Geometric Mean",
   "id": "30512a55130f2172"
  },
  {
   "metadata": {
    "ExecuteTime": {
     "end_time": "2025-04-22T14:36:46.689816Z",
     "start_time": "2025-04-18T15:53:47.190839Z"
    }
   },
   "cell_type": "code",
   "source": [
    "# Calculate the geometric mean of cvss\n",
    "geometric_mean_cvss = stats.gmean(df[\"cvss\"].dropna())\n",
    "print(f\"\\nGeometric Mean of cvss: {geometric_mean_cvss:.2f}\")\n",
    "\n",
    "# Calculate the geometric mean of cwe_code\n",
    "geometric_mean_cwe_code = stats.gmean(df[\"cwe_code\"].dropna())\n",
    "print(f\"\\nGeometric Mean of cwe_code: {geometric_mean_cwe_code:.2f}\")\n"
   ],
   "id": "69f113a394f4e5d1",
   "outputs": [
    {
     "name": "stdout",
     "output_type": "stream",
     "text": [
      "\n",
      "Geometric Mean of cvss: 0.00\n",
      "\n",
      "Geometric Mean of cwe_code: 134.06\n"
     ]
    }
   ],
   "execution_count": 38
  },
  {
   "metadata": {},
   "cell_type": "markdown",
   "source": "## 3.3 Median and Mode",
   "id": "ba3864de18f3085a"
  },
  {
   "metadata": {
    "ExecuteTime": {
     "end_time": "2025-04-22T14:36:46.689871Z",
     "start_time": "2025-04-18T15:53:47.212750Z"
    }
   },
   "cell_type": "code",
   "source": [
    "# Calculate median impact_availability\n",
    "median_impact_availability = np.median(df[\"impact_availability\"] / ((df[\"impact_availability\"] / 100) ** 2))\n",
    "print(f\"Median availability: {median_impact_availability:.2f}\")\n",
    "\n",
    "# Calculate the mode of impact_integrity\n",
    "mode_impact_integrity = stats.mode(df[\"impact_integrity\"], keepdims=True)\n",
    "print(f\"Most Common integrity: {mode_impact_integrity.mode[0]}, Count: {mode_impact_integrity.count[0]}\")\n"
   ],
   "id": "6bfe9a4ffee78503",
   "outputs": [
    {
     "name": "stdout",
     "output_type": "stream",
     "text": [
      "Median availability: nan\n",
      "Most Common integrity: 1.0, Count: 46357\n"
     ]
    }
   ],
   "execution_count": 39
  },
  {
   "metadata": {},
   "cell_type": "markdown",
   "source": "## 3.4 Variance and Standard Deviation",
   "id": "e08b8fcd47295656"
  },
  {
   "metadata": {
    "ExecuteTime": {
     "end_time": "2025-04-22T14:36:46.689914Z",
     "start_time": "2025-04-18T15:53:47.232859Z"
    }
   },
   "cell_type": "code",
   "source": [
    "#\n",
    "\n"
   ],
   "id": "72d77bd78a3c0d21",
   "outputs": [],
   "execution_count": 40
  },
  {
   "metadata": {},
   "cell_type": "markdown",
   "source": "## 3.5 Quantiles and Interquartile Range (IQR)",
   "id": "b513a147b1144810"
  },
  {
   "metadata": {
    "ExecuteTime": {
     "end_time": "2025-04-22T14:36:46.689955Z",
     "start_time": "2025-04-18T15:53:47.247203Z"
    }
   },
   "cell_type": "code",
   "source": [
    "# Calculate Q1 (25th percentile), Q3 (75th percentile), and IQR for impact_confidentiality\n",
    "\n",
    "\n",
    "q1_confidentiality = df[\"impact_confidentiality\"].quantile(0.25)\n",
    "q3_confidentiality = df[\"impact_confidentiality\"].quantile(0.75)\n",
    "iqr_confidentiality = q3_confidentiality - q1_confidentiality\n",
    "\n",
    "print(f\"Q1 (25th percentile of confidentiality): {q1_confidentiality:.2f}\")\n",
    "print(f\"Q3 (75th percentile of confidentiality): {q3_confidentiality:.2f}\")\n",
    "print(f\"Interquartile Range (IQR) of confidentiality: {iqr_confidentiality:.2f}\")\n",
    "\n",
    "# Visualize IQR using a boxplot\n",
    "plt.figure(figsize=(8, 5))\n",
    "sns.boxplot(x=df[\"impact_confidentiality\"], y=df[\"pub_date\"])\n",
    "plt.title(\"Boxplot of Confidentiality Distribution\")\n",
    "plt.show()\n",
    "\n"
   ],
   "id": "4896f23f5b0bda25",
   "outputs": [
    {
     "name": "stdout",
     "output_type": "stream",
     "text": [
      "Q1 (25th percentile of confidentiality): 0.00\n",
      "Q3 (75th percentile of confidentiality): 1.00\n",
      "Interquartile Range (IQR) of confidentiality: 1.00\n"
     ]
    },
    {
     "data": {
      "text/plain": [
       "<Figure size 800x500 with 1 Axes>"
      ],
      "image/png": "[encoded data removed]"
     },
     "metadata": {},
     "output_type": "display_data"
    }
   ],
   "execution_count": 41
  },
  {
   "metadata": {},
   "cell_type": "markdown",
   "source": "# 📊 4.Visualising Relationships",
   "id": "c3fb7e946057c5a1"
  },
  {
   "metadata": {},
   "cell_type": "markdown",
   "source": "## 📊 4.1 Distribution Shapes",
   "id": "a1947c5b4265070a"
  },
  {
   "metadata": {
    "ExecuteTime": {
     "end_time": "2025-04-22T18:15:46.750442Z",
     "start_time": "2025-04-22T18:15:46.611113Z"
    }
   },
   "cell_type": "code",
   "source": [
    "# Value counts of all entries in 'cwe_name' that contain 'Improper'\n",
    "improper_value_counts = df.loc[df['cwe_name'].str.contains('Improper', case=False, na=False), 'cwe_name'].value_counts()\n",
    "print(f\"\\nValue counts of 'cwe_name' entries containing 'Improper':\\n{improper_value_counts}\")\n",
    "\n",
    "# Create a new DataFrame from the value counts\n",
    "improper_counts_df = pd.DataFrame({'cwe_name': improper_value_counts.index, 'count': improper_value_counts.values})\n",
    "\n",
    "\n",
    "# # Calculate mean, variance, and std of the 'val' column in improper_counts_df\n",
    "mean_val = improper_counts_df['count'].mean()\n",
    "var_val =  improper_counts_df['count'].var()     # sample variance\n",
    "std_val =  improper_counts_df['count'].std()     # sample standard deviation\n",
    "\n",
    "print(f\"Mean (Expected Value): {mean_val:.4f}\")\n",
    "print(f\"Variance: {var_val:.4f}\")\n",
    "print(f\"Standard Deviation: {std_val:.4f}\")\n",
    "\n",
    "# Visualize distribution\n",
    "plt.hist( improper_counts_df['count'], bins=30)\n",
    "plt.title(f\"Histogram of 'Improper' Value Counts\")\n",
    "plt.xlabel('Counts')\n",
    "plt.ylabel(\"Frequency\")\n",
    "plt.show()\n"
   ],
   "id": "749c4a501a38356c",
   "outputs": [
    {
     "name": "stdout",
     "output_type": "stream",
     "text": [
      "\n",
      "Value counts of 'cwe_name' entries containing 'Improper':\n",
      "cwe_name\n",
      "Improper Restriction of Operations within the Bounds of a Memory Buffer                        12344\n",
      "Improper Neutralization of Input During Web Page Generation ('Cross-site Scripting')           12339\n",
      "Improper Input Validation                                                                       7884\n",
      "Improper Neutralization of Special Elements used in an SQL Command ('SQL Injection')            5758\n",
      "Improper Limitation of a Pathname to a Restricted Directory ('Path Traversal')                  3071\n",
      "Improper Control of Generation of Code ('Code Injection')                                       2419\n",
      "Improper Authentication                                                                         1802\n",
      "Improper Access Control                                                                         1658\n",
      "Improper Neutralization of Special Elements used in an OS Command ('OS Command Injection')       829\n",
      "Concurrent Execution using Shared Resource with Improper Synchronization ('Race Condition')      644\n",
      "Improper Link Resolution Before File Access ('Link Following')                                   543\n",
      "Improper Neutralization of Special Elements used in a Command ('Command Injection')              520\n",
      "Improper Restriction of XML External Entity Reference                                            421\n",
      "Improper Certificate Validation                                                                  392\n",
      "Improper Privilege Management                                                                    390\n",
      "Improper Authorization                                                                           117\n",
      "Improper Verification of Cryptographic Signature                                                  82\n",
      "Improper Validation of Array Index                                                                78\n",
      "Improper Resource Shutdown or Release                                                             61\n",
      "Improper Handling of Exceptional Conditions                                                       49\n",
      "Improper Initialization                                                                           48\n",
      "Improper Check for Unusual or Exceptional Conditions                                              42\n",
      "Improper Neutralization of CRLF Sequences ('CRLF Injection')                                      34\n",
      "Improper Preservation of Permissions                                                              31\n",
      "Improper Restriction of Excessive Authentication Attempts                                         24\n",
      "Improper Neutralization of CRLF Sequences in HTTP Headers ('HTTP Response Splitting')             24\n",
      "Improperly Implemented Security Check for Standard                                                23\n",
      "Improper Neutralization of Argument Delimiters in a Command ('Argument Injection')                20\n",
      "Improper Restriction of Rendered UI Layers or Frames                                              12\n",
      "Improper Encoding or Escaping of Output                                                           12\n",
      "Improper Neutralization of Special Elements used in an LDAP Query ('LDAP Injection')              11\n",
      "Improper Validation of Integrity Check Value                                                       8\n",
      "Improper Validation of Certificate with Host Mismatch                                              8\n",
      "Improper Check for Dropped Privileges                                                              5\n",
      "Improper Restriction of Recursive Entity References in DTDs ('XML Entity Expansion')               4\n",
      "Improper Handling of Case Sensitivity                                                              3\n",
      "Improper Control of Dynamically-Managed Code Resources                                             3\n",
      "Improper Control of Resource Identifiers ('Resource Injection')                                    3\n",
      "Improper Enforcement of Message Integrity During Transmission in a Communication Channel           3\n",
      "Improper Neutralization of Special Elements in Data Query Logic                                    3\n",
      "Improper Restriction of Power Consumption                                                          2\n",
      "Improperly Controlled Modification of Dynamically-Determined Object Attributes                     2\n",
      "Improper Enforcement of Message or Data Structure                                                  2\n",
      "Improper Control of a Resource Through its Lifetime                                                2\n",
      "Name: count, dtype: int64\n",
      "Mean (Expected Value): 1175.6818\n",
      "Variance: 8432320.5011\n",
      "Standard Deviation: 2903.8458\n"
     ]
    },
    {
     "data": {
      "text/plain": [
       "<Figure size 640x480 with 1 Axes>"
      ],
      "image/png": "[encoded data removed]"
     },
     "metadata": {},
     "output_type": "display_data"
    }
   ],
   "execution_count": 148
  },
  {
   "metadata": {
    "ExecuteTime": {
     "end_time": "2025-04-22T18:20:22.549224Z",
     "start_time": "2025-04-22T18:20:22.457357Z"
    }
   },
   "cell_type": "code",
   "source": [
    "# Value counts of all entries in 'cwe_name' that contain 'Exposure'\n",
    "Exposure_value_counts = df.loc[df['cwe_name'].str.contains('Exposure', case=False, na=False), 'cwe_name'].value_counts()\n",
    "print(f\"\\nValue counts of 'cwe_name' entries containing 'Exposure':\\n{Exposure_value_counts}\")\n",
    "\n",
    "# Create a new DataFrame from the value counts\n",
    "Exposure_counts_df = pd.DataFrame({'cwe_name': Exposure_value_counts.index, 'count': Exposure_value_counts.values})\n",
    "\n",
    "\n",
    "# # Calculate mean, variance, and std of the 'val' column in Exposure_counts_df\n",
    "mean_val = Exposure_counts_df['count'].mean()\n",
    "var_val =  Exposure_counts_df['count'].var()     # sample variance\n",
    "std_val =  Exposure_counts_df['count'].std()     # sample standard deviation\n",
    "\n",
    "print(f\"Mean (Expected Value): {mean_val:.4f}\")\n",
    "print(f\"Variance: {var_val:.4f}\")\n",
    "print(f\"Standard Deviation: {std_val:.4f}\")\n",
    "\n",
    "# Visualize distribution\n",
    "plt.hist( Exposure_counts_df['count'], bins=30)\n",
    "plt.title(f\"Histogram of 'Exposure' Value Counts\")\n",
    "plt.xlabel('Counts')\n",
    "plt.ylabel(\"Frequency\")\n",
    "plt.show()"
   ],
   "id": "a55caee5cb71d1cc",
   "outputs": [
    {
     "name": "stdout",
     "output_type": "stream",
     "text": [
      "\n",
      "Value counts of 'cwe_name' entries containing 'Exposure':\n",
      "cwe_name\n",
      "Information Exposure                                        6601\n",
      "Exposure of Resource to Wrong Sphere                          72\n",
      "Information Exposure Through Discrepancy                      20\n",
      "Information Exposure Through an Error Message                 14\n",
      "File and Directory Information Exposure                        8\n",
      "DEPRECATED: Information Exposure Through Debug Log Files       5\n",
      "Name: count, dtype: int64\n",
      "Mean (Expected Value): 1120.0000\n",
      "Variance: 7210534.0000\n",
      "Standard Deviation: 2685.2438\n"
     ]
    },
    {
     "data": {
      "text/plain": [
       "<Figure size 640x480 with 1 Axes>"
      ],
      "image/png": "[encoded data removed]"
     },
     "metadata": {},
     "output_type": "display_data"
    }
   ],
   "execution_count": 149
  },
  {
   "metadata": {},
   "cell_type": "markdown",
   "source": [
    "*Summary:*\n",
    "**The histogram shows the distribution of the impact_confidentiality values in our dataset.**\n",
    "\n",
    "**We also calculated key descriptive statistics:**\n",
    "\n",
    "**- The mean value of approximately 0.8659 indicates the average confidentiality values in the dataset.**\n",
    "\n",
    "**- The variance of 0.5085 tells us how spread out the values are — specifically, it’s the average of the squared differences from the mean.**\n",
    "\n",
    "**- The standard deviation of 0.7131 shows that most of the confidentiality values are within ±0.7131 units of the mean.**\n",
    "\n",
    "**-a more interpretable measure than variance since it shares the same units as the data.**\n",
    "\n",
    "**- The histogram is asymmetric and slightly skewed, suggesting that the distribution is not perfectly normal.**\n",
    "\n",
    "**- There's a wide spread in the values, ranging from slightly below 15000 to above 40000.**"
   ],
   "id": "f9caf93600d0cff7"
  },
  {
   "metadata": {},
   "cell_type": "markdown",
   "source": "## 📊 4.2 Poisson distribution",
   "id": "23c7e54d2b34b8e"
  },
  {
   "metadata": {
    "ExecuteTime": {
     "end_time": "2025-04-22T14:36:46.690094Z",
     "start_time": "2025-04-18T15:54:48.342635Z"
    }
   },
   "cell_type": "code",
   "source": [
    "# Estimate the mean of access_complexity\n",
    "lambda_value = df[\"access_complexity\"].mean()\n",
    "\n",
    "# Generate Poisson distribution\n",
    "poisson_data = np.random.poisson(lam=lambda_value, size=1000)\n",
    "\n",
    "# Plot distribution\n",
    "sns.histplot(poisson_data, kde=True, bins=30, color=\"blue\")\n",
    "plt.title(\"Poisson Distribution of access_complexity\")\n",
    "plt.xlabel(\"access_complexity\")\n",
    "plt.ylabel(\"Frequency\")\n",
    "plt.show()\n",
    "\n"
   ],
   "id": "c82e39fd69f51b92",
   "outputs": [
    {
     "data": {
      "text/plain": [
       "<Figure size 640x480 with 1 Axes>"
      ],
      "image/png": "[encoded data removed]"
     },
     "metadata": {},
     "output_type": "display_data"
    }
   ],
   "execution_count": 43
  },
  {
   "metadata": {},
   "cell_type": "markdown",
   "source": "## 📦 4.3 Detect, Report, and Visualize Outliers Using Z-Score",
   "id": "aff646c222f586fe"
  },
  {
   "metadata": {
    "ExecuteTime": {
     "end_time": "2025-04-22T14:36:46.690140Z",
     "start_time": "2025-04-18T15:54:48.425631Z"
    }
   },
   "cell_type": "code",
   "source": [
    "# Detect, Report, and Visualize Outliers Using Z-Score\n",
    "\n",
    "def visualize_outliers(df, threshold=3):\n",
    "    df_numeric = df.select_dtypes(include=['number'])\n",
    "\n",
    "    # Calculate Z-scores\n",
    "    z_scores = df_numeric.apply(zscore, nan_policy='omit')\n",
    "\n",
    "    # Count how many values are considered outliers\n",
    "    outlier_counts = (z_scores.abs() > threshold).sum()\n",
    "    print(\"Number of outliers detected per column:\\n\", outlier_counts)\n",
    "\n",
    "    # Summary statistics\n",
    "    print(\"\\n--- Summary Statistics ---\")\n",
    "    display(df_numeric.describe().T)\n",
    "\n",
    "    # Boxplot visualization\n",
    "    print(\"\\n Boxplots to Inspect Outliers:\")\n",
    "    df_numeric.plot(kind='box', subplots=True, layout=(1, len(df_numeric.columns)), figsize=(16, 4), patch_artist=True)\n",
    "    plt.tight_layout()\n",
    "    plt.show()\n",
    "\n",
    "# Apply outlier visualization\n",
    "visualize_outliers(df)\n"
   ],
   "id": "e594601fb8709972",
   "outputs": [
    {
     "name": "stdout",
     "output_type": "stream",
     "text": [
      "Number of outliers detected per column:\n",
      " cvss                         1\n",
      "cwe_code                  3026\n",
      "access_authentication       23\n",
      "access_complexity            0\n",
      "access_vector                0\n",
      "impact_availability          0\n",
      "impact_confidentiality       0\n",
      "impact_integrity             0\n",
      "dtype: int64\n",
      "\n",
      "--- Summary Statistics ---\n"
     ]
    },
    {
     "data": {
      "text/plain": [
       "                          count        mean         std  min   25%    50%  \\\n",
       "cvss                    89660.0    6.021429    1.994757  0.0   4.3    5.8   \n",
       "cwe_code                89660.0  199.690854  176.177244  1.0  79.0  119.0   \n",
       "access_authentication   88776.0    0.135419    0.342929  0.0   0.0    0.0   \n",
       "access_complexity       88776.0    0.512470    0.552613  0.0   0.0    0.0   \n",
       "access_vector           88776.0    1.744019    0.645709  0.0   2.0    2.0   \n",
       "impact_availability     88776.0    0.862609    0.758760  0.0   0.0    1.0   \n",
       "impact_confidentiality  88776.0    0.865943    0.713088  0.0   0.0    1.0   \n",
       "impact_integrity        88776.0    0.902079    0.684279  0.0   0.0    1.0   \n",
       "\n",
       "                          75%     max  \n",
       "cvss                      7.5    10.0  \n",
       "cwe_code                284.0  1188.0  \n",
       "access_authentication     0.0     2.0  \n",
       "access_complexity         1.0     2.0  \n",
       "access_vector             2.0     2.0  \n",
       "impact_availability       1.0     2.0  \n",
       "impact_confidentiality    1.0     2.0  \n",
       "impact_integrity          1.0     2.0  "
      ],
      "text/html": [
       "<div>\n",
       "<style scoped>\n",
       "    .dataframe tbody tr th:only-of-type {\n",
       "        vertical-align: middle;\n",
       "    }\n",
       "\n",
       "    .dataframe tbody tr th {\n",
       "        vertical-align: top;\n",
       "    }\n",
       "\n",
       "    .dataframe thead th {\n",
       "        text-align: right;\n",
       "    }\n",
       "</style>\n",
       "<table border=\"1\" class=\"dataframe\">\n",
       "  <thead>\n",
       "    <tr style=\"text-align: right;\">\n",
       "      <th></th>\n",
       "      <th>count</th>\n",
       "      <th>mean</th>\n",
       "      <th>std</th>\n",
       "      <th>min</th>\n",
       "      <th>25%</th>\n",
       "      <th>50%</th>\n",
       "      <th>75%</th>\n",
       "      <th>max</th>\n",
       "    </tr>\n",
       "  </thead>\n",
       "  <tbody>\n",
       "    <tr>\n",
       "      <th>cvss</th>\n",
       "      <td>89660.0</td>\n",
       "      <td>6.021429</td>\n",
       "      <td>1.994757</td>\n",
       "      <td>0.0</td>\n",
       "      <td>4.3</td>\n",
       "      <td>5.8</td>\n",
       "      <td>7.5</td>\n",
       "      <td>10.0</td>\n",
       "    </tr>\n",
       "    <tr>\n",
       "      <th>cwe_code</th>\n",
       "      <td>89660.0</td>\n",
       "      <td>199.690854</td>\n",
       "      <td>176.177244</td>\n",
       "      <td>1.0</td>\n",
       "      <td>79.0</td>\n",
       "      <td>119.0</td>\n",
       "      <td>284.0</td>\n",
       "      <td>1188.0</td>\n",
       "    </tr>\n",
       "    <tr>\n",
       "      <th>access_authentication</th>\n",
       "      <td>88776.0</td>\n",
       "      <td>0.135419</td>\n",
       "      <td>0.342929</td>\n",
       "      <td>0.0</td>\n",
       "      <td>0.0</td>\n",
       "      <td>0.0</td>\n",
       "      <td>0.0</td>\n",
       "      <td>2.0</td>\n",
       "    </tr>\n",
       "    <tr>\n",
       "      <th>access_complexity</th>\n",
       "      <td>88776.0</td>\n",
       "      <td>0.512470</td>\n",
       "      <td>0.552613</td>\n",
       "      <td>0.0</td>\n",
       "      <td>0.0</td>\n",
       "      <td>0.0</td>\n",
       "      <td>1.0</td>\n",
       "      <td>2.0</td>\n",
       "    </tr>\n",
       "    <tr>\n",
       "      <th>access_vector</th>\n",
       "      <td>88776.0</td>\n",
       "      <td>1.744019</td>\n",
       "      <td>0.645709</td>\n",
       "      <td>0.0</td>\n",
       "      <td>2.0</td>\n",
       "      <td>2.0</td>\n",
       "      <td>2.0</td>\n",
       "      <td>2.0</td>\n",
       "    </tr>\n",
       "    <tr>\n",
       "      <th>impact_availability</th>\n",
       "      <td>88776.0</td>\n",
       "      <td>0.862609</td>\n",
       "      <td>0.758760</td>\n",
       "      <td>0.0</td>\n",
       "      <td>0.0</td>\n",
       "      <td>1.0</td>\n",
       "      <td>1.0</td>\n",
       "      <td>2.0</td>\n",
       "    </tr>\n",
       "    <tr>\n",
       "      <th>impact_confidentiality</th>\n",
       "      <td>88776.0</td>\n",
       "      <td>0.865943</td>\n",
       "      <td>0.713088</td>\n",
       "      <td>0.0</td>\n",
       "      <td>0.0</td>\n",
       "      <td>1.0</td>\n",
       "      <td>1.0</td>\n",
       "      <td>2.0</td>\n",
       "    </tr>\n",
       "    <tr>\n",
       "      <th>impact_integrity</th>\n",
       "      <td>88776.0</td>\n",
       "      <td>0.902079</td>\n",
       "      <td>0.684279</td>\n",
       "      <td>0.0</td>\n",
       "      <td>0.0</td>\n",
       "      <td>1.0</td>\n",
       "      <td>1.0</td>\n",
       "      <td>2.0</td>\n",
       "    </tr>\n",
       "  </tbody>\n",
       "</table>\n",
       "</div>"
      ]
     },
     "metadata": {},
     "output_type": "display_data"
    },
    {
     "name": "stdout",
     "output_type": "stream",
     "text": [
      "\n",
      " Boxplots to Inspect Outliers:\n"
     ]
    },
    {
     "data": {
      "text/plain": [
       "<Figure size 1600x400 with 8 Axes>"
      ],
      "image/png": "[encoded data removed]"
     },
     "metadata": {},
     "output_type": "display_data"
    }
   ],
   "execution_count": 44
  },
  {
   "metadata": {},
   "cell_type": "markdown",
   "source": "## 🔗 5. Analysing Correlation Between Variables",
   "id": "6bb7b80b3ed5dc75"
  },
  {
   "metadata": {
    "ExecuteTime": {
     "end_time": "2025-04-22T14:36:46.691228Z",
     "start_time": "2025-04-18T15:54:48.720587Z"
    }
   },
   "cell_type": "code",
   "source": [
    "# Covariance Analysis\n",
    "\n",
    "# Calculate a rolling mean to smooth out short-term fluctuations\n",
    "df['rolling_mean'] = df['access_authentication'].rolling(window=30).mean()\n",
    "\n",
    "# Remove rows with NaN values introduced by the rolling window\n",
    "df_clean = df.dropna()\n",
    "\n",
    "# Calculate the covariance matrix between the original values and their rolling mean\n",
    "cov_matrix = df_clean[['access_authentication', 'rolling_mean']].cov()\n",
    "\n",
    "# Display the covariance matrix\n",
    "print(\"\\nCovariance Matrix:\")\n",
    "print(cov_matrix)\n",
    "\n",
    "# Visualize the covariance matrix using a heatmap\n",
    "plt.figure(figsize=(6, 4))\n",
    "sns.heatmap(cov_matrix, annot=True, cmap=\"coolwarm\", center=0)\n",
    "\n",
    "# Add plot title\n",
    "plt.title(\"Covariance Matrix Heatmap\")\n",
    "\n",
    "# Show the plot\n",
    "plt.show()\n",
    "\n"
   ],
   "id": "e4fd781c32e3708f",
   "outputs": [
    {
     "name": "stdout",
     "output_type": "stream",
     "text": [
      "\n",
      "Covariance Matrix:\n",
      "                       access_authentication  rolling_mean\n",
      "access_authentication               0.117447      0.015170\n",
      "rolling_mean                        0.015170      0.017262\n"
     ]
    },
    {
     "data": {
      "text/plain": [
       "<Figure size 600x400 with 2 Axes>"
      ],
      "image/png": "[encoded data removed]"
     },
     "metadata": {},
     "output_type": "display_data"
    }
   ],
   "execution_count": 45
  },
  {
   "metadata": {
    "ExecuteTime": {
     "end_time": "2025-04-22T14:36:46.691293Z",
     "start_time": "2025-04-18T15:54:48.811790Z"
    }
   },
   "cell_type": "code",
   "source": [
    "# Calculate correlation matrices using different methods:\n",
    "\n",
    "pearson_corr = cov_matrix.corr(method='pearson') # - Pearson: linear correlation (assumes normality)\n",
    "spearman_corr = cov_matrix.corr(method='spearman') # - Spearman: rank-based correlation (monotonic relationships)\n",
    "kendall_corr = cov_matrix.corr(method='kendall') # - Kendall: rank correlation (more robust with small samples or ties)\n",
    "\n",
    "# Display the correlation matrices\n",
    "print(\"\\nPearson Correlation:\")\n",
    "print(pearson_corr)\n",
    "\n",
    "print(\"\\nSpearman Correlation:\")\n",
    "print(spearman_corr)\n",
    "\n",
    "print(\"\\nKendall Correlation:\")\n",
    "print(kendall_corr)\n",
    "\n",
    "plt.figure(figsize=(6, 4))\n",
    "sns.heatmap(pearson_corr, annot=True, cmap=\"coolwarm\", center=0)\n",
    "\n",
    "# Add title\n",
    "plt.title(\"Pearson Correlation Heatmap\")\n",
    "\n",
    "# Show plot\n",
    "plt.show()\n"
   ],
   "id": "70e56d454e0f86b6",
   "outputs": [
    {
     "name": "stdout",
     "output_type": "stream",
     "text": [
      "\n",
      "Pearson Correlation:\n",
      "                       access_authentication  rolling_mean\n",
      "access_authentication                    1.0          -1.0\n",
      "rolling_mean                            -1.0           1.0\n",
      "\n",
      "Spearman Correlation:\n",
      "                       access_authentication  rolling_mean\n",
      "access_authentication                    1.0          -1.0\n",
      "rolling_mean                            -1.0           1.0\n",
      "\n",
      "Kendall Correlation:\n",
      "                       access_authentication  rolling_mean\n",
      "access_authentication                    1.0          -1.0\n",
      "rolling_mean                            -1.0           1.0\n"
     ]
    },
    {
     "data": {
      "text/plain": [
       "<Figure size 600x400 with 2 Axes>"
      ],
      "image/png": "[encoded data removed]"
     },
     "metadata": {},
     "output_type": "display_data"
    }
   ],
   "execution_count": 46
  },
  {
   "metadata": {
    "ExecuteTime": {
     "end_time": "2025-04-22T14:44:16.022743Z",
     "start_time": "2025-04-22T14:44:15.972549Z"
    }
   },
   "cell_type": "code",
   "source": [
    "# Linear Regression with Scikit-Learn\n",
    "\n",
    "# Goal: Predict access_authentication based pub_date\n",
    "df_clean = df.dropna(subset=['pub_date', 'access_authentication'])\n",
    "\n",
    "# Convert datetime to numeric for regression\n",
    "df_clean['pub_date_numeric'] = df_clean.index.astype(np.int64) // 10**9  # Convert to Unix timestamp (seconds)\n",
    "\n",
    "# Define features (independent variable) and target (dependent variable)\n",
    "X = df_clean[['pub_date_numeric']]  # Feature: smoothed version of the value\n",
    "y = df_clean['access_authentication']  # Target: original value\n",
    "\n",
    "# Split the dataset into training and testing sets (80% train, 20% test)\n",
    "X_train, X_test, y_train, y_test = train_test_split(\n",
    "    X, y, test_size=0.2, random_state=42\n",
    ")\n",
    "\n",
    "# Initialize and fit a linear regression model\n",
    "model = LinearRegression()\n",
    "model.fit(X_train, y_train)\n",
    "\n",
    "# Predict values for the test set\n",
    "y_pred = model.predict(X_test)\n",
    "\n",
    "# Evaluate model performance\n",
    "print(\"\\nModel Evaluation:\")\n",
    "print(\"Intercept:\", model.intercept_)  # The constant term (β₀)\n",
    "print(\"Coefficient:\", model.coef_[0])  # The slope (β₁) for rolling_mean\n",
    "print(\"R-squared:\", r2_score(y_test, y_pred))  # Proportion of variance explained\n",
    "print(\"Mean Squared Error:\", mean_squared_error(y_test, y_pred))  # Average squared error\n",
    "\n",
    "plt.figure(figsize=(8, 5))  # Set the figure size\n",
    "\n",
    "# Scatter plot of actual test data\n",
    "plt.scatter(X_test, y_test, label='Actual', alpha=0.6)\n",
    "\n",
    "# Plot regression line (predicted values)\n",
    "plt.plot(X_test, y_pred, color='red', label='Predicted')\n",
    "\n",
    "# Add labels and title\n",
    "plt.xlabel(\"pub_date\")\n",
    "plt.ylabel(\"access_authentication\")\n",
    "plt.title(\"Linear Regression: pub_date vs access_authentication\")\n",
    "\n",
    "# Add legend and show the plot\n",
    "plt.legend()\n",
    "plt.show()"
   ],
   "id": "be94b756b588e945",
   "outputs": [
    {
     "ename": "KeyError",
     "evalue": "['pub_date']",
     "output_type": "error",
     "traceback": [
      "\u001B[0;31m---------------------------------------------------------------------------\u001B[0m",
      "\u001B[0;31mKeyError\u001B[0m                                  Traceback (most recent call last)",
      "\u001B[0;32m/var/folders/hb/3jl8x77x5k94tq98l6fz3cbr0000gn/T/ipykernel_5213/1479623918.py\u001B[0m in \u001B[0;36m?\u001B[0;34m()\u001B[0m\n\u001B[1;32m      1\u001B[0m \u001B[0;31m# Linear Regression with Scikit-Learn\u001B[0m\u001B[0;34m\u001B[0m\u001B[0;34m\u001B[0m\u001B[0m\n\u001B[1;32m      2\u001B[0m \u001B[0;34m\u001B[0m\u001B[0m\n\u001B[1;32m      3\u001B[0m \u001B[0;31m# Goal: Predict access_authentication based pub_date\u001B[0m\u001B[0;34m\u001B[0m\u001B[0;34m\u001B[0m\u001B[0m\n\u001B[0;32m----> 4\u001B[0;31m \u001B[0mdf_clean\u001B[0m \u001B[0;34m=\u001B[0m \u001B[0mdf\u001B[0m\u001B[0;34m.\u001B[0m\u001B[0mdropna\u001B[0m\u001B[0;34m(\u001B[0m\u001B[0msubset\u001B[0m\u001B[0;34m=\u001B[0m\u001B[0;34m[\u001B[0m\u001B[0;34m'pub_date'\u001B[0m\u001B[0;34m,\u001B[0m \u001B[0;34m'access_authentication'\u001B[0m\u001B[0;34m]\u001B[0m\u001B[0;34m)\u001B[0m\u001B[0;34m\u001B[0m\u001B[0;34m\u001B[0m\u001B[0m\n\u001B[0m\u001B[1;32m      5\u001B[0m \u001B[0;34m\u001B[0m\u001B[0m\n\u001B[1;32m      6\u001B[0m \u001B[0;31m# Convert datetime to numeric for regression\u001B[0m\u001B[0;34m\u001B[0m\u001B[0;34m\u001B[0m\u001B[0m\n\u001B[1;32m      7\u001B[0m \u001B[0mdf_clean\u001B[0m\u001B[0;34m[\u001B[0m\u001B[0;34m'pub_date_numeric'\u001B[0m\u001B[0;34m]\u001B[0m \u001B[0;34m=\u001B[0m \u001B[0mdf_clean\u001B[0m\u001B[0;34m.\u001B[0m\u001B[0mindex\u001B[0m\u001B[0;34m.\u001B[0m\u001B[0mastype\u001B[0m\u001B[0;34m(\u001B[0m\u001B[0mnp\u001B[0m\u001B[0;34m.\u001B[0m\u001B[0mint64\u001B[0m\u001B[0;34m)\u001B[0m \u001B[0;34m//\u001B[0m \u001B[0;36m10\u001B[0m\u001B[0;34m**\u001B[0m\u001B[0;36m9\u001B[0m  \u001B[0;31m# Convert to Unix timestamp (seconds)\u001B[0m\u001B[0;34m\u001B[0m\u001B[0;34m\u001B[0m\u001B[0m\n",
      "\u001B[0;32m/opt/anaconda3/lib/python3.12/site-packages/pandas/core/frame.py\u001B[0m in \u001B[0;36m?\u001B[0;34m(self, axis, how, thresh, subset, inplace, ignore_index)\u001B[0m\n\u001B[1;32m   6666\u001B[0m             \u001B[0max\u001B[0m \u001B[0;34m=\u001B[0m \u001B[0mself\u001B[0m\u001B[0;34m.\u001B[0m\u001B[0m_get_axis\u001B[0m\u001B[0;34m(\u001B[0m\u001B[0magg_axis\u001B[0m\u001B[0;34m)\u001B[0m\u001B[0;34m\u001B[0m\u001B[0;34m\u001B[0m\u001B[0m\n\u001B[1;32m   6667\u001B[0m             \u001B[0mindices\u001B[0m \u001B[0;34m=\u001B[0m \u001B[0max\u001B[0m\u001B[0;34m.\u001B[0m\u001B[0mget_indexer_for\u001B[0m\u001B[0;34m(\u001B[0m\u001B[0msubset\u001B[0m\u001B[0;34m)\u001B[0m\u001B[0;34m\u001B[0m\u001B[0;34m\u001B[0m\u001B[0m\n\u001B[1;32m   6668\u001B[0m             \u001B[0mcheck\u001B[0m \u001B[0;34m=\u001B[0m \u001B[0mindices\u001B[0m \u001B[0;34m==\u001B[0m \u001B[0;34m-\u001B[0m\u001B[0;36m1\u001B[0m\u001B[0;34m\u001B[0m\u001B[0;34m\u001B[0m\u001B[0m\n\u001B[1;32m   6669\u001B[0m             \u001B[0;32mif\u001B[0m \u001B[0mcheck\u001B[0m\u001B[0;34m.\u001B[0m\u001B[0many\u001B[0m\u001B[0;34m(\u001B[0m\u001B[0;34m)\u001B[0m\u001B[0;34m:\u001B[0m\u001B[0;34m\u001B[0m\u001B[0;34m\u001B[0m\u001B[0m\n\u001B[0;32m-> 6670\u001B[0;31m                 \u001B[0;32mraise\u001B[0m \u001B[0mKeyError\u001B[0m\u001B[0;34m(\u001B[0m\u001B[0mnp\u001B[0m\u001B[0;34m.\u001B[0m\u001B[0marray\u001B[0m\u001B[0;34m(\u001B[0m\u001B[0msubset\u001B[0m\u001B[0;34m)\u001B[0m\u001B[0;34m[\u001B[0m\u001B[0mcheck\u001B[0m\u001B[0;34m]\u001B[0m\u001B[0;34m.\u001B[0m\u001B[0mtolist\u001B[0m\u001B[0;34m(\u001B[0m\u001B[0;34m)\u001B[0m\u001B[0;34m)\u001B[0m\u001B[0;34m\u001B[0m\u001B[0;34m\u001B[0m\u001B[0m\n\u001B[0m\u001B[1;32m   6671\u001B[0m             \u001B[0magg_obj\u001B[0m \u001B[0;34m=\u001B[0m \u001B[0mself\u001B[0m\u001B[0;34m.\u001B[0m\u001B[0mtake\u001B[0m\u001B[0;34m(\u001B[0m\u001B[0mindices\u001B[0m\u001B[0;34m,\u001B[0m \u001B[0maxis\u001B[0m\u001B[0;34m=\u001B[0m\u001B[0magg_axis\u001B[0m\u001B[0;34m)\u001B[0m\u001B[0;34m\u001B[0m\u001B[0;34m\u001B[0m\u001B[0m\n\u001B[1;32m   6672\u001B[0m \u001B[0;34m\u001B[0m\u001B[0m\n\u001B[1;32m   6673\u001B[0m         \u001B[0;32mif\u001B[0m \u001B[0mthresh\u001B[0m \u001B[0;32mis\u001B[0m \u001B[0;32mnot\u001B[0m \u001B[0mlib\u001B[0m\u001B[0;34m.\u001B[0m\u001B[0mno_default\u001B[0m\u001B[0;34m:\u001B[0m\u001B[0;34m\u001B[0m\u001B[0;34m\u001B[0m\u001B[0m\n",
      "\u001B[0;31mKeyError\u001B[0m: ['pub_date']"
     ]
    }
   ],
   "execution_count": 127
  }
 ],
 "metadata": {
  "kernelspec": {
   "display_name": "Python 3",
   "language": "python",
   "name": "python3"
  },
  "language_info": {
   "codemirror_mode": {
    "name": "ipython",
    "version": 2
   },
   "file_extension": ".py",
   "mimetype": "text/x-python",
   "name": "python",
   "nbconvert_exporter": "python",
   "pygments_lexer": "ipython2",
   "version": "2.7.6"
  }
 },
 "nbformat": 4,
 "nbformat_minor": 5
}

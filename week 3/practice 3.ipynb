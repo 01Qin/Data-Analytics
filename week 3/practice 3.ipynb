{
 "cells": [
  {
   "cell_type": "markdown",
   "id": "e3af01f0-eb01-4668-ba00-755922f5413a",
   "metadata": {},
   "source": [
    "## Hands-on - Basic Statistics in Python"
   ]
  },
  {
   "cell_type": "code",
   "id": "a56353bd",
   "metadata": {
    "ExecuteTime": {
     "end_time": "2025-03-22T20:22:51.668918Z",
     "start_time": "2025-03-22T20:22:51.273187Z"
    }
   },
   "source": [
    "# Import necessary libraries\n",
    "import pandas as pd  # for handling tabular datasets\n",
    "import numpy as np  # for numerical computations\n",
    "from scipy import stats  # for statistical operations\n",
    "import matplotlib.pyplot as plt  # for plotting\n",
    "import seaborn as sns  # for advanced statistical plots\n",
    "\n",
    "# Load dataset from GitHub URL\n",
    "file_path = \"https://raw.githubusercontent.com/Hamed-Ahmadinia/DASP-2025/refs/heads/main/medical_examination.csv\"  # URL link to the dataset stored on GitHub\n",
    "\n",
    "# Read the dataset into a pandas dataframe\n",
    "df = pd.read_csv(file_path)  # Load the dataset as a pandas DataFrame\n",
    "\n",
    "# Display the first few rows of the dataframe to confirm the data has been loaded correctly\n",
    "print(\"Dataset Preview:\")  # Print a label for context\n",
    "print(df.head(5))  # Display the first 5 rows of the dataset"
   ],
   "outputs": [
    {
     "name": "stdout",
     "output_type": "stream",
     "text": [
      "Dataset Preview:\n",
      "   id    age  sex  height  weight  ap_hi  ap_lo  cholesterol  gluc  smoke  \\\n",
      "0   0  18393    2     168    62.0    110     80            1     1      0   \n",
      "1   1  20228    1     156    85.0    140     90            3     1      0   \n",
      "2   2  18857    1     165    64.0    130     70            3     1      0   \n",
      "3   3  17623    2     169    82.0    150    100            1     1      0   \n",
      "4   4  17474    1     156    56.0    100     60            1     1      0   \n",
      "\n",
      "   alco  active  cardio  \n",
      "0     0       1       0  \n",
      "1     0       1       1  \n",
      "2     0       0       1  \n",
      "3     0       1       1  \n",
      "4     0       0       0  \n"
     ]
    }
   ],
   "execution_count": 34
  },
  {
   "cell_type": "markdown",
   "id": "878fcaa5-7ebc-401a-99ae-c16c1c24bb9f",
   "metadata": {},
   "source": [
    "### **Exercise 1: Display Dataset Information**\n",
    "**Question:** Use df.info() to display basic information about the dataset."
   ]
  },
  {
   "cell_type": "code",
   "id": "ce2da9e1-00e5-477a-ab10-0afdc58ff97a",
   "metadata": {
    "ExecuteTime": {
     "end_time": "2025-03-22T20:22:51.683040Z",
     "start_time": "2025-03-22T20:22:51.679780Z"
    }
   },
   "source": [
    "# Your code here:\n",
    "df = df.info\n",
    "print(f\"Dataset Info:{df}\")"
   ],
   "outputs": [
    {
     "name": "stdout",
     "output_type": "stream",
     "text": [
      "Dataset Info:<bound method DataFrame.info of           id    age  sex  height  weight  ap_hi  ap_lo  cholesterol  gluc  \\\n",
      "0          0  18393    2     168    62.0    110     80            1     1   \n",
      "1          1  20228    1     156    85.0    140     90            3     1   \n",
      "2          2  18857    1     165    64.0    130     70            3     1   \n",
      "3          3  17623    2     169    82.0    150    100            1     1   \n",
      "4          4  17474    1     156    56.0    100     60            1     1   \n",
      "...      ...    ...  ...     ...     ...    ...    ...          ...   ...   \n",
      "69995  99993  19240    2     168    76.0    120     80            1     1   \n",
      "69996  99995  22601    1     158   126.0    140     90            2     2   \n",
      "69997  99996  19066    2     183   105.0    180     90            3     1   \n",
      "69998  99998  22431    1     163    72.0    135     80            1     2   \n",
      "69999  99999  20540    1     170    72.0    120     80            2     1   \n",
      "\n",
      "       smoke  alco  active  cardio  \n",
      "0          0     0       1       0  \n",
      "1          0     0       1       1  \n",
      "2          0     0       0       1  \n",
      "3          0     0       1       1  \n",
      "4          0     0       0       0  \n",
      "...      ...   ...     ...     ...  \n",
      "69995      1     0       1       0  \n",
      "69996      0     0       1       1  \n",
      "69997      0     1       0       1  \n",
      "69998      0     0       0       1  \n",
      "69999      0     0       1       0  \n",
      "\n",
      "[70000 rows x 13 columns]>\n"
     ]
    }
   ],
   "execution_count": 35
  },
  {
   "cell_type": "markdown",
   "id": "7186c00d-4ac0-4853-8977-728f17e0ab64",
   "metadata": {},
   "source": [
    "### **Exercise 2: Calculate Minimum and Maximum Values**  \n",
    "**Question:** Calculate the **minimum** and **maximum** values for the following columns:  \n",
    "\n",
    "- **\"height\"**  \n",
    "- **\"weight\"**  \n",
    "- **\"ap_hi\"** (systolic blood pressure)  \n",
    "- **\"ap_lo\"** (diasblood pressure)re)  \n"
   ]
  },
  {
   "cell_type": "code",
   "id": "40ffded5-78e1-43f9-b0ab-979662f0e3b1",
   "metadata": {
    "ExecuteTime": {
     "end_time": "2025-03-22T20:22:51.759110Z",
     "start_time": "2025-03-22T20:22:51.750893Z"
    }
   },
   "source": [
    "# Your code here:\n",
    "\n",
    "height_values = df[\"height\"].dropna().values  # Convert column to array\n",
    "print(f\"Minimum height: {np.min(height_values)}\")\n",
    "print(f\"Maximum height: {np.max(height_values)}\")\n",
    "\n",
    "\n"
   ],
   "outputs": [
    {
     "ename": "TypeError",
     "evalue": "'method' object is not subscriptable",
     "output_type": "error",
     "traceback": [
      "\u001B[0;31m---------------------------------------------------------------------------\u001B[0m",
      "\u001B[0;31mTypeError\u001B[0m                                 Traceback (most recent call last)",
      "Cell \u001B[0;32mIn[36], line 3\u001B[0m\n\u001B[1;32m      1\u001B[0m \u001B[38;5;66;03m# Your code here:\u001B[39;00m\n\u001B[0;32m----> 3\u001B[0m height_values \u001B[38;5;241m=\u001B[39m df[\u001B[38;5;124m\"\u001B[39m\u001B[38;5;124mheight\u001B[39m\u001B[38;5;124m\"\u001B[39m] \u001B[38;5;66;03m# Convert column to array\u001B[39;00m\n\u001B[1;32m      4\u001B[0m \u001B[38;5;28mprint\u001B[39m(\u001B[38;5;124mf\u001B[39m\u001B[38;5;124m\"\u001B[39m\u001B[38;5;124mMinimum height: \u001B[39m\u001B[38;5;132;01m{\u001B[39;00mnp\u001B[38;5;241m.\u001B[39mmin(height_values)\u001B[38;5;132;01m}\u001B[39;00m\u001B[38;5;124m\"\u001B[39m)\n\u001B[1;32m      5\u001B[0m \u001B[38;5;28mprint\u001B[39m(\u001B[38;5;124mf\u001B[39m\u001B[38;5;124m\"\u001B[39m\u001B[38;5;124mMaximum height: \u001B[39m\u001B[38;5;132;01m{\u001B[39;00mnp\u001B[38;5;241m.\u001B[39mmax(height_values)\u001B[38;5;132;01m}\u001B[39;00m\u001B[38;5;124m\"\u001B[39m)\n",
      "\u001B[0;31mTypeError\u001B[0m: 'method' object is not subscriptable"
     ]
    }
   ],
   "execution_count": 36
  },
  {
   "cell_type": "markdown",
   "id": "abb7e8b6-88f3-4c20-a706-1866b901f936",
   "metadata": {},
   "source": [
    "### **Exercise 3: Compute Measures of Central Tendency**  \n",
    "**Question:** Calculate the **mean**, **median**, and **mode** for the specified columns:  \n",
    "\n",
    "- **Mean:** Compute the mean of the **\"weight\"** column.  \n",
    "- **Median:** Compute the median of the **\"ap_hi\"** (systolic blood pressure) column.  \n",
    "- **Mode:** Compute the mode of the **\"gender\"** column.  "
   ]
  },
  {
   "cell_type": "code",
   "id": "f2530035-c7dc-49e8-b34a-6eb82408850c",
   "metadata": {
    "ExecuteTime": {
     "end_time": "2025-03-22T20:22:51.836830Z",
     "start_time": "2025-03-22T19:46:25.797491Z"
    }
   },
   "source": [
    "# Your code here:"
   ],
   "outputs": [],
   "execution_count": 5
  },
  {
   "cell_type": "markdown",
   "id": "3542b40f-45c0-4b19-a00b-6832bb1f8933",
   "metadata": {},
   "source": [
    "### **Exercise 4: Compute Quantiles and Interquartile Range (IQR)**  \n",
    "**Question:** Compute the **Q1**, **Q2 (median)**, and **Q3** for the **\"cholesterol\"** column and calculate the **Interquartile Range (IQR)**. \n"
   ]
  },
  {
   "cell_type": "code",
   "id": "e71a544c-dafa-4277-93fc-55877a245927",
   "metadata": {
    "ExecuteTime": {
     "end_time": "2025-03-22T20:22:51.836986Z",
     "start_time": "2025-03-22T19:46:25.808980Z"
    }
   },
   "source": [
    "# Your code here:"
   ],
   "outputs": [],
   "execution_count": 6
  },
  {
   "cell_type": "markdown",
   "id": "6fc3984d-5b71-4117-8ab8-f9bc81434f13",
   "metadata": {},
   "source": [
    "### **Exercise 5: Grouped Analysis by Gender**  \n",
    "**Question:** Calculate the **mean** of the **\"weight\"** column grouped by **\"gender\"**. \n"
   ]
  },
  {
   "cell_type": "code",
   "id": "a45846a0-4136-4985-a2e1-f9706ee40ce6",
   "metadata": {
    "ExecuteTime": {
     "end_time": "2025-03-22T20:22:51.837108Z",
     "start_time": "2025-03-22T19:46:25.816967Z"
    }
   },
   "source": [
    "# Your code here:"
   ],
   "outputs": [],
   "execution_count": 7
  },
  {
   "cell_type": "code",
   "id": "965dc9bb-30e5-4df7-a4b9-3b11593aec83",
   "metadata": {
    "ExecuteTime": {
     "end_time": "2025-03-22T20:22:51.837188Z",
     "start_time": "2025-03-22T19:46:25.823662Z"
    }
   },
   "source": [],
   "outputs": [],
   "execution_count": null
  }
 ],
 "metadata": {
  "kernelspec": {
   "display_name": "Python 3 (ipykernel)",
   "language": "python",
   "name": "python3"
  },
  "language_info": {
   "codemirror_mode": {
    "name": "ipython",
    "version": 3
   },
   "file_extension": ".py",
   "mimetype": "text/x-python",
   "name": "python",
   "nbconvert_exporter": "python",
   "pygments_lexer": "ipython3",
   "version": "3.11.9"
  }
 },
 "nbformat": 4,
 "nbformat_minor": 5
}

{
 "cells": [
  {
   "cell_type": "markdown",
   "id": "e3af01f0-eb01-4668-ba00-755922f5413a",
   "metadata": {},
   "source": [
    "## Hands-on - Matrices, DataFrames, and Time-Series Data"
   ]
  },
  {
   "cell_type": "code",
   "execution_count": 1,
   "id": "a56353bd",
   "metadata": {},
   "outputs": [
    {
     "name": "stdout",
     "output_type": "stream",
     "text": [
      "Dataset Preview:\n",
      "         Date  Day     Month  Year  Customer_Age       Age_Group  \\\n",
      "0  2013-11-26   26  November  2013            19     Youth (<25)   \n",
      "1  2015-11-26   26  November  2015            19     Youth (<25)   \n",
      "2  2014-03-23   23     March  2014            49  Adults (35-64)   \n",
      "3  2016-03-23   23     March  2016            49  Adults (35-64)   \n",
      "4  2014-05-15   15       May  2014            47  Adults (35-64)   \n",
      "\n",
      "  Customer_Gender    Country             State Product_Category Sub_Category  \\\n",
      "0               M     Canada  British Columbia      Accessories   Bike Racks   \n",
      "1               M     Canada  British Columbia      Accessories   Bike Racks   \n",
      "2               M  Australia   New South Wales      Accessories   Bike Racks   \n",
      "3               M  Australia   New South Wales      Accessories   Bike Racks   \n",
      "4               F  Australia   New South Wales      Accessories   Bike Racks   \n",
      "\n",
      "               Product  Order_Quantity  Unit_Cost  Unit_Price  Profit  Cost  \\\n",
      "0  Hitch Rack - 4-Bike               8         45         120     590   360   \n",
      "1  Hitch Rack - 4-Bike               8         45         120     590   360   \n",
      "2  Hitch Rack - 4-Bike              23         45         120    1366  1035   \n",
      "3  Hitch Rack - 4-Bike              20         45         120    1188   900   \n",
      "4  Hitch Rack - 4-Bike               4         45         120     238   180   \n",
      "\n",
      "   Revenue  \n",
      "0      950  \n",
      "1      950  \n",
      "2     2401  \n",
      "3     2088  \n",
      "4      418  \n"
     ]
    }
   ],
   "source": [
    "# Import necessary libraries\n",
    "import pandas as pd  # pandas is used for handling tabular datasets (dataframes) and performing operations such as reading CSV files\n",
    "import numpy as np  # numpy is used for numerical computations such as working with arrays and applying mathematical operations\n",
    "\n",
    "# Load dataset from GitHub URL\n",
    "file_path = \"https://raw.githubusercontent.com/Hamed-Ahmadinia/DASP-2025/main/Bike%20Sales.csv\"  # URL link to the dataset stored on GitHub\n",
    "\n",
    "# Read the dataset into a pandas dataframe\n",
    "df = pd.read_csv(file_path)  # Load the dataset as a pandas DataFrame\n",
    "\n",
    "# Display the first few rows of the dataframe to confirm the data has been loaded correctly\n",
    "print(\"Dataset Preview:\")  # Print a label for context\n",
    "print(df.head(5))  # Display the first 5 rows of the dataset"
   ]
  },
  {
   "cell_type": "markdown",
   "id": "878fcaa5-7ebc-401a-99ae-c16c1c24bb9f",
   "metadata": {},
   "source": [
    "### **Exercise 1: Convert the \"Date\" column to datetime format**\n",
    "**Question:** Convert the \"Date\" column to pandas datetime format."
   ]
  },
  {
   "cell_type": "code",
   "execution_count": 3,
   "id": "ce2da9e1-00e5-477a-ab10-0afdc58ff97a",
   "metadata": {},
   "outputs": [
    {
     "name": "stdout",
     "output_type": "stream",
     "text": [
      "        Date\n",
      "0 2013-11-26\n",
      "1 2015-11-26\n",
      "2 2014-03-23\n",
      "3 2016-03-23\n",
      "4 2014-05-15\n",
      "<class 'pandas.core.frame.DataFrame'>\n",
      "RangeIndex: 113036 entries, 0 to 113035\n",
      "Data columns (total 18 columns):\n",
      " #   Column            Non-Null Count   Dtype         \n",
      "---  ------            --------------   -----         \n",
      " 0   Date              113036 non-null  datetime64[ns]\n",
      " 1   Day               113036 non-null  int64         \n",
      " 2   Month             113036 non-null  object        \n",
      " 3   Year              113036 non-null  int64         \n",
      " 4   Customer_Age      113036 non-null  int64         \n",
      " 5   Age_Group         113036 non-null  object        \n",
      " 6   Customer_Gender   113036 non-null  object        \n",
      " 7   Country           113036 non-null  object        \n",
      " 8   State             113036 non-null  object        \n",
      " 9   Product_Category  113036 non-null  object        \n",
      " 10  Sub_Category      113036 non-null  object        \n",
      " 11  Product           113036 non-null  object        \n",
      " 12  Order_Quantity    113036 non-null  int64         \n",
      " 13  Unit_Cost         113036 non-null  int64         \n",
      " 14  Unit_Price        113036 non-null  int64         \n",
      " 15  Profit            113036 non-null  int64         \n",
      " 16  Cost              113036 non-null  int64         \n",
      " 17  Revenue           113036 non-null  int64         \n",
      "dtypes: datetime64[ns](1), int64(9), object(8)\n",
      "memory usage: 15.5+ MB\n"
     ]
    }
   ],
   "source": [
    "df['Date'] = pd.to_datetime(df['Date'])  # Convert the \"Date\" column to datetime format\n",
    "print(df[['Date']].head(5))  # Display the first few rows to confirm\n",
    "df.info()"
   ]
  },
  {
   "cell_type": "markdown",
   "id": "b0bedc1a-82f4-472f-a559-f6625a766672",
   "metadata": {},
   "source": [
    "### **Exercise 2: Set the \"Date\" column as the index**\n",
    "**Question:** Set the \"Date\" column as the index of the DataFrame."
   ]
  },
  {
   "cell_type": "code",
   "execution_count": 30,
   "id": "40ffded5-78e1-43f9-b0ab-979662f0e3b1",
   "metadata": {},
   "outputs": [
    {
     "name": "stdout",
     "output_type": "stream",
     "text": [
      "            Day     Month  Year  Customer_Age       Age_Group Customer_Gender  \\\n",
      "Date                                                                            \n",
      "2013-11-26   26  November  2013            19     Youth (<25)               M   \n",
      "2015-11-26   26  November  2015            19     Youth (<25)               M   \n",
      "2014-03-23   23     March  2014            49  Adults (35-64)               M   \n",
      "2016-03-23   23     March  2016            49  Adults (35-64)               M   \n",
      "2014-05-15   15       May  2014            47  Adults (35-64)               F   \n",
      "\n",
      "              Country             State Product_Category Sub_Category  \\\n",
      "Date                                                                    \n",
      "2013-11-26     Canada  British Columbia      Accessories   Bike Racks   \n",
      "2015-11-26     Canada  British Columbia      Accessories   Bike Racks   \n",
      "2014-03-23  Australia   New South Wales      Accessories   Bike Racks   \n",
      "2016-03-23  Australia   New South Wales      Accessories   Bike Racks   \n",
      "2014-05-15  Australia   New South Wales      Accessories   Bike Racks   \n",
      "\n",
      "                        Product  Order_Quantity  Unit_Cost  Unit_Price  \\\n",
      "Date                                                                     \n",
      "2013-11-26  Hitch Rack - 4-Bike               8         45         120   \n",
      "2015-11-26  Hitch Rack - 4-Bike               8         45         120   \n",
      "2014-03-23  Hitch Rack - 4-Bike              23         45         120   \n",
      "2016-03-23  Hitch Rack - 4-Bike              20         45         120   \n",
      "2014-05-15  Hitch Rack - 4-Bike               4         45         120   \n",
      "\n",
      "            Profit  Cost  Revenue  \n",
      "Date                               \n",
      "2013-11-26     590   360      950  \n",
      "2015-11-26     590   360      950  \n",
      "2014-03-23    1366  1035     2401  \n",
      "2016-03-23    1188   900     2088  \n",
      "2014-05-15     238   180      418  \n"
     ]
    }
   ],
   "source": [
    "df.set_index('Date', inplace=True)  # Set \"Date\" as the index\n",
    "print(df.head(5))  # Display the first few rows to confirm index"
   ]
  },
  {
   "cell_type": "markdown",
   "id": "297d8ed4-6521-4c45-9b49-6a3483b83142",
   "metadata": {},
   "source": [
    "### **Exercise 3: Slice the data from '2013-01-01' to '2013-12-31'**\n",
    "**Question:** Slice the DataFrame to show data for the year 2013."
   ]
  },
  {
   "cell_type": "code",
   "execution_count": 21,
   "id": "f2530035-c7dc-49e8-b34a-6eb82408850c",
   "metadata": {},
   "outputs": [
    {
     "name": "stdout",
     "output_type": "stream",
     "text": [
      "Sliced Data for 2013:\n",
      "            Day    Month  Year  Customer_Age             Age_Group  \\\n",
      "Date                                                                 \n",
      "2013-01-01    1  January  2013            29  Young Adults (25-34)   \n",
      "2013-01-01    1  January  2013            29  Young Adults (25-34)   \n",
      "2013-01-01    1  January  2013            19           Youth (<25)   \n",
      "2013-01-01    1  January  2013            53        Adults (35-64)   \n",
      "2013-01-01    1  January  2013            42        Adults (35-64)   \n",
      "\n",
      "           Customer_Gender        Country          State Product_Category  \\\n",
      "Date                                                                        \n",
      "2013-01-01               F  United States        Florida            Bikes   \n",
      "2013-01-01               M  United States         Oregon            Bikes   \n",
      "2013-01-01               F  United States     Washington            Bikes   \n",
      "2013-01-01               F         France  Seine (Paris)            Bikes   \n",
      "2013-01-01               M      Australia     Queensland            Bikes   \n",
      "\n",
      "           Sub_Category                Product  Order_Quantity  Unit_Cost  \\\n",
      "Date                                                                        \n",
      "2013-01-01   Road Bikes       Road-650 Red, 62               1        487   \n",
      "2013-01-01   Road Bikes     Road-650 Black, 44               1        487   \n",
      "2013-01-01   Road Bikes       Road-150 Red, 48               1       2171   \n",
      "2013-01-01   Road Bikes     Road-250 Black, 44               1       1555   \n",
      "2013-01-01   Road Bikes  Road-350-W Yellow, 48               1       1083   \n",
      "\n",
      "            Unit_Price  Profit  Cost  Revenue  Cumulative_Revenue  \n",
      "Date                                                               \n",
      "2013-01-01         783     257   487      744            45093717  \n",
      "2013-01-01         783     186   487      673            45101336  \n",
      "2013-01-01        3578     620  2171     2791            38237445  \n",
      "2013-01-01        2443     448  1555     2003            44682821  \n",
      "2013-01-01        1701     346  1083     1429            61831160  \n"
     ]
    }
   ],
   "source": [
    "# Sort the index by date before slicing\n",
    "df = df.sort_index()\n",
    "\n",
    "# Now perform the slicing\n",
    "sliced_df = df['2013-01-01':'2013-12-31']  # Slice the data for the specified date range\n",
    "print(\"Sliced Data for 2013:\")\n",
    "print(sliced_df.head(5))  # Display the first few rows of the sliced data"
   ]
  },
  {
   "cell_type": "markdown",
   "id": "3542b40f-45c0-4b19-a00b-6832bb1f8933",
   "metadata": {},
   "source": [
    "### **Exercise 4: Calculate cumulative revenue**\n",
    "**Question:** Add a new column 'Cumulative_Revenue' that shows the cumulative sum of the revenue."
   ]
  },
  {
   "cell_type": "code",
   "execution_count": 32,
   "id": "e71a544c-dafa-4277-93fc-55877a245927",
   "metadata": {},
   "outputs": [
    {
     "name": "stdout",
     "output_type": "stream",
     "text": [
      "            Revenue  Cumulative_Revenue\n",
      "Date                                   \n",
      "2013-11-26      950                 950\n",
      "2015-11-26      950                1900\n",
      "2014-03-23     2401                4301\n",
      "2016-03-23     2088                6389\n",
      "2014-05-15      418                6807\n"
     ]
    }
   ],
   "source": [
    "df['Cumulative_Revenue'] = df['Revenue'].cumsum()  # Calculate the cumulative sum of the \"Revenue\" column\n",
    "print(df[['Revenue', 'Cumulative_Revenue']].head(5))  # Display the first few rows to confirm"
   ]
  },
  {
   "cell_type": "markdown",
   "id": "6fc3984d-5b71-4117-8ab8-f9bc81434f13",
   "metadata": {},
   "source": [
    "### **Exercise 5: Downsample to show monthly total revenue (Hint: Use resampling)**\n",
    "**Question:** Resample the data to calculate total monthly revenue."
   ]
  },
  {
   "cell_type": "code",
   "execution_count": 34,
   "id": "a45846a0-4136-4985-a2e1-f9706ee40ce6",
   "metadata": {},
   "outputs": [
    {
     "name": "stdout",
     "output_type": "stream",
     "text": [
      "            Revenue\n",
      "Date               \n",
      "2011-01-31   675193\n",
      "2011-02-28   637598\n",
      "2011-03-31   708517\n",
      "2011-04-30   698782\n",
      "2011-05-31   734537\n"
     ]
    }
   ],
   "source": [
    "monthly_revenue = df.resample('ME').sum()  # Resample data by month and sum the \"Revenue\"\n",
    "print(monthly_revenue[['Revenue']].head())  # Display the first few rows of the monthly revenue summary"
   ]
  },
  {
   "cell_type": "code",
   "execution_count": null,
   "id": "8fa7cc70-e18a-4a1f-9b8c-316cd5e2a12c",
   "metadata": {},
   "outputs": [],
   "source": []
  }
 ],
 "metadata": {
  "kernelspec": {
   "display_name": "Python 3 (ipykernel)",
   "language": "python",
   "name": "python3"
  },
  "language_info": {
   "codemirror_mode": {
    "name": "ipython",
    "version": 3
   },
   "file_extension": ".py",
   "mimetype": "text/x-python",
   "name": "python",
   "nbconvert_exporter": "python",
   "pygments_lexer": "ipython3",
   "version": "3.11.9"
  }
 },
 "nbformat": 4,
 "nbformat_minor": 5
}

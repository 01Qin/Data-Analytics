{
 "cells": [
  {
   "cell_type": "markdown",
   "id": "e3af01f0-eb01-4668-ba00-755922f5413a",
   "metadata": {},
   "source": [
    "## Hands-on - Matrices, DataFrames, and Time-Series Data"
   ]
  },
  {
   "cell_type": "code",
   "id": "a56353bd",
   "metadata": {
    "ExecuteTime": {
     "end_time": "2025-03-19T16:31:22.247224Z",
     "start_time": "2025-03-19T16:31:20.882393Z"
    }
   },
   "source": [
    "# Import necessary libraries\n",
    "import pandas as pd  # pandas is used for handling tabular datasets (dataframes) and performing operations such as reading CSV files\n",
    "import numpy as np  # numpy is used for numerical computations such as working with arrays and applying mathematical operations\n",
    "from datashader.resampling import DOWNSAMPLING_METHODS\n",
    "from dateutil.rrule import MONTHLY\n",
    "from plotly.graph_objs.histogram import Cumulative\n",
    "\n",
    "# Load dataset from GitHub URL\n",
    "file_path = \"https://raw.githubusercontent.com/Hamed-Ahmadinia/DASP-2025/main/Bike%20Sales.csv\"  # URL link to the dataset stored on GitHub\n",
    "\n",
    "# Read the dataset into a pandas dataframe\n",
    "df = pd.read_csv(file_path)  # Load the dataset as a pandas DataFrame\n",
    "\n",
    "# Display the first few rows of the dataframe to confirm the data has been loaded correctly\n",
    "print(\"Dataset Preview:\")  # Print a label for context\n",
    "print(df.head(5))  # Display the first 5 rows of the dataset"
   ],
   "outputs": [
    {
     "name": "stdout",
     "output_type": "stream",
     "text": [
      "Dataset Preview:\n",
      "         Date  Day     Month  Year  Customer_Age       Age_Group  \\\n",
      "0  2013-11-26   26  November  2013            19     Youth (<25)   \n",
      "1  2015-11-26   26  November  2015            19     Youth (<25)   \n",
      "2  2014-03-23   23     March  2014            49  Adults (35-64)   \n",
      "3  2016-03-23   23     March  2016            49  Adults (35-64)   \n",
      "4  2014-05-15   15       May  2014            47  Adults (35-64)   \n",
      "\n",
      "  Customer_Gender    Country             State Product_Category Sub_Category  \\\n",
      "0               M     Canada  British Columbia      Accessories   Bike Racks   \n",
      "1               M     Canada  British Columbia      Accessories   Bike Racks   \n",
      "2               M  Australia   New South Wales      Accessories   Bike Racks   \n",
      "3               M  Australia   New South Wales      Accessories   Bike Racks   \n",
      "4               F  Australia   New South Wales      Accessories   Bike Racks   \n",
      "\n",
      "               Product  Order_Quantity  Unit_Cost  Unit_Price  Profit  Cost  \\\n",
      "0  Hitch Rack - 4-Bike               8         45         120     590   360   \n",
      "1  Hitch Rack - 4-Bike               8         45         120     590   360   \n",
      "2  Hitch Rack - 4-Bike              23         45         120    1366  1035   \n",
      "3  Hitch Rack - 4-Bike              20         45         120    1188   900   \n",
      "4  Hitch Rack - 4-Bike               4         45         120     238   180   \n",
      "\n",
      "   Revenue  \n",
      "0      950  \n",
      "1      950  \n",
      "2     2401  \n",
      "3     2088  \n",
      "4      418  \n"
     ]
    }
   ],
   "execution_count": 195
  },
  {
   "metadata": {
    "ExecuteTime": {
     "end_time": "2025-03-19T16:31:22.256561Z",
     "start_time": "2025-03-19T16:31:22.254093Z"
    }
   },
   "cell_type": "code",
   "source": "df.index\n",
   "id": "efa8b7b19746b6dc",
   "outputs": [
    {
     "data": {
      "text/plain": [
       "RangeIndex(start=0, stop=113036, step=1)"
      ]
     },
     "execution_count": 196,
     "metadata": {},
     "output_type": "execute_result"
    }
   ],
   "execution_count": 196
  },
  {
   "cell_type": "markdown",
   "id": "878fcaa5-7ebc-401a-99ae-c16c1c24bb9f",
   "metadata": {},
   "source": [
    "### **Exercise 1: Convert the \"Date\" column to datetime format**\n",
    "**Question:** Convert the \"Date\" column to pandas datetime format."
   ]
  },
  {
   "cell_type": "code",
   "id": "ce2da9e1-00e5-477a-ab10-0afdc58ff97a",
   "metadata": {
    "ExecuteTime": {
     "end_time": "2025-03-19T16:31:22.289843Z",
     "start_time": "2025-03-19T16:31:22.274426Z"
    }
   },
   "source": [
    "# Your code here:\n",
    "df['Date'] = pd.to_datetime(df['Date'])\n",
    "print(df)"
   ],
   "outputs": [
    {
     "name": "stdout",
     "output_type": "stream",
     "text": [
      "             Date  Day     Month  Year  Customer_Age       Age_Group  \\\n",
      "0      2013-11-26   26  November  2013            19     Youth (<25)   \n",
      "1      2015-11-26   26  November  2015            19     Youth (<25)   \n",
      "2      2014-03-23   23     March  2014            49  Adults (35-64)   \n",
      "3      2016-03-23   23     March  2016            49  Adults (35-64)   \n",
      "4      2014-05-15   15       May  2014            47  Adults (35-64)   \n",
      "...           ...  ...       ...   ...           ...             ...   \n",
      "113031 2016-04-12   12     April  2016            41  Adults (35-64)   \n",
      "113032 2014-04-02    2     April  2014            18     Youth (<25)   \n",
      "113033 2016-04-02    2     April  2016            18     Youth (<25)   \n",
      "113034 2014-03-04    4     March  2014            37  Adults (35-64)   \n",
      "113035 2016-03-04    4     March  2016            37  Adults (35-64)   \n",
      "\n",
      "       Customer_Gender         Country             State Product_Category  \\\n",
      "0                    M          Canada  British Columbia      Accessories   \n",
      "1                    M          Canada  British Columbia      Accessories   \n",
      "2                    M       Australia   New South Wales      Accessories   \n",
      "3                    M       Australia   New South Wales      Accessories   \n",
      "4                    F       Australia   New South Wales      Accessories   \n",
      "...                ...             ...               ...              ...   \n",
      "113031               M  United Kingdom           England         Clothing   \n",
      "113032               M       Australia        Queensland         Clothing   \n",
      "113033               M       Australia        Queensland         Clothing   \n",
      "113034               F          France     Seine (Paris)         Clothing   \n",
      "113035               F          France     Seine (Paris)         Clothing   \n",
      "\n",
      "       Sub_Category              Product  Order_Quantity  Unit_Cost  \\\n",
      "0        Bike Racks  Hitch Rack - 4-Bike               8         45   \n",
      "1        Bike Racks  Hitch Rack - 4-Bike               8         45   \n",
      "2        Bike Racks  Hitch Rack - 4-Bike              23         45   \n",
      "3        Bike Racks  Hitch Rack - 4-Bike              20         45   \n",
      "4        Bike Racks  Hitch Rack - 4-Bike               4         45   \n",
      "...             ...                  ...             ...        ...   \n",
      "113031        Vests      Classic Vest, S               3         24   \n",
      "113032        Vests      Classic Vest, M              22         24   \n",
      "113033        Vests      Classic Vest, M              22         24   \n",
      "113034        Vests      Classic Vest, L              24         24   \n",
      "113035        Vests      Classic Vest, L              23         24   \n",
      "\n",
      "        Unit_Price  Profit  Cost  Revenue  \n",
      "0              120     590   360      950  \n",
      "1              120     590   360      950  \n",
      "2              120    1366  1035     2401  \n",
      "3              120    1188   900     2088  \n",
      "4              120     238   180      418  \n",
      "...            ...     ...   ...      ...  \n",
      "113031          64     112    72      184  \n",
      "113032          64     655   528     1183  \n",
      "113033          64     655   528     1183  \n",
      "113034          64     684   576     1260  \n",
      "113035          64     655   552     1207  \n",
      "\n",
      "[113036 rows x 18 columns]\n"
     ]
    }
   ],
   "execution_count": 197
  },
  {
   "cell_type": "markdown",
   "id": "b0bedc1a-82f4-472f-a559-f6625a766672",
   "metadata": {},
   "source": [
    "### **Exercise 2: Set the \"Date\" column as the index**\n",
    "**Question:** Set the \"Date\" column as the index of the DataFrame."
   ]
  },
  {
   "cell_type": "code",
   "id": "40ffded5-78e1-43f9-b0ab-979662f0e3b1",
   "metadata": {
    "ExecuteTime": {
     "end_time": "2025-03-19T16:31:22.310877Z",
     "start_time": "2025-03-19T16:31:22.298822Z"
    }
   },
   "source": [
    "# Your code here:\n",
    "\n",
    "df = df.set_index(pd.to_datetime(df['Date']))\n",
    "\n",
    "print(df)"
   ],
   "outputs": [
    {
     "name": "stdout",
     "output_type": "stream",
     "text": [
      "                 Date  Day     Month  Year  Customer_Age       Age_Group  \\\n",
      "Date                                                                       \n",
      "2013-11-26 2013-11-26   26  November  2013            19     Youth (<25)   \n",
      "2015-11-26 2015-11-26   26  November  2015            19     Youth (<25)   \n",
      "2014-03-23 2014-03-23   23     March  2014            49  Adults (35-64)   \n",
      "2016-03-23 2016-03-23   23     March  2016            49  Adults (35-64)   \n",
      "2014-05-15 2014-05-15   15       May  2014            47  Adults (35-64)   \n",
      "...               ...  ...       ...   ...           ...             ...   \n",
      "2016-04-12 2016-04-12   12     April  2016            41  Adults (35-64)   \n",
      "2014-04-02 2014-04-02    2     April  2014            18     Youth (<25)   \n",
      "2016-04-02 2016-04-02    2     April  2016            18     Youth (<25)   \n",
      "2014-03-04 2014-03-04    4     March  2014            37  Adults (35-64)   \n",
      "2016-03-04 2016-03-04    4     March  2016            37  Adults (35-64)   \n",
      "\n",
      "           Customer_Gender         Country             State Product_Category  \\\n",
      "Date                                                                            \n",
      "2013-11-26               M          Canada  British Columbia      Accessories   \n",
      "2015-11-26               M          Canada  British Columbia      Accessories   \n",
      "2014-03-23               M       Australia   New South Wales      Accessories   \n",
      "2016-03-23               M       Australia   New South Wales      Accessories   \n",
      "2014-05-15               F       Australia   New South Wales      Accessories   \n",
      "...                    ...             ...               ...              ...   \n",
      "2016-04-12               M  United Kingdom           England         Clothing   \n",
      "2014-04-02               M       Australia        Queensland         Clothing   \n",
      "2016-04-02               M       Australia        Queensland         Clothing   \n",
      "2014-03-04               F          France     Seine (Paris)         Clothing   \n",
      "2016-03-04               F          France     Seine (Paris)         Clothing   \n",
      "\n",
      "           Sub_Category              Product  Order_Quantity  Unit_Cost  \\\n",
      "Date                                                                      \n",
      "2013-11-26   Bike Racks  Hitch Rack - 4-Bike               8         45   \n",
      "2015-11-26   Bike Racks  Hitch Rack - 4-Bike               8         45   \n",
      "2014-03-23   Bike Racks  Hitch Rack - 4-Bike              23         45   \n",
      "2016-03-23   Bike Racks  Hitch Rack - 4-Bike              20         45   \n",
      "2014-05-15   Bike Racks  Hitch Rack - 4-Bike               4         45   \n",
      "...                 ...                  ...             ...        ...   \n",
      "2016-04-12        Vests      Classic Vest, S               3         24   \n",
      "2014-04-02        Vests      Classic Vest, M              22         24   \n",
      "2016-04-02        Vests      Classic Vest, M              22         24   \n",
      "2014-03-04        Vests      Classic Vest, L              24         24   \n",
      "2016-03-04        Vests      Classic Vest, L              23         24   \n",
      "\n",
      "            Unit_Price  Profit  Cost  Revenue  \n",
      "Date                                           \n",
      "2013-11-26         120     590   360      950  \n",
      "2015-11-26         120     590   360      950  \n",
      "2014-03-23         120    1366  1035     2401  \n",
      "2016-03-23         120    1188   900     2088  \n",
      "2014-05-15         120     238   180      418  \n",
      "...                ...     ...   ...      ...  \n",
      "2016-04-12          64     112    72      184  \n",
      "2014-04-02          64     655   528     1183  \n",
      "2016-04-02          64     655   528     1183  \n",
      "2014-03-04          64     684   576     1260  \n",
      "2016-03-04          64     655   552     1207  \n",
      "\n",
      "[113036 rows x 18 columns]\n"
     ]
    }
   ],
   "execution_count": 198
  },
  {
   "metadata": {},
   "cell_type": "markdown",
   "source": "",
   "id": "c42a79939084799a"
  },
  {
   "metadata": {},
   "cell_type": "markdown",
   "source": [
    "### **Exercise 3: Slice the data from '2013-01-01' to '2013-12-31'**\n",
    "**Question:** Slice the DataFrame to show data for the year 2013."
   ],
   "id": "297d8ed4-6521-4c45-9b49-6a3483b83142"
  },
  {
   "metadata": {
    "ExecuteTime": {
     "end_time": "2025-03-19T16:31:22.404002Z",
     "start_time": "2025-03-19T16:31:22.378568Z"
    }
   },
   "cell_type": "code",
   "source": [
    "# Your code here:\n",
    "\n",
    "df = df.sort_index()\n",
    "\n",
    "# Now perform the slicing\n",
    "sliced_df = df['2013-01-01':'2013-12-31']  # Slice the data for the specified date range\n",
    "print(\"Sliced Data for 2013:\")\n",
    "print(sliced_df)  # Display the first few rows of the sliced data\n",
    "\n"
   ],
   "id": "f2530035-c7dc-49e8-b34a-6eb82408850c",
   "outputs": [
    {
     "name": "stdout",
     "output_type": "stream",
     "text": [
      "Sliced Data for 2013:\n",
      "                 Date  Day     Month  Year  Customer_Age  \\\n",
      "Date                                                       \n",
      "2013-01-01 2013-01-01    1   January  2013            29   \n",
      "2013-01-01 2013-01-01    1   January  2013            29   \n",
      "2013-01-01 2013-01-01    1   January  2013            19   \n",
      "2013-01-01 2013-01-01    1   January  2013            53   \n",
      "2013-01-01 2013-01-01    1   January  2013            42   \n",
      "...               ...  ...       ...   ...           ...   \n",
      "2013-12-31 2013-12-31   31  December  2013            53   \n",
      "2013-12-31 2013-12-31   31  December  2013            46   \n",
      "2013-12-31 2013-12-31   31  December  2013            27   \n",
      "2013-12-31 2013-12-31   31  December  2013            26   \n",
      "2013-12-31 2013-12-31   31  December  2013            25   \n",
      "\n",
      "                       Age_Group Customer_Gender        Country  \\\n",
      "Date                                                              \n",
      "2013-01-01  Young Adults (25-34)               F  United States   \n",
      "2013-01-01  Young Adults (25-34)               M  United States   \n",
      "2013-01-01           Youth (<25)               F  United States   \n",
      "2013-01-01        Adults (35-64)               F         France   \n",
      "2013-01-01        Adults (35-64)               M      Australia   \n",
      "...                          ...             ...            ...   \n",
      "2013-12-31        Adults (35-64)               M  United States   \n",
      "2013-12-31        Adults (35-64)               M         France   \n",
      "2013-12-31  Young Adults (25-34)               M      Australia   \n",
      "2013-12-31  Young Adults (25-34)               F      Australia   \n",
      "2013-12-31  Young Adults (25-34)               F      Australia   \n",
      "\n",
      "                        State Product_Category       Sub_Category  \\\n",
      "Date                                                                \n",
      "2013-01-01            Florida            Bikes         Road Bikes   \n",
      "2013-01-01             Oregon            Bikes         Road Bikes   \n",
      "2013-01-01         Washington            Bikes         Road Bikes   \n",
      "2013-01-01      Seine (Paris)            Bikes         Road Bikes   \n",
      "2013-01-01         Queensland            Bikes         Road Bikes   \n",
      "...                       ...              ...                ...   \n",
      "2013-12-31             Oregon      Accessories  Bottles and Cages   \n",
      "2013-12-31  Seine Saint Denis            Bikes     Mountain Bikes   \n",
      "2013-12-31         Queensland      Accessories  Bottles and Cages   \n",
      "2013-12-31    South Australia      Accessories    Tires and Tubes   \n",
      "2013-12-31           Victoria            Bikes         Road Bikes   \n",
      "\n",
      "                            Product  Order_Quantity  Unit_Cost  Unit_Price  \\\n",
      "Date                                                                         \n",
      "2013-01-01         Road-650 Red, 62               1        487         783   \n",
      "2013-01-01       Road-650 Black, 44               1        487         783   \n",
      "2013-01-01         Road-150 Red, 48               1       2171        3578   \n",
      "2013-01-01       Road-250 Black, 44               1       1555        2443   \n",
      "2013-01-01    Road-350-W Yellow, 48               1       1083        1701   \n",
      "...                             ...             ...        ...         ...   \n",
      "2013-12-31    Water Bottle - 30 oz.               8          2           5   \n",
      "2013-12-31  Mountain-500 Silver, 44               1        308         565   \n",
      "2013-12-31    Water Bottle - 30 oz.              15          2           5   \n",
      "2013-12-31        Touring Tire Tube               4          2           5   \n",
      "2013-12-31    Road-350-W Yellow, 48               1       1083        1701   \n",
      "\n",
      "            Profit  Cost  Revenue  \n",
      "Date                               \n",
      "2013-01-01     257   487      744  \n",
      "2013-01-01     186   487      673  \n",
      "2013-01-01     620  2171     2791  \n",
      "2013-01-01     448  1555     2003  \n",
      "2013-01-01     346  1083     1429  \n",
      "...            ...   ...      ...  \n",
      "2013-12-31      18    16       34  \n",
      "2013-12-31     155   308      463  \n",
      "2013-12-31      33    30       63  \n",
      "2013-12-31       8     8       16  \n",
      "2013-12-31     261  1083     1344  \n",
      "\n",
      "[24443 rows x 18 columns]\n"
     ]
    }
   ],
   "execution_count": 199
  },
  {
   "metadata": {},
   "cell_type": "markdown",
   "source": "",
   "id": "a0af79bb5daa5635"
  },
  {
   "cell_type": "markdown",
   "id": "3542b40f-45c0-4b19-a00b-6832bb1f8933",
   "metadata": {},
   "source": [
    "### **Exercise 4: Calculate cumulative revenue**\n",
    "**Question:** Add a new column 'Cumulative_Revenue' that shows the cumulative sum of the revenue."
   ]
  },
  {
   "cell_type": "code",
   "id": "e71a544c-dafa-4277-93fc-55877a245927",
   "metadata": {
    "ExecuteTime": {
     "end_time": "2025-03-19T16:31:22.473647Z",
     "start_time": "2025-03-19T16:31:22.469162Z"
    }
   },
   "source": [
    "# Your code here:\n",
    "df['Cumulative_Revenue'] = df['Revenue'].cumsum()\n",
    "print(df[['Revenue','Cumulative_Revenue']])"
   ],
   "outputs": [
    {
     "name": "stdout",
     "output_type": "stream",
     "text": [
      "            Revenue  Cumulative_Revenue\n",
      "Date                                   \n",
      "2011-01-01      529                 529\n",
      "2011-01-01     5439                5968\n",
      "2011-01-01     2419                8387\n",
      "2011-01-01     2621               11008\n",
      "2011-01-01     1813               12821\n",
      "...             ...                 ...\n",
      "2016-07-31       39            85270298\n",
      "2016-07-31      410            85270708\n",
      "2016-07-31      138            85270846\n",
      "2016-07-31      148            85270994\n",
      "2016-07-31       14            85271008\n",
      "\n",
      "[113036 rows x 2 columns]\n"
     ]
    }
   ],
   "execution_count": 200
  },
  {
   "cell_type": "markdown",
   "id": "6fc3984d-5b71-4117-8ab8-f9bc81434f13",
   "metadata": {},
   "source": [
    "### **Exercise 5: Downsample to show monthly total revenue (Hint: Use resampling)**\n",
    "**Question:** Resample the data to calculate total monthly revenue."
   ]
  },
  {
   "cell_type": "code",
   "id": "a45846a0-4136-4985-a2e1-f9706ee40ce6",
   "metadata": {
    "ExecuteTime": {
     "end_time": "2025-03-19T16:31:22.492604Z",
     "start_time": "2025-03-19T16:31:22.483689Z"
    }
   },
   "source": [
    "# Your code here:\n",
    "monthly_total_revenue = df['Revenue'].resample('ME').sum()\n",
    "print(monthly_total_revenue)"
   ],
   "outputs": [
    {
     "name": "stdout",
     "output_type": "stream",
     "text": [
      "Date\n",
      "2011-01-31     675193\n",
      "2011-02-28     637598\n",
      "2011-03-31     708517\n",
      "2011-04-30     698782\n",
      "2011-05-31     734537\n",
      "               ...   \n",
      "2016-03-31    2608663\n",
      "2016-04-30    2756864\n",
      "2016-05-31    3264343\n",
      "2016-06-30    3586300\n",
      "2016-07-31     499960\n",
      "Freq: ME, Name: Revenue, Length: 67, dtype: int64\n"
     ]
    }
   ],
   "execution_count": 201
  },
  {
   "cell_type": "code",
   "id": "8fa7cc70-e18a-4a1f-9b8c-316cd5e2a12c",
   "metadata": {
    "ExecuteTime": {
     "end_time": "2025-03-19T16:31:22.504492Z",
     "start_time": "2025-03-19T16:31:22.503031Z"
    }
   },
   "source": [],
   "outputs": [],
   "execution_count": null
  }
 ],
 "metadata": {
  "kernelspec": {
   "display_name": "Python 3 (ipykernel)",
   "language": "python",
   "name": "python3"
  },
  "language_info": {
   "codemirror_mode": {
    "name": "ipython",
    "version": 3
   },
   "file_extension": ".py",
   "mimetype": "text/x-python",
   "name": "python",
   "nbconvert_exporter": "python",
   "pygments_lexer": "ipython3",
   "version": "3.11.9"
  }
 },
 "nbformat": 4,
 "nbformat_minor": 5
}

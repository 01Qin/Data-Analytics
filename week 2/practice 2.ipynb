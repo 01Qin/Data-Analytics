{
 "cells": [
  {
   "cell_type": "markdown",
   "id": "e3af01f0-eb01-4668-ba00-755922f5413a",
   "metadata": {},
   "source": [
    "## Hands-on - Matrices, DataFrames, and Time-Series Data"
   ]
  },
  {
   "cell_type": "code",
   "id": "a56353bd",
   "metadata": {
    "ExecuteTime": {
     "end_time": "2025-03-19T08:27:31.642905Z",
     "start_time": "2025-03-19T08:27:30.708302Z"
    }
   },
   "source": [
    "# Import necessary libraries\n",
    "import pandas as pd  # pandas is used for handling tabular datasets (dataframes) and performing operations such as reading CSV files\n",
    "import numpy as np  # numpy is used for numerical computations such as working with arrays and applying mathematical operations\n",
    "from datashader.resampling import DOWNSAMPLING_METHODS\n",
    "from dateutil.rrule import MONTHLY\n",
    "from plotly.graph_objs.histogram import Cumulative\n",
    "\n",
    "# Load dataset from GitHub URL\n",
    "file_path = \"https://raw.githubusercontent.com/Hamed-Ahmadinia/DASP-2025/main/Bike%20Sales.csv\"  # URL link to the dataset stored on GitHub\n",
    "\n",
    "# Read the dataset into a pandas dataframe\n",
    "df = pd.read_csv(file_path)  # Load the dataset as a pandas DataFrame\n",
    "\n",
    "# Display the first few rows of the dataframe to confirm the data has been loaded correctly\n",
    "print(\"Dataset Preview:\")  # Print a label for context\n",
    "print(df.head(5))  # Display the first 5 rows of the dataset"
   ],
   "outputs": [
    {
     "name": "stdout",
     "output_type": "stream",
     "text": [
      "Dataset Preview:\n",
      "         Date  Day     Month  Year  Customer_Age       Age_Group  \\\n",
      "0  2013-11-26   26  November  2013            19     Youth (<25)   \n",
      "1  2015-11-26   26  November  2015            19     Youth (<25)   \n",
      "2  2014-03-23   23     March  2014            49  Adults (35-64)   \n",
      "3  2016-03-23   23     March  2016            49  Adults (35-64)   \n",
      "4  2014-05-15   15       May  2014            47  Adults (35-64)   \n",
      "\n",
      "  Customer_Gender    Country             State Product_Category Sub_Category  \\\n",
      "0               M     Canada  British Columbia      Accessories   Bike Racks   \n",
      "1               M     Canada  British Columbia      Accessories   Bike Racks   \n",
      "2               M  Australia   New South Wales      Accessories   Bike Racks   \n",
      "3               M  Australia   New South Wales      Accessories   Bike Racks   \n",
      "4               F  Australia   New South Wales      Accessories   Bike Racks   \n",
      "\n",
      "               Product  Order_Quantity  Unit_Cost  Unit_Price  Profit  Cost  \\\n",
      "0  Hitch Rack - 4-Bike               8         45         120     590   360   \n",
      "1  Hitch Rack - 4-Bike               8         45         120     590   360   \n",
      "2  Hitch Rack - 4-Bike              23         45         120    1366  1035   \n",
      "3  Hitch Rack - 4-Bike              20         45         120    1188   900   \n",
      "4  Hitch Rack - 4-Bike               4         45         120     238   180   \n",
      "\n",
      "   Revenue  \n",
      "0      950  \n",
      "1      950  \n",
      "2     2401  \n",
      "3     2088  \n",
      "4      418  \n"
     ]
    }
   ],
   "execution_count": 187
  },
  {
   "metadata": {
    "ExecuteTime": {
     "end_time": "2025-03-19T08:27:31.649593Z",
     "start_time": "2025-03-19T08:27:31.647469Z"
    }
   },
   "cell_type": "code",
   "source": "df.index\n",
   "id": "efa8b7b19746b6dc",
   "outputs": [
    {
     "data": {
      "text/plain": [
       "RangeIndex(start=0, stop=113036, step=1)"
      ]
     },
     "execution_count": 188,
     "metadata": {},
     "output_type": "execute_result"
    }
   ],
   "execution_count": 188
  },
  {
   "cell_type": "markdown",
   "id": "878fcaa5-7ebc-401a-99ae-c16c1c24bb9f",
   "metadata": {},
   "source": [
    "### **Exercise 1: Convert the \"Date\" column to datetime format**\n",
    "**Question:** Convert the \"Date\" column to pandas datetime format."
   ]
  },
  {
   "cell_type": "code",
   "id": "ce2da9e1-00e5-477a-ab10-0afdc58ff97a",
   "metadata": {
    "ExecuteTime": {
     "end_time": "2025-03-19T08:27:31.671517Z",
     "start_time": "2025-03-19T08:27:31.658850Z"
    }
   },
   "source": [
    "# Your code here:\n",
    "df['Date'] = pd.to_datetime(df['Date'])\n",
    "print(df)"
   ],
   "outputs": [
    {
     "name": "stdout",
     "output_type": "stream",
     "text": [
      "             Date  Day     Month  Year  Customer_Age       Age_Group  \\\n",
      "0      2013-11-26   26  November  2013            19     Youth (<25)   \n",
      "1      2015-11-26   26  November  2015            19     Youth (<25)   \n",
      "2      2014-03-23   23     March  2014            49  Adults (35-64)   \n",
      "3      2016-03-23   23     March  2016            49  Adults (35-64)   \n",
      "4      2014-05-15   15       May  2014            47  Adults (35-64)   \n",
      "...           ...  ...       ...   ...           ...             ...   \n",
      "113031 2016-04-12   12     April  2016            41  Adults (35-64)   \n",
      "113032 2014-04-02    2     April  2014            18     Youth (<25)   \n",
      "113033 2016-04-02    2     April  2016            18     Youth (<25)   \n",
      "113034 2014-03-04    4     March  2014            37  Adults (35-64)   \n",
      "113035 2016-03-04    4     March  2016            37  Adults (35-64)   \n",
      "\n",
      "       Customer_Gender         Country             State Product_Category  \\\n",
      "0                    M          Canada  British Columbia      Accessories   \n",
      "1                    M          Canada  British Columbia      Accessories   \n",
      "2                    M       Australia   New South Wales      Accessories   \n",
      "3                    M       Australia   New South Wales      Accessories   \n",
      "4                    F       Australia   New South Wales      Accessories   \n",
      "...                ...             ...               ...              ...   \n",
      "113031               M  United Kingdom           England         Clothing   \n",
      "113032               M       Australia        Queensland         Clothing   \n",
      "113033               M       Australia        Queensland         Clothing   \n",
      "113034               F          France     Seine (Paris)         Clothing   \n",
      "113035               F          France     Seine (Paris)         Clothing   \n",
      "\n",
      "       Sub_Category              Product  Order_Quantity  Unit_Cost  \\\n",
      "0        Bike Racks  Hitch Rack - 4-Bike               8         45   \n",
      "1        Bike Racks  Hitch Rack - 4-Bike               8         45   \n",
      "2        Bike Racks  Hitch Rack - 4-Bike              23         45   \n",
      "3        Bike Racks  Hitch Rack - 4-Bike              20         45   \n",
      "4        Bike Racks  Hitch Rack - 4-Bike               4         45   \n",
      "...             ...                  ...             ...        ...   \n",
      "113031        Vests      Classic Vest, S               3         24   \n",
      "113032        Vests      Classic Vest, M              22         24   \n",
      "113033        Vests      Classic Vest, M              22         24   \n",
      "113034        Vests      Classic Vest, L              24         24   \n",
      "113035        Vests      Classic Vest, L              23         24   \n",
      "\n",
      "        Unit_Price  Profit  Cost  Revenue  \n",
      "0              120     590   360      950  \n",
      "1              120     590   360      950  \n",
      "2              120    1366  1035     2401  \n",
      "3              120    1188   900     2088  \n",
      "4              120     238   180      418  \n",
      "...            ...     ...   ...      ...  \n",
      "113031          64     112    72      184  \n",
      "113032          64     655   528     1183  \n",
      "113033          64     655   528     1183  \n",
      "113034          64     684   576     1260  \n",
      "113035          64     655   552     1207  \n",
      "\n",
      "[113036 rows x 18 columns]\n"
     ]
    }
   ],
   "execution_count": 189
  },
  {
   "cell_type": "markdown",
   "id": "b0bedc1a-82f4-472f-a559-f6625a766672",
   "metadata": {},
   "source": [
    "### **Exercise 2: Set the \"Date\" column as the index**\n",
    "**Question:** Set the \"Date\" column as the index of the DataFrame."
   ]
  },
  {
   "cell_type": "code",
   "id": "40ffded5-78e1-43f9-b0ab-979662f0e3b1",
   "metadata": {
    "ExecuteTime": {
     "end_time": "2025-03-19T08:27:31.691795Z",
     "start_time": "2025-03-19T08:27:31.679720Z"
    }
   },
   "source": [
    "# Your code here:\n",
    "\n",
    "df = df.set_index(pd.to_datetime(df['Date']))\n",
    "\n",
    "print(df)"
   ],
   "outputs": [
    {
     "name": "stdout",
     "output_type": "stream",
     "text": [
      "                 Date  Day     Month  Year  Customer_Age       Age_Group  \\\n",
      "Date                                                                       \n",
      "2013-11-26 2013-11-26   26  November  2013            19     Youth (<25)   \n",
      "2015-11-26 2015-11-26   26  November  2015            19     Youth (<25)   \n",
      "2014-03-23 2014-03-23   23     March  2014            49  Adults (35-64)   \n",
      "2016-03-23 2016-03-23   23     March  2016            49  Adults (35-64)   \n",
      "2014-05-15 2014-05-15   15       May  2014            47  Adults (35-64)   \n",
      "...               ...  ...       ...   ...           ...             ...   \n",
      "2016-04-12 2016-04-12   12     April  2016            41  Adults (35-64)   \n",
      "2014-04-02 2014-04-02    2     April  2014            18     Youth (<25)   \n",
      "2016-04-02 2016-04-02    2     April  2016            18     Youth (<25)   \n",
      "2014-03-04 2014-03-04    4     March  2014            37  Adults (35-64)   \n",
      "2016-03-04 2016-03-04    4     March  2016            37  Adults (35-64)   \n",
      "\n",
      "           Customer_Gender         Country             State Product_Category  \\\n",
      "Date                                                                            \n",
      "2013-11-26               M          Canada  British Columbia      Accessories   \n",
      "2015-11-26               M          Canada  British Columbia      Accessories   \n",
      "2014-03-23               M       Australia   New South Wales      Accessories   \n",
      "2016-03-23               M       Australia   New South Wales      Accessories   \n",
      "2014-05-15               F       Australia   New South Wales      Accessories   \n",
      "...                    ...             ...               ...              ...   \n",
      "2016-04-12               M  United Kingdom           England         Clothing   \n",
      "2014-04-02               M       Australia        Queensland         Clothing   \n",
      "2016-04-02               M       Australia        Queensland         Clothing   \n",
      "2014-03-04               F          France     Seine (Paris)         Clothing   \n",
      "2016-03-04               F          France     Seine (Paris)         Clothing   \n",
      "\n",
      "           Sub_Category              Product  Order_Quantity  Unit_Cost  \\\n",
      "Date                                                                      \n",
      "2013-11-26   Bike Racks  Hitch Rack - 4-Bike               8         45   \n",
      "2015-11-26   Bike Racks  Hitch Rack - 4-Bike               8         45   \n",
      "2014-03-23   Bike Racks  Hitch Rack - 4-Bike              23         45   \n",
      "2016-03-23   Bike Racks  Hitch Rack - 4-Bike              20         45   \n",
      "2014-05-15   Bike Racks  Hitch Rack - 4-Bike               4         45   \n",
      "...                 ...                  ...             ...        ...   \n",
      "2016-04-12        Vests      Classic Vest, S               3         24   \n",
      "2014-04-02        Vests      Classic Vest, M              22         24   \n",
      "2016-04-02        Vests      Classic Vest, M              22         24   \n",
      "2014-03-04        Vests      Classic Vest, L              24         24   \n",
      "2016-03-04        Vests      Classic Vest, L              23         24   \n",
      "\n",
      "            Unit_Price  Profit  Cost  Revenue  \n",
      "Date                                           \n",
      "2013-11-26         120     590   360      950  \n",
      "2015-11-26         120     590   360      950  \n",
      "2014-03-23         120    1366  1035     2401  \n",
      "2016-03-23         120    1188   900     2088  \n",
      "2014-05-15         120     238   180      418  \n",
      "...                ...     ...   ...      ...  \n",
      "2016-04-12          64     112    72      184  \n",
      "2014-04-02          64     655   528     1183  \n",
      "2016-04-02          64     655   528     1183  \n",
      "2014-03-04          64     684   576     1260  \n",
      "2016-03-04          64     655   552     1207  \n",
      "\n",
      "[113036 rows x 18 columns]\n"
     ]
    }
   ],
   "execution_count": 190
  },
  {
   "metadata": {},
   "cell_type": "markdown",
   "source": "",
   "id": "c42a79939084799a"
  },
  {
   "metadata": {},
   "cell_type": "markdown",
   "source": [
    "### **Exercise 3: Slice the data from '2013-01-01' to '2013-12-31'**\n",
    "**Question:** Slice the DataFrame to show data for the year 2013."
   ],
   "id": "297d8ed4-6521-4c45-9b49-6a3483b83142"
  },
  {
   "metadata": {
    "ExecuteTime": {
     "end_time": "2025-03-19T09:00:20.082922Z",
     "start_time": "2025-03-19T09:00:20.052764Z"
    }
   },
   "cell_type": "code",
   "source": [
    "# Your code here:\n",
    "\n",
    "start_date = pd.to_datetime('2013-01-01')\n",
    "end_date = pd.to_datetime('2013-12-31')\n",
    "filtered_df = df[(df['Date'] >= start_date) & (df['Date'] <= end_date)]\n",
    "\n",
    "print(filtered_df)\n"
   ],
   "id": "f2530035-c7dc-49e8-b34a-6eb82408850c",
   "outputs": [
    {
     "name": "stdout",
     "output_type": "stream",
     "text": [
      "                 Date  Day      Month  Year  Customer_Age  \\\n",
      "Date                                                        \n",
      "2013-11-26 2013-11-26   26   November  2013            19   \n",
      "2013-07-30 2013-07-30   30       July  2013            32   \n",
      "2013-07-15 2013-07-15   15       July  2013            34   \n",
      "2013-08-02 2013-08-02    2     August  2013            29   \n",
      "2013-09-02 2013-09-02    2  September  2013            29   \n",
      "...               ...  ...        ...   ...           ...   \n",
      "2013-12-10 2013-12-10   10   December  2013            20   \n",
      "2013-10-04 2013-10-04    4    October  2013            20   \n",
      "2013-10-02 2013-10-02    2    October  2013            34   \n",
      "2013-07-08 2013-07-08    8       July  2013            29   \n",
      "2013-12-28 2013-12-28   28   December  2013            41   \n",
      "\n",
      "                       Age_Group Customer_Gender         Country  \\\n",
      "Date                                                               \n",
      "2013-11-26           Youth (<25)               M          Canada   \n",
      "2013-07-30  Young Adults (25-34)               F       Australia   \n",
      "2013-07-15  Young Adults (25-34)               M       Australia   \n",
      "2013-08-02  Young Adults (25-34)               M          Canada   \n",
      "2013-09-02  Young Adults (25-34)               M          Canada   \n",
      "...                          ...             ...             ...   \n",
      "2013-12-10           Youth (<25)               F   United States   \n",
      "2013-10-04           Youth (<25)               M   United States   \n",
      "2013-10-02  Young Adults (25-34)               M   United States   \n",
      "2013-07-08  Young Adults (25-34)               M         Germany   \n",
      "2013-12-28        Adults (35-64)               M  United Kingdom   \n",
      "\n",
      "                       State Product_Category Sub_Category  \\\n",
      "Date                                                         \n",
      "2013-11-26  British Columbia      Accessories   Bike Racks   \n",
      "2013-07-30          Victoria      Accessories   Bike Racks   \n",
      "2013-07-15          Victoria      Accessories   Bike Racks   \n",
      "2013-08-02  British Columbia      Accessories   Bike Racks   \n",
      "2013-09-02  British Columbia      Accessories   Bike Racks   \n",
      "...                      ...              ...          ...   \n",
      "2013-12-10        Washington         Clothing        Vests   \n",
      "2013-10-04            Oregon         Clothing        Vests   \n",
      "2013-10-02        California         Clothing        Vests   \n",
      "2013-07-08            Hessen         Clothing        Vests   \n",
      "2013-12-28           England         Clothing        Vests   \n",
      "\n",
      "                        Product  Order_Quantity  Unit_Cost  Unit_Price  \\\n",
      "Date                                                                     \n",
      "2013-11-26  Hitch Rack - 4-Bike               8         45         120   \n",
      "2013-07-30  Hitch Rack - 4-Bike               8         45         120   \n",
      "2013-07-15  Hitch Rack - 4-Bike               7         45         120   \n",
      "2013-08-02  Hitch Rack - 4-Bike               5         45         120   \n",
      "2013-09-02  Hitch Rack - 4-Bike               2         45         120   \n",
      "...                         ...             ...        ...         ...   \n",
      "2013-12-10      Classic Vest, M               8         24          64   \n",
      "2013-10-04      Classic Vest, L              16         24          64   \n",
      "2013-10-02      Classic Vest, S              25         24          64   \n",
      "2013-07-08      Classic Vest, L              20         24          64   \n",
      "2013-12-28      Classic Vest, S               2         24          64   \n",
      "\n",
      "            Profit  Cost  Revenue  Cumulative_Revenue  \n",
      "Date                                                   \n",
      "2013-11-26     590   360      950                 950  \n",
      "2013-07-30     398   360      758               12733  \n",
      "2013-07-15     349   315      664               14155  \n",
      "2013-08-02     369   225      594               15413  \n",
      "2013-09-02     148    90      238               16483  \n",
      "...            ...   ...      ...                 ...  \n",
      "2013-12-10     207   192      399            85251212  \n",
      "2013-10-04     497   384      881            85252393  \n",
      "2013-10-02     968   600     1568            85256162  \n",
      "2013-07-08     710   480     1190            85264126  \n",
      "2013-12-28      75    48      123            85265499  \n",
      "\n",
      "[24443 rows x 19 columns]\n"
     ]
    }
   ],
   "execution_count": 194
  },
  {
   "metadata": {},
   "cell_type": "markdown",
   "source": "",
   "id": "a0af79bb5daa5635"
  },
  {
   "cell_type": "markdown",
   "id": "3542b40f-45c0-4b19-a00b-6832bb1f8933",
   "metadata": {},
   "source": [
    "### **Exercise 4: Calculate cumulative revenue**\n",
    "**Question:** Add a new column 'Cumulative_Revenue' that shows the cumulative sum of the revenue."
   ]
  },
  {
   "cell_type": "code",
   "id": "e71a544c-dafa-4277-93fc-55877a245927",
   "metadata": {
    "ExecuteTime": {
     "end_time": "2025-03-19T08:27:31.825753Z",
     "start_time": "2025-03-19T08:27:31.821756Z"
    }
   },
   "source": [
    "# Your code here:\n",
    "df['Cumulative_Revenue'] = df['Revenue'].cumsum()\n",
    "print(df[['Revenue','Cumulative_Revenue']])"
   ],
   "outputs": [
    {
     "name": "stdout",
     "output_type": "stream",
     "text": [
      "            Revenue  Cumulative_Revenue\n",
      "Date                                   \n",
      "2013-11-26      950                 950\n",
      "2015-11-26      950                1900\n",
      "2014-03-23     2401                4301\n",
      "2016-03-23     2088                6389\n",
      "2014-05-15      418                6807\n",
      "...             ...                 ...\n",
      "2016-04-12      184            85266175\n",
      "2014-04-02     1183            85267358\n",
      "2016-04-02     1183            85268541\n",
      "2014-03-04     1260            85269801\n",
      "2016-03-04     1207            85271008\n",
      "\n",
      "[113036 rows x 2 columns]\n"
     ]
    }
   ],
   "execution_count": 192
  },
  {
   "cell_type": "markdown",
   "id": "6fc3984d-5b71-4117-8ab8-f9bc81434f13",
   "metadata": {},
   "source": [
    "### **Exercise 5: Downsample to show monthly total revenue (Hint: Use resampling)**\n",
    "**Question:** Resample the data to calculate total monthly revenue."
   ]
  },
  {
   "cell_type": "code",
   "id": "a45846a0-4136-4985-a2e1-f9706ee40ce6",
   "metadata": {
    "ExecuteTime": {
     "end_time": "2025-03-19T08:27:31.857965Z",
     "start_time": "2025-03-19T08:27:31.834416Z"
    }
   },
   "source": [
    "# Your code here:\n",
    "monthly_total_revenue = df['Revenue'].resample('ME').sum()\n",
    "print(monthly_total_revenue)"
   ],
   "outputs": [
    {
     "name": "stdout",
     "output_type": "stream",
     "text": [
      "Date\n",
      "2011-01-31     675193\n",
      "2011-02-28     637598\n",
      "2011-03-31     708517\n",
      "2011-04-30     698782\n",
      "2011-05-31     734537\n",
      "               ...   \n",
      "2016-03-31    2608663\n",
      "2016-04-30    2756864\n",
      "2016-05-31    3264343\n",
      "2016-06-30    3586300\n",
      "2016-07-31     499960\n",
      "Freq: ME, Name: Revenue, Length: 67, dtype: int64\n"
     ]
    }
   ],
   "execution_count": 193
  },
  {
   "cell_type": "code",
   "id": "8fa7cc70-e18a-4a1f-9b8c-316cd5e2a12c",
   "metadata": {
    "ExecuteTime": {
     "end_time": "2025-03-19T08:27:31.866996Z",
     "start_time": "2025-03-19T08:27:31.865884Z"
    }
   },
   "source": [],
   "outputs": [],
   "execution_count": null
  }
 ],
 "metadata": {
  "kernelspec": {
   "display_name": "Python 3 (ipykernel)",
   "language": "python",
   "name": "python3"
  },
  "language_info": {
   "codemirror_mode": {
    "name": "ipython",
    "version": 3
   },
   "file_extension": ".py",
   "mimetype": "text/x-python",
   "name": "python",
   "nbconvert_exporter": "python",
   "pygments_lexer": "ipython3",
   "version": "3.11.9"
  }
 },
 "nbformat": 4,
 "nbformat_minor": 5
}

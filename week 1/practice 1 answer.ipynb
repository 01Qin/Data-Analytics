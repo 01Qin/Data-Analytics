{
 "cells": [
  {
   "cell_type": "markdown",
   "id": "f9bb2220-bd75-4034-b5e2-b642ae3dfca6",
   "metadata": {},
   "source": [
    "## Hands-on - Python ReCap - Sample Answer"
   ]
  },
  {
   "cell_type": "code",
   "execution_count": 2,
   "id": "a999d958",
   "metadata": {},
   "outputs": [
    {
     "name": "stdout",
     "output_type": "stream",
     "text": [
      "Dataset Preview:\n",
      "   age         workclass  fnlwgt  education  education-num  \\\n",
      "0   39         State-gov   77516  Bachelors             13   \n",
      "1   50  Self-emp-not-inc   83311  Bachelors             13   \n",
      "2   38           Private  215646    HS-grad              9   \n",
      "3   53           Private  234721       11th              7   \n",
      "4   28           Private  338409  Bachelors             13   \n",
      "\n",
      "       marital-status         occupation   relationship   race     sex  \\\n",
      "0       Never-married       Adm-clerical  Not-in-family  White    Male   \n",
      "1  Married-civ-spouse    Exec-managerial        Husband  White    Male   \n",
      "2            Divorced  Handlers-cleaners  Not-in-family  White    Male   \n",
      "3  Married-civ-spouse  Handlers-cleaners        Husband  Black    Male   \n",
      "4  Married-civ-spouse     Prof-specialty           Wife  Black  Female   \n",
      "\n",
      "   capital-gain  capital-loss  hours-per-week native-country salary  \n",
      "0          2174             0              40  United-States  <=50K  \n",
      "1             0             0              13  United-States  <=50K  \n",
      "2             0             0              40  United-States  <=50K  \n",
      "3             0             0              40  United-States  <=50K  \n",
      "4             0             0              40           Cuba  <=50K  \n"
     ]
    }
   ],
   "source": [
    "# Import necessary libraries\n",
    "import pandas as pd  # pandas is used for handling tabular datasets (dataframes) and performing operations such as reading CSV files\n",
    "import numpy as np  # numpy is used for numerical computations such as working with arrays and applying mathematical operations\n",
    "\n",
    "# Load dataset from GitHub URL\n",
    "file_path = \"https://raw.githubusercontent.com/Hamed-Ahmadinia/DASP-2025/main/adult.data.csv\"  # URL link to the dataset\n",
    "\n",
    "# Read the dataset into a pandas dataframe\n",
    "df = pd.read_csv(file_path, header=0)  # header=0 means the first row in the CSV is used as column names\n",
    "print(\"Dataset Preview:\")\n",
    "print(df.head(5))  # Display the first 5 rows of the dataframe"
   ]
  },
  {
   "cell_type": "markdown",
   "id": "3d8116c0",
   "metadata": {},
   "source": [
    "### **Exercise 1: Common Python Operations**\n",
    "**Task:** Print the sum of the first row's `age` and `hours-per-week`."
   ]
  },
  {
   "cell_type": "code",
   "execution_count": null,
   "id": "654d13c4",
   "metadata": {},
   "outputs": [],
   "source": [
    "answer = df['age'].iloc[0] + df['hours-per-week'].iloc[0]  # Adds values from the first row of columns\n",
    "print(\"Sum of age and hours-per-week:\", answer)"
   ]
  },
  {
   "cell_type": "markdown",
   "id": "11377e3f",
   "metadata": {},
   "source": [
    "### **Exercise 2: String Manipulation**\n",
    "**Task:** Convert the first `workclass` entry to lowercase and strip any leading or trailing spaces."
   ]
  },
  {
   "cell_type": "code",
   "execution_count": null,
   "id": "3640860d",
   "metadata": {},
   "outputs": [],
   "source": [
    "answer = df['workclass'].iloc[0].strip().lower()\n",
    "print(\"Workclass (lowercase, stripped):\", answer)"
   ]
  },
  {
   "cell_type": "markdown",
   "id": "26e215a7",
   "metadata": {},
   "source": [
    "### **Exercise 3: Lists in Python**\n",
    "**Task:** Create a list of the unique values in the `education` column and print its length."
   ]
  },
  {
   "cell_type": "code",
   "execution_count": null,
   "id": "ebe08691",
   "metadata": {},
   "outputs": [],
   "source": [
    "unique_education_levels = list(set(df['education']))  # Create a list of unique education levels\n",
    "print(\"Number of unique education levels:\", len(unique_education_levels))"
   ]
  },
  {
   "cell_type": "markdown",
   "id": "4d58cd73",
   "metadata": {},
   "source": [
    "### **Exercise 4: Sets in Python**\n",
    "**Task:** Check if the value \"Self-employed\" exists in the unique set of `workclass` values."
   ]
  },
  {
   "cell_type": "code",
   "execution_count": null,
   "id": "c6358b8b",
   "metadata": {},
   "outputs": [],
   "source": [
    "unique_workclasses = set(df['workclass'].dropna())  # Convert to set for unique values\n",
    "is_self_employed = \"Self-employed\" in unique_workclasses\n",
    "print(\"Does 'Self-employed' exist in workclasses?:\", is_self_employed)"
   ]
  },
  {
   "cell_type": "markdown",
   "id": "7b3e1ccf",
   "metadata": {},
   "source": [
    "### **Exercise 5: Dictionaries in Python**\n",
    "**Task:** Create a dictionary from the first row's data and print the `occupation` value."
   ]
  },
  {
   "cell_type": "code",
   "execution_count": null,
   "id": "21736404",
   "metadata": {},
   "outputs": [],
   "source": [
    "first_person = df.iloc[0].to_dict()  # Convert first row to dictionary\n",
    "print(\"Occupation:\", first_person['occupation'])"
   ]
  },
  {
   "cell_type": "markdown",
   "id": "442db98d",
   "metadata": {},
   "source": [
    "### **Exercise 6: Conditional Statements in Python**\n",
    "**Task:** Write a function that returns \"Minor\" if the age is less than 18, \"Adult\" if between 18 and 65, and \"Senior\" if greater than 65."
   ]
  },
  {
   "cell_type": "code",
   "execution_count": null,
   "id": "3d36d0fc",
   "metadata": {},
   "outputs": [],
   "source": [
    "def categorize_by_age(age):\n",
    "    if age < 18:\n",
    "        return \"Minor\"\n",
    "    elif age < 65:\n",
    "        return \"Adult\"\n",
    "    else:\n",
    "        return \"Senior\"\n",
    "\n",
    "# Test the function\n",
    "age_category = categorize_by_age(df['age'].iloc[0])\n",
    "print(\"Age category:\", age_category)"
   ]
  },
  {
   "cell_type": "markdown",
   "id": "d526d820",
   "metadata": {},
   "source": [
    "### **Exercise 7: For Loops**\n",
    "**Task:** Iterate through the first 5 rows of `workclass` and print each entry."
   ]
  },
  {
   "cell_type": "code",
   "execution_count": null,
   "id": "131942cb",
   "metadata": {},
   "outputs": [],
   "source": [
    "print(\"First 5 workclasses:\")\n",
    "for workclass in df['workclass'].head(5):\n",
    "    print(workclass)"
   ]
  },
  {
   "cell_type": "markdown",
   "id": "2f0ecbbe",
   "metadata": {},
   "source": [
    "### **Exercise 8: Functions**\n",
    "**Task:** Define a function `sum_columns` that takes two column names and an index, sums the values at the given index, and returns the result."
   ]
  },
  {
   "cell_type": "code",
   "execution_count": null,
   "id": "11bbc1dd",
   "metadata": {},
   "outputs": [],
   "source": [
    "def sum_columns(col1, col2, index):\n",
    "    return df[col1].iloc[index] + df[col2].iloc[index]\n",
    "\n",
    "# Test the function\n",
    "sum_result = sum_columns('age', 'hours-per-week', 0)\n",
    "print(\"Sum of age and hours-per-week:\", sum_result)"
   ]
  },
  {
   "cell_type": "markdown",
   "id": "d78408c3",
   "metadata": {},
   "source": [
    "### **Exercise 9: File Handling**\n",
    "**Task:** Save the first 10 rows of the dataframe to `output.csv` and read it back."
   ]
  },
  {
   "cell_type": "code",
   "execution_count": null,
   "id": "ec00cc6a",
   "metadata": {},
   "outputs": [],
   "source": [
    "# Save the dataframe to a CSV file\n",
    "sample_df = df.head(10)\n",
    "sample_df.to_csv(\"output.csv\", index=False)\n",
    "\n",
    "# Read the CSV file\n",
    "read_sample = pd.read_csv(\"output.csv\")\n",
    "print(\"First 2 rows of read CSV:\")\n",
    "print(read_sample.head(2))"
   ]
  },
  {
   "cell_type": "markdown",
   "id": "e8d40d22",
   "metadata": {},
   "source": [
    "### **Exercise 10: Debugging in Python**\n",
    "**Task:** Write a try/except block to handle a `KeyError` when accessing a non-existent column `\"salary\"`."
   ]
  },
  {
   "cell_type": "code",
   "execution_count": null,
   "id": "d39754db",
   "metadata": {},
   "outputs": [],
   "source": [
    "try:\n",
    "    df['salary']  # Access a non-existent column\n",
    "except KeyError:\n",
    "    print(\"KeyError: Column 'salary' does not exist!\")"
   ]
  }
 ],
 "metadata": {
  "kernelspec": {
   "display_name": "Python 3 (ipykernel)",
   "language": "python",
   "name": "python3"
  },
  "language_info": {
   "codemirror_mode": {
    "name": "ipython",
    "version": 3
   },
   "file_extension": ".py",
   "mimetype": "text/x-python",
   "name": "python",
   "nbconvert_exporter": "python",
   "pygments_lexer": "ipython3",
   "version": "3.11.9"
  }
 },
 "nbformat": 4,
 "nbformat_minor": 5
}

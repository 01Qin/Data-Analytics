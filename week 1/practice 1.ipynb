{
 "cells": [
  {
   "cell_type": "markdown",
   "id": "e3af01f0-eb01-4668-ba00-755922f5413a",
   "metadata": {},
   "source": [
    "## Hands-on - Python ReCap 1"
   ]
  },
  {
   "cell_type": "code",
   "id": "a56353bd",
   "metadata": {
    "ExecuteTime": {
     "end_time": "2025-03-16T13:31:18.501777Z",
     "start_time": "2025-03-16T13:31:17.150006Z"
    }
   },
   "source": [
    "# 1. Import necessary libraries\n",
    "import pandas as pd  # pandas is used for handling tabular datasets (dataframes) and performing operations such as reading CSV files\n",
    "import numpy as np  # numpy is used for numerical computations such as working with arrays and applying mathematical operations\n",
    "\n",
    "# 2. Load dataset from GitHub URL\n",
    "file_path = \"https://raw.githubusercontent.com/Hamed-Ahmadinia/DASP-2025/main/adult.data.csv\"  # URL link to the dataset stored on GitHub\n",
    "\n",
    "# 3. Read the dataset into a pandas dataframe\n",
    "df = pd.read_csv(file_path, header=0)  # header=0 means the first row in the CSV is used as column names\n",
    "\n",
    "# 4. Display the first few rows of the dataframe to confirm the data has been loaded correctly\n",
    "print(\"Dataset Preview:\")  # Print a label for context\n",
    "print(df.head(5))  # Display the first 5 rows of the dataset"
   ],
   "outputs": [
    {
     "name": "stdout",
     "output_type": "stream",
     "text": [
      "Dataset Preview:\n",
      "   age         workclass  fnlwgt  education  education-num  \\\n",
      "0   39         State-gov   77516  Bachelors             13   \n",
      "1   50  Self-emp-not-inc   83311  Bachelors             13   \n",
      "2   38           Private  215646    HS-grad              9   \n",
      "3   53           Private  234721       11th              7   \n",
      "4   28           Private  338409  Bachelors             13   \n",
      "\n",
      "       marital-status         occupation   relationship   race     sex  \\\n",
      "0       Never-married       Adm-clerical  Not-in-family  White    Male   \n",
      "1  Married-civ-spouse    Exec-managerial        Husband  White    Male   \n",
      "2            Divorced  Handlers-cleaners  Not-in-family  White    Male   \n",
      "3  Married-civ-spouse  Handlers-cleaners        Husband  Black    Male   \n",
      "4  Married-civ-spouse     Prof-specialty           Wife  Black  Female   \n",
      "\n",
      "   capital-gain  capital-loss  hours-per-week native-country salary  \n",
      "0          2174             0              40  United-States  <=50K  \n",
      "1             0             0              13  United-States  <=50K  \n",
      "2             0             0              40  United-States  <=50K  \n",
      "3             0             0              40  United-States  <=50K  \n",
      "4             0             0              40           Cuba  <=50K  \n"
     ]
    }
   ],
   "execution_count": 1
  },
  {
   "cell_type": "markdown",
   "id": "66911d5c",
   "metadata": {},
   "source": []
  },
  {
   "cell_type": "markdown",
   "id": "d2fe1e77",
   "metadata": {
    "jp-MarkdownHeadingCollapsed": true
   },
   "source": [
    "### **Exercise 1: Common Python Operations**\n",
    "**Question:** Print the sum of the first row's `age` and `hours-per-week`."
   ]
  },
  {
   "cell_type": "code",
   "id": "e4c0f73f-5efd-4ad6-b0d4-18b472b3fc3f",
   "metadata": {
    "ExecuteTime": {
     "end_time": "2025-03-12T18:34:11.326873Z",
     "start_time": "2025-03-12T18:34:11.324161Z"
    }
   },
   "source": [
    "# Your code here\n",
    "age = df['age'].iloc[0]\n",
    "print(\"First row's age:\", age)"
   ],
   "outputs": [
    {
     "name": "stdout",
     "output_type": "stream",
     "text": [
      "First row's age: 39\n"
     ]
    }
   ],
   "execution_count": 2
  },
  {
   "cell_type": "markdown",
   "id": "4c9f3e60",
   "metadata": {},
   "source": [
    "### **Exercise 2: String Manipulation**\n",
    "**Question:** Convert the first `workclass` entry to lowercase and strip any leading or trailing spaces."
   ]
  },
  {
   "cell_type": "markdown",
   "id": "5a3a19a4",
   "metadata": {},
   "source": []
  },
  {
   "cell_type": "code",
   "id": "b2a4783c",
   "metadata": {
    "ExecuteTime": {
     "end_time": "2025-03-12T18:34:14.343526Z",
     "start_time": "2025-03-12T18:34:14.340492Z"
    }
   },
   "source": [
    "# Your code here\n",
    "wclass = df['workclass'].iloc[2]\n",
    "print (wclass.strip().lower())"
   ],
   "outputs": [
    {
     "name": "stdout",
     "output_type": "stream",
     "text": [
      "private\n"
     ]
    }
   ],
   "execution_count": 3
  },
  {
   "cell_type": "markdown",
   "id": "6f7f7a0a",
   "metadata": {},
   "source": [
    "### **Exercise 3: Lists in Python**\n",
    "**Question:** Create a list of the unique values in the `education` column and print its length."
   ]
  },
  {
   "cell_type": "code",
   "id": "64bf4d82",
   "metadata": {
    "ExecuteTime": {
     "end_time": "2025-03-12T18:34:19.290242Z",
     "start_time": "2025-03-12T18:34:19.287035Z"
    }
   },
   "source": [
    "# Your code here\n",
    "education_list = df['education'].tolist() \n",
    "unique_education_levels = list(set(education_list))\n",
    "print (len(unique_education_levels))"
   ],
   "outputs": [
    {
     "name": "stdout",
     "output_type": "stream",
     "text": [
      "16\n"
     ]
    }
   ],
   "execution_count": 4
  },
  {
   "cell_type": "markdown",
   "id": "eddf6630",
   "metadata": {},
   "source": [
    "### **Exercise 4: Sets in Python**\n",
    "**Question:** Check if the value \"Self-employed\" exists in the unique set of `workclass` values."
   ]
  },
  {
   "cell_type": "code",
   "id": "2a98a3b2",
   "metadata": {
    "ExecuteTime": {
     "end_time": "2025-03-12T18:34:21.364294Z",
     "start_time": "2025-03-12T18:34:21.357253Z"
    }
   },
   "source": [
    "# Your code here\n",
    "unique_workclasses = set(df['workclass'].dropna())\n",
    "set1 = {\"Private\", \"Self-employed\"}\n",
    "set2 = {\"Government\", \"Self-employed\"}\n",
    "print(\"Intersection:\", set1.intersection(unique_workclasses))\n",
    "print(\"Union:\", set1.union(unique_workclasses))"
   ],
   "outputs": [
    {
     "name": "stdout",
     "output_type": "stream",
     "text": [
      "Intersection: {'Private'}\n",
      "Union: {'State-gov', 'Without-pay', 'Federal-gov', 'Self-emp-inc', '?', 'Self-employed', 'Self-emp-not-inc', 'Never-worked', 'Private', 'Local-gov'}\n"
     ]
    }
   ],
   "execution_count": 5
  },
  {
   "cell_type": "markdown",
   "id": "bdbab979",
   "metadata": {},
   "source": [
    "### **Exercise 5: Dictionaries in Python**\n",
    "**Question:** Create a dictionary from the first row's data. Print the `occupation` value from the dictionary."
   ]
  },
  {
   "cell_type": "code",
   "id": "1a2daae1",
   "metadata": {
    "ExecuteTime": {
     "end_time": "2025-03-12T18:34:23.365037Z",
     "start_time": "2025-03-12T18:34:23.362177Z"
    }
   },
   "source": [
    "# Your code here\n",
    "first_row = df.iloc[0].to_dict()\n",
    "print (first_row['occupation'])"
   ],
   "outputs": [
    {
     "name": "stdout",
     "output_type": "stream",
     "text": [
      "Adm-clerical\n"
     ]
    }
   ],
   "execution_count": 6
  },
  {
   "cell_type": "markdown",
   "id": "51de8b97",
   "metadata": {},
   "source": [
    "### **Exercise 6: Conditional Statements in Python**\n",
    "**Question:** Write a function that returns \"Minor\" if the age is less than 18, \"Adult\" if between 18 and 65, and \"Senior\" if greater than 65. Test it on the first row's `age`."
   ]
  },
  {
   "cell_type": "code",
   "id": "815ffb15",
   "metadata": {
    "ExecuteTime": {
     "end_time": "2025-03-12T18:34:25.820648Z",
     "start_time": "2025-03-12T18:34:25.818539Z"
    }
   },
   "source": [
    "# Your code here\n",
    "age = df['age'].iloc[0]\n",
    "if age < 18:\n",
    "    print(\"Minor.\")\n",
    "elif 18 <= age <= 65:\n",
    "    print(\"Adult.\")\n",
    "else:\n",
    "    print(\"Senior.\")"
   ],
   "outputs": [
    {
     "name": "stdout",
     "output_type": "stream",
     "text": [
      "Adult.\n"
     ]
    }
   ],
   "execution_count": 7
  },
  {
   "cell_type": "markdown",
   "id": "9054a180",
   "metadata": {},
   "source": [
    "### **Exercise 7: For Loops**\n",
    "**Question:** Iterate through the first 5 rows of `workclass` and print each entry."
   ]
  },
  {
   "cell_type": "code",
   "id": "f393c2fe",
   "metadata": {
    "ExecuteTime": {
     "end_time": "2025-03-19T07:06:04.758366Z",
     "start_time": "2025-03-19T07:06:04.681619Z"
    }
   },
   "source": [
    "# Your code here\n",
    "for workclass in df['workclass'].head(5):\n",
    "    print(workclass)"
   ],
   "outputs": [
    {
     "name": "stdout",
     "output_type": "stream",
     "text": [
      "State-gov\n",
      "Self-emp-not-inc\n",
      "Private\n",
      "Private\n",
      "Private\n"
     ]
    }
   ],
   "execution_count": 2
  },
  {
   "cell_type": "markdown",
   "id": "95505624",
   "metadata": {},
   "source": [
    "### **Exercise 8: Functions**\n",
    "**Question:** Define a function `sum_columns` that takes two column names and an index, sums the values of the specified columns at the given index, and returns the result. Test it with `age` and `hours-per-week` at the first row."
   ]
  },
  {
   "cell_type": "code",
   "id": "05034c7e",
   "metadata": {
    "ExecuteTime": {
     "end_time": "2025-03-12T18:37:31.585755Z",
     "start_time": "2025-03-12T18:37:31.575904Z"
    }
   },
   "source": [
    "# Your code here\n",
    "def sum_columns (name1, name2, index):\n",
    "    return df[name1].iloc[index] + df[name2].iloc[index]\n",
    "\n",
    "\n",
    "print (sum_columns('age', 'hours-per-week', 0))"
   ],
   "outputs": [
    {
     "name": "stdout",
     "output_type": "stream",
     "text": [
      "79\n"
     ]
    }
   ],
   "execution_count": 13
  },
  {
   "cell_type": "markdown",
   "id": "35d4a4cf",
   "metadata": {},
   "source": [
    "### **Exercise 9: File Handling**\n",
    "**Question:** Save the first 10 rows of the dataframe to `output.csv` and read it back. Print the first 2 rows from the loaded CSV."
   ]
  },
  {
   "cell_type": "code",
   "id": "5ad3fa94",
   "metadata": {
    "ExecuteTime": {
     "end_time": "2025-03-12T18:34:36.327494Z",
     "start_time": "2025-03-12T18:34:36.318868Z"
    }
   },
   "source": [
    "# Your code here\n",
    "sample_df = df.head(10)  # Take the first 10 rows\n",
    "sample_df.to_csv(\"output.csv\", index=False)\n",
    "\n",
    "\n",
    "# Read the saved CSV\n",
    "read_sample = pd.read_csv(\"week 1/output.csv\").head(2)\n",
    "print(\"Read data from saved CSV:\")\n",
    "print(read_sample)"
   ],
   "outputs": [
    {
     "name": "stdout",
     "output_type": "stream",
     "text": [
      "Read data from saved CSV:\n",
      "   age         workclass  fnlwgt  education  education-num  \\\n",
      "0   39         State-gov   77516  Bachelors             13   \n",
      "1   50  Self-emp-not-inc   83311  Bachelors             13   \n",
      "\n",
      "       marital-status       occupation   relationship   race   sex  \\\n",
      "0       Never-married     Adm-clerical  Not-in-family  White  Male   \n",
      "1  Married-civ-spouse  Exec-managerial        Husband  White  Male   \n",
      "\n",
      "   capital-gain  capital-loss  hours-per-week native-country salary  \n",
      "0          2174             0              40  United-States  <=50K  \n",
      "1             0             0              13  United-States  <=50K  \n"
     ]
    }
   ],
   "execution_count": 10
  },
  {
   "cell_type": "markdown",
   "id": "6744b80f",
   "metadata": {},
   "source": [
    "### **Exercise 10: Debugging in Python**\n",
    "**Question:** Write a try/except block to handle a `KeyError` when accessing a non-existent column `\"salary\"`. Print an appropriate error message when caught."
   ]
  },
  {
   "cell_type": "code",
   "id": "25de3093",
   "metadata": {
    "ExecuteTime": {
     "end_time": "2025-03-12T18:34:39.009513Z",
     "start_time": "2025-03-12T18:34:39.006656Z"
    }
   },
   "source": [
    "# Your code here\n",
    "try:\n",
    "    print(\"Attempting to access a non-existent column\")\n",
    "    print(df['salary1'])  \n",
    "except KeyError:\n",
    "    print(\"Error: Column does not exist!\")\n",
    "finally:\n",
    "    print(\"Debugging example completed.\")"
   ],
   "outputs": [
    {
     "name": "stdout",
     "output_type": "stream",
     "text": [
      "Attempting to access a non-existent column\n",
      "Error: Column does not exist!\n",
      "Debugging example completed.\n"
     ]
    }
   ],
   "execution_count": 11
  },
  {
   "cell_type": "code",
   "execution_count": null,
   "id": "66872290-beec-49c1-bcd1-741e50521d59",
   "metadata": {},
   "outputs": [],
   "source": []
  }
 ],
 "metadata": {
  "kernelspec": {
   "display_name": "Python 3",
   "language": "python",
   "name": "python3"
  },
  "language_info": {
   "codemirror_mode": {
    "name": "ipython",
    "version": 3
   },
   "file_extension": ".py",
   "mimetype": "text/x-python",
   "name": "python",
   "nbconvert_exporter": "python",
   "pygments_lexer": "ipython3",
   "version": "3.9.13"
  }
 },
 "nbformat": 4,
 "nbformat_minor": 5
}

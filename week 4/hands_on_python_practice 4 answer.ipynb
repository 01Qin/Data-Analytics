{
 "cells": [
  {
   "cell_type": "markdown",
   "id": "e3af01f0-eb01-4668-ba00-755922f5413a",
   "metadata": {},
   "source": [
    "## Hands-on - Probability Distributions and Variability"
   ]
  },
  {
   "cell_type": "code",
   "execution_count": 2,
   "id": "a56353bd",
   "metadata": {},
   "outputs": [
    {
     "name": "stdout",
     "output_type": "stream",
     "text": [
      "Dataset Preview:\n",
      "   Year  CSIRO Adjusted Sea Level  Lower Error Bound  Upper Error Bound  \\\n",
      "0  1880                  0.000000          -0.952756           0.952756   \n",
      "1  1881                  0.220472          -0.732283           1.173228   \n",
      "2  1882                 -0.440945          -1.346457           0.464567   \n",
      "3  1883                 -0.232283          -1.129921           0.665354   \n",
      "4  1884                  0.590551          -0.283465           1.464567   \n",
      "\n",
      "   NOAA Adjusted Sea Level  \n",
      "0                      NaN  \n",
      "1                      NaN  \n",
      "2                      NaN  \n",
      "3                      NaN  \n",
      "4                      NaN  \n"
     ]
    }
   ],
   "source": [
    "# Import necessary libraries\n",
    "import pandas as pd\n",
    "import numpy as np\n",
    "import seaborn as sns\n",
    "import scipy.stats as stats\n",
    "import matplotlib.pyplot as plt\n",
    "from scipy.stats import binom, norm, ttest_1samp, mannwhitneyu, chi2_contingency\n",
    "\n",
    "# Load dataset from GitHub URL\n",
    "file_path = \"https://raw.githubusercontent.com/Hamed-Ahmadinia/DASP-2025/main/epa-sea-level.csv\"  # URL link to the dataset stored on GitHub\n",
    "\n",
    "# Read the dataset into a pandas dataframe\n",
    "df = pd.read_csv(file_path)  # Load the dataset as a pandas DataFrame\n",
    "\n",
    "# Display the first few rows of the dataframe to confirm the data has been loaded correctly\n",
    "print(\"Dataset Preview:\")  # Print a label for context\n",
    "print(df.head(5))  # Display the first 5 rows of the dataset"
   ]
  },
  {
   "cell_type": "markdown",
   "id": "878fcaa5-7ebc-401a-99ae-c16c1c24bb9f",
   "metadata": {},
   "source": [
    "## **Exercise 1: Understanding the Dataset**\n",
    "🔹 **Question:** Display key statistics about the dataset using `.describe()` "
   ]
  },
  {
   "cell_type": "code",
   "execution_count": 5,
   "id": "8fa7cc70-e18a-4a1f-9b8c-316cd5e2a12c",
   "metadata": {},
   "outputs": [
    {
     "data": {
      "text/html": [
       "<div>\n",
       "<style scoped>\n",
       "    .dataframe tbody tr th:only-of-type {\n",
       "        vertical-align: middle;\n",
       "    }\n",
       "\n",
       "    .dataframe tbody tr th {\n",
       "        vertical-align: top;\n",
       "    }\n",
       "\n",
       "    .dataframe thead th {\n",
       "        text-align: right;\n",
       "    }\n",
       "</style>\n",
       "<table border=\"1\" class=\"dataframe\">\n",
       "  <thead>\n",
       "    <tr style=\"text-align: right;\">\n",
       "      <th></th>\n",
       "      <th>Year</th>\n",
       "      <th>CSIRO Adjusted Sea Level</th>\n",
       "      <th>Lower Error Bound</th>\n",
       "      <th>Upper Error Bound</th>\n",
       "      <th>NOAA Adjusted Sea Level</th>\n",
       "    </tr>\n",
       "  </thead>\n",
       "  <tbody>\n",
       "    <tr>\n",
       "      <th>count</th>\n",
       "      <td>134.000000</td>\n",
       "      <td>134.000000</td>\n",
       "      <td>134.000000</td>\n",
       "      <td>134.000000</td>\n",
       "      <td>21.000000</td>\n",
       "    </tr>\n",
       "    <tr>\n",
       "      <th>mean</th>\n",
       "      <td>1946.500000</td>\n",
       "      <td>3.650341</td>\n",
       "      <td>3.204666</td>\n",
       "      <td>4.096016</td>\n",
       "      <td>7.363746</td>\n",
       "    </tr>\n",
       "    <tr>\n",
       "      <th>std</th>\n",
       "      <td>38.826537</td>\n",
       "      <td>2.485692</td>\n",
       "      <td>2.663781</td>\n",
       "      <td>2.312581</td>\n",
       "      <td>0.691038</td>\n",
       "    </tr>\n",
       "    <tr>\n",
       "      <th>min</th>\n",
       "      <td>1880.000000</td>\n",
       "      <td>-0.440945</td>\n",
       "      <td>-1.346457</td>\n",
       "      <td>0.464567</td>\n",
       "      <td>6.297493</td>\n",
       "    </tr>\n",
       "    <tr>\n",
       "      <th>25%</th>\n",
       "      <td>1913.250000</td>\n",
       "      <td>1.632874</td>\n",
       "      <td>1.078740</td>\n",
       "      <td>2.240157</td>\n",
       "      <td>6.848690</td>\n",
       "    </tr>\n",
       "    <tr>\n",
       "      <th>50%</th>\n",
       "      <td>1946.500000</td>\n",
       "      <td>3.312992</td>\n",
       "      <td>2.915354</td>\n",
       "      <td>3.710630</td>\n",
       "      <td>7.488353</td>\n",
       "    </tr>\n",
       "    <tr>\n",
       "      <th>75%</th>\n",
       "      <td>1979.750000</td>\n",
       "      <td>5.587598</td>\n",
       "      <td>5.329724</td>\n",
       "      <td>5.845472</td>\n",
       "      <td>7.907365</td>\n",
       "    </tr>\n",
       "    <tr>\n",
       "      <th>max</th>\n",
       "      <td>2013.000000</td>\n",
       "      <td>9.326772</td>\n",
       "      <td>8.992126</td>\n",
       "      <td>9.661417</td>\n",
       "      <td>8.546648</td>\n",
       "    </tr>\n",
       "  </tbody>\n",
       "</table>\n",
       "</div>"
      ],
      "text/plain": [
       "              Year  CSIRO Adjusted Sea Level  Lower Error Bound  \\\n",
       "count   134.000000                134.000000         134.000000   \n",
       "mean   1946.500000                  3.650341           3.204666   \n",
       "std      38.826537                  2.485692           2.663781   \n",
       "min    1880.000000                 -0.440945          -1.346457   \n",
       "25%    1913.250000                  1.632874           1.078740   \n",
       "50%    1946.500000                  3.312992           2.915354   \n",
       "75%    1979.750000                  5.587598           5.329724   \n",
       "max    2013.000000                  9.326772           8.992126   \n",
       "\n",
       "       Upper Error Bound  NOAA Adjusted Sea Level  \n",
       "count         134.000000                21.000000  \n",
       "mean            4.096016                 7.363746  \n",
       "std             2.312581                 0.691038  \n",
       "min             0.464567                 6.297493  \n",
       "25%             2.240157                 6.848690  \n",
       "50%             3.710630                 7.488353  \n",
       "75%             5.845472                 7.907365  \n",
       "max             9.661417                 8.546648  "
      ]
     },
     "execution_count": 5,
     "metadata": {},
     "output_type": "execute_result"
    }
   ],
   "source": [
    "# Display dataset summary statistics\n",
    "df.describe()"
   ]
  },
  {
   "cell_type": "markdown",
   "id": "7b8ef2aa-f809-43b9-b0af-16490a8a128c",
   "metadata": {},
   "source": [
    "## **Exercise 2: Identifying Outliers**\n",
    "🔹 **Question:** Use the **interquartile range (IQR)** method to detect outliers in the **CSIRO Adjusted Sea Level** column. "
   ]
  },
  {
   "cell_type": "code",
   "execution_count": 26,
   "id": "75707f36-297b-42a7-94be-f066cec055f0",
   "metadata": {},
   "outputs": [
    {
     "name": "stdout",
     "output_type": "stream",
     "text": [
      "Lower Bound: -4.30, Upper Bound: 11.52\n",
      "Outliers Detected:\n",
      "No outliers found.\n"
     ]
    }
   ],
   "source": [
    "# Drop NaN values\n",
    "df_filtered = df[\"CSIRO Adjusted Sea Level\"].dropna()\n",
    "\n",
    "# Calculate IQR\n",
    "Q1 = df_filtered.quantile(0.25)\n",
    "Q3 = df_filtered.quantile(0.75)\n",
    "IQR = Q3 - Q1\n",
    "\n",
    "# Define outlier thresholds \n",
    "lower_bound = Q1 - 1.5 * IQR # This multiplier is a standard rule-of-thumb to identify \"mild\" outliers. \n",
    "upper_bound = Q3 + 1.5 * IQR # Values beyond these bounds are statistically unusual in many real-world datasets (they lie ~2.7σ away from the mean in a normal distribution).\n",
    "\n",
    "# Print thresholds\n",
    "print(f\"Lower Bound: {lower_bound:.2f}, Upper Bound: {upper_bound:.2f}\")\n",
    "\n",
    "# Find outliers\n",
    "outliers = df_filtered[(df_filtered < lower_bound) | (df_filtered > upper_bound)]\n",
    "print(\"Outliers Detected:\")\n",
    "print(outliers if not outliers.empty else \"No outliers found.\")"
   ]
  },
  {
   "cell_type": "markdown",
   "id": "d2a2c3c1-d102-4d06-abc3-53c7bc0cf8ae",
   "metadata": {},
   "source": [
    "## **Exercise 3: Exploring Distributions**\n",
    "🔹 **Question:** Create a **boxplot** of sea level rise grouped by decade (e.g., 1880-1890, 1891-1900, etc.).  "
   ]
  },
  {
   "cell_type": "code",
   "execution_count": 29,
   "id": "0fa4a2e7-8e53-4dee-8692-55a092e64ed2",
   "metadata": {},
   "outputs": [
    {
     "data": {
      "image/png": "[encoded data removed]",
      "text/plain": [
       "<Figure size 1000x500 with 1 Axes>"
      ]
     },
     "metadata": {},
     "output_type": "display_data"
    }
   ],
   "source": [
    "# Creating a new column for decade grouping\n",
    "df[\"Decade\"] = (df[\"Year\"] // 10) * 10\n",
    "\n",
    "# Plot boxplot\n",
    "plt.figure(figsize=(10, 5))\n",
    "sns.boxplot(x=\"Decade\", y=\"CSIRO Adjusted Sea Level\", data=df)\n",
    "plt.xticks(rotation=45)\n",
    "plt.title(\"Boxplot of Sea Level Change by Decade\")\n",
    "plt.xlabel(\"Decade\")\n",
    "plt.ylabel(\"Sea Level Change (mm)\")\n",
    "plt.show()"
   ]
  },
  {
   "cell_type": "markdown",
   "id": "2b27b174-18b9-4973-bfb8-3a41d02fbe7e",
   "metadata": {},
   "source": [
    "## **Exercise 4: Hypothesis Testing on Trends**\n",
    "🔹 **Question:** Perform a **T-test** to check if the mean sea level in the 21st century (2000-2014) is significantly higher than in the 20th century (1900-1999)."
   ]
  },
  {
   "cell_type": "code",
   "execution_count": 32,
   "id": "0bebadbb-65e3-4ee8-99ec-dc4658057b84",
   "metadata": {},
   "outputs": [
    {
     "name": "stdout",
     "output_type": "stream",
     "text": [
      "T-test Results:\n",
      "T-statistic: 23.491, P-value: 0.000\n"
     ]
    }
   ],
   "source": [
    "# Splitting the dataset\n",
    "sea_level_20th = df[(df[\"Year\"] >= 1900) & (df[\"Year\"] <= 1999)][\"CSIRO Adjusted Sea Level\"]\n",
    "sea_level_21st = df[df[\"Year\"] >= 2000][\"CSIRO Adjusted Sea Level\"]\n",
    "\n",
    "# Perform a T-test\n",
    "t_stat, p_value = ttest_1samp(sea_level_21st, sea_level_20th.mean())\n",
    "\n",
    "print(f\"T-test Results:\\nT-statistic: {t_stat:.3f}, P-value: {p_value:.3f}\")"
   ]
  },
  {
   "metadata": {},
   "cell_type": "markdown",
   "source": "",
   "id": "451d110e41d8e3b9"
  },
  {
   "cell_type": "markdown",
   "id": "fbac4823-757f-402a-8c2c-0bd7ab8403d0",
   "metadata": {},
   "source": [
    "## **Exercise 5: Probability Distributions**\n",
    "🔹 **Question:** Fit a **Poisson distribution** to the sea level rise data.  "
   ]
  },
  {
   "cell_type": "code",
   "execution_count": 35,
   "id": "57204c99-80af-4f32-998d-2da81f303dd9",
   "metadata": {},
   "outputs": [
    {
     "data": {
      "image/png": "[encoded data removed]",
      "text/plain": [
       "<Figure size 640x480 with 1 Axes>"
      ]
     },
     "metadata": {},
     "output_type": "display_data"
    }
   ],
   "source": [
    "# Estimate the mean of sea level changes\n",
    "lambda_value = df[\"CSIRO Adjusted Sea Level\"].mean()\n",
    "\n",
    "# Generate Poisson distribution\n",
    "poisson_data = np.random.poisson(lam=lambda_value, size=1000)\n",
    "\n",
    "# Plot distribution\n",
    "sns.histplot(poisson_data, kde=True, bins=30, color=\"blue\")\n",
    "plt.title(\"Poisson Distribution of Sea Level Rise\")\n",
    "plt.xlabel(\"Sea Level Change (mm)\")\n",
    "plt.ylabel(\"Frequency\")\n",
    "plt.show()"
   ]
  },
  {
   "cell_type": "markdown",
   "id": "677f0c19-dc47-46f4-b219-7cfaf5bf30be",
   "metadata": {},
   "source": [
    "## **Exercise 6: Correlation Analysis**\n",
    "🔹 **Question:** Check if there is a correlation between **CSIRO Adjusted Sea Level** and **NOAA Adjusted Sea Level**. "
   ]
  },
  {
   "cell_type": "code",
   "execution_count": 38,
   "id": "2966de13-1996-4a5d-8c9e-7908468b2bcf",
   "metadata": {},
   "outputs": [
    {
     "name": "stdout",
     "output_type": "stream",
     "text": [
      "Correlation Matrix:\n",
      "                          CSIRO Adjusted Sea Level  NOAA Adjusted Sea Level\n",
      "CSIRO Adjusted Sea Level                  1.000000                 0.976708\n",
      "NOAA Adjusted Sea Level                   0.976708                 1.000000\n"
     ]
    }
   ],
   "source": [
    "# Check correlation\n",
    "correlation = df[[\"CSIRO Adjusted Sea Level\", \"NOAA Adjusted Sea Level\"]].corr()\n",
    "\n",
    "print(\"Correlation Matrix:\")\n",
    "print(correlation)"
   ]
  },
  {
   "cell_type": "markdown",
   "id": "a8e7099b-d051-4bc2-817a-f17682b99d4e",
   "metadata": {},
   "source": [
    "## **Exercise 7: Summary Reflection**\n",
    "🔹 **Question:** Summarize your findings from this analysis. "
   ]
  },
  {
   "cell_type": "markdown",
   "id": "c5cfc65f-c897-4774-9c6c-dfd2b7997775",
   "metadata": {},
   "source": [
    "### **Summary Reflection **\n",
    "\n",
    "The analysis of sea level changes over time has provided key insights into global climate trends. The dataset, spanning from **1880 to 2013**, shows a steady increase in sea levels, with an **average change of 3.65 mm** and a **standard deviation of 2.49 mm**, indicating some variability but an overall upward trend. Using the **Interquartile Range (IQR) method**, we found **no significant outliers**, suggesting that the changes in sea levels have been relatively **consistent and gradual** over time. \n",
    "\n",
    "Exploring the distribution of sea level changes revealed that the data **does not perfectly follow a normal distribution**, likely due to external environmental factors. A **T-test comparing sea levels from the 20th and 21st centuries** confirmed a **statistically significant increase**, supporting concerns about climate change. Further, a **Poisson distribution model** suggested that **sea level changes occur randomly but at a consistent rate**, making it useful for predicting future trends.\n",
    "\n",
    "Additionally, a **strong correlation (0.97) between CSIRO and NOAA sea level measurements** indicates that both organizations report similar trends, strengthening confidence in the reliability of the dataset. Overall, the findings confirm that **sea levels are rising significantly**, with modern levels being much higher than in the early 20th century. This suggests that **climate change is a major contributing factor**, and statistical models can help project future trends. Further analysis could explore which **time periods experienced the most drastic changes** and assess the impact of external variables such as **ice melt and temperature fluctuations**.\n"
   ]
  },
  {
   "cell_type": "code",
   "execution_count": null,
   "id": "c80e67b8-d860-4641-877e-886191b9f76b",
   "metadata": {},
   "outputs": [],
   "source": []
  }
 ],
 "metadata": {
  "kernelspec": {
   "display_name": "Python 3 (ipykernel)",
   "language": "python",
   "name": "python3"
  },
  "language_info": {
   "codemirror_mode": {
    "name": "ipython",
    "version": 3
   },
   "file_extension": ".py",
   "mimetype": "text/x-python",
   "name": "python",
   "nbconvert_exporter": "python",
   "pygments_lexer": "ipython3",
   "version": "3.11.9"
  }
 },
 "nbformat": 4,
 "nbformat_minor": 5
}

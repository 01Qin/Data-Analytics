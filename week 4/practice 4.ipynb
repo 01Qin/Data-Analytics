{
 "cells": [
  {
   "metadata": {},
   "cell_type": "markdown",
   "source": "",
   "id": "f66430cc72a69326"
  },
  {
   "cell_type": "markdown",
   "id": "e3af01f0-eb01-4668-ba00-755922f5413a",
   "metadata": {},
   "source": [
    "## Hands-on - Probability Distributions and Variability"
   ]
  },
  {
   "cell_type": "code",
   "id": "a56353bd",
   "metadata": {
    "ExecuteTime": {
     "end_time": "2025-03-31T12:27:34.379952Z",
     "start_time": "2025-03-31T12:27:34.164753Z"
    }
   },
   "source": [
    "# Import necessary libraries\n",
    "import pandas as pd\n",
    "import numpy as np\n",
    "import seaborn as sns\n",
    "import scipy.stats as stats\n",
    "import matplotlib.pyplot as plt\n",
    "from scipy.stats import binom, norm, ttest_1samp, mannwhitneyu, chi2_contingency\n",
    "\n",
    "# Load dataset from GitHub URL\n",
    "file_path = \"https://raw.githubusercontent.com/Hamed-Ahmadinia/DASP-2025/main/epa-sea-level.csv\"  # URL link to the dataset stored on GitHub\n",
    "\n",
    "# Read the dataset into a pandas dataframe\n",
    "df = pd.read_csv(file_path)  # Load the dataset as a pandas DataFrame\n",
    "\n",
    "# Display the first few rows of the dataframe to confirm the data has been loaded correctly\n",
    "print(\"Dataset Preview:\")  # Print a label for context\n",
    "print(df.head(5))  # Display the first 5 rows of the dataset"
   ],
   "outputs": [
    {
     "name": "stdout",
     "output_type": "stream",
     "text": [
      "Dataset Preview:\n",
      "   Year  CSIRO Adjusted Sea Level  Lower Error Bound  Upper Error Bound  \\\n",
      "0  1880                  0.000000          -0.952756           0.952756   \n",
      "1  1881                  0.220472          -0.732283           1.173228   \n",
      "2  1882                 -0.440945          -1.346457           0.464567   \n",
      "3  1883                 -0.232283          -1.129921           0.665354   \n",
      "4  1884                  0.590551          -0.283465           1.464567   \n",
      "\n",
      "   NOAA Adjusted Sea Level  \n",
      "0                      NaN  \n",
      "1                      NaN  \n",
      "2                      NaN  \n",
      "3                      NaN  \n",
      "4                      NaN  \n"
     ]
    }
   ],
   "execution_count": 9
  },
  {
   "cell_type": "markdown",
   "id": "878fcaa5-7ebc-401a-99ae-c16c1c24bb9f",
   "metadata": {},
   "source": [
    "## **Exercise 1: Understanding the Dataset**\n",
    "🔹 **Question:** Display key statistics about the dataset using `.describe()`. `."
   ]
  },
  {
   "cell_type": "code",
   "id": "ce2da9e1-00e5-477a-ab10-0afdc58ff97a",
   "metadata": {
    "ExecuteTime": {
     "end_time": "2025-03-31T12:27:34.412320Z",
     "start_time": "2025-03-31T12:27:34.402107Z"
    }
   },
   "source": [
    "# Your code here:\n",
    "df.describe()"
   ],
   "outputs": [
    {
     "data": {
      "text/plain": [
       "              Year  CSIRO Adjusted Sea Level  Lower Error Bound  \\\n",
       "count   134.000000                134.000000         134.000000   \n",
       "mean   1946.500000                  3.650341           3.204666   \n",
       "std      38.826537                  2.485692           2.663781   \n",
       "min    1880.000000                 -0.440945          -1.346457   \n",
       "25%    1913.250000                  1.632874           1.078740   \n",
       "50%    1946.500000                  3.312992           2.915354   \n",
       "75%    1979.750000                  5.587598           5.329724   \n",
       "max    2013.000000                  9.326772           8.992126   \n",
       "\n",
       "       Upper Error Bound  NOAA Adjusted Sea Level  \n",
       "count         134.000000                21.000000  \n",
       "mean            4.096016                 7.363746  \n",
       "std             2.312581                 0.691038  \n",
       "min             0.464567                 6.297493  \n",
       "25%             2.240157                 6.848690  \n",
       "50%             3.710630                 7.488353  \n",
       "75%             5.845472                 7.907365  \n",
       "max             9.661417                 8.546648  "
      ],
      "text/html": [
       "<div>\n",
       "<style scoped>\n",
       "    .dataframe tbody tr th:only-of-type {\n",
       "        vertical-align: middle;\n",
       "    }\n",
       "\n",
       "    .dataframe tbody tr th {\n",
       "        vertical-align: top;\n",
       "    }\n",
       "\n",
       "    .dataframe thead th {\n",
       "        text-align: right;\n",
       "    }\n",
       "</style>\n",
       "<table border=\"1\" class=\"dataframe\">\n",
       "  <thead>\n",
       "    <tr style=\"text-align: right;\">\n",
       "      <th></th>\n",
       "      <th>Year</th>\n",
       "      <th>CSIRO Adjusted Sea Level</th>\n",
       "      <th>Lower Error Bound</th>\n",
       "      <th>Upper Error Bound</th>\n",
       "      <th>NOAA Adjusted Sea Level</th>\n",
       "    </tr>\n",
       "  </thead>\n",
       "  <tbody>\n",
       "    <tr>\n",
       "      <th>count</th>\n",
       "      <td>134.000000</td>\n",
       "      <td>134.000000</td>\n",
       "      <td>134.000000</td>\n",
       "      <td>134.000000</td>\n",
       "      <td>21.000000</td>\n",
       "    </tr>\n",
       "    <tr>\n",
       "      <th>mean</th>\n",
       "      <td>1946.500000</td>\n",
       "      <td>3.650341</td>\n",
       "      <td>3.204666</td>\n",
       "      <td>4.096016</td>\n",
       "      <td>7.363746</td>\n",
       "    </tr>\n",
       "    <tr>\n",
       "      <th>std</th>\n",
       "      <td>38.826537</td>\n",
       "      <td>2.485692</td>\n",
       "      <td>2.663781</td>\n",
       "      <td>2.312581</td>\n",
       "      <td>0.691038</td>\n",
       "    </tr>\n",
       "    <tr>\n",
       "      <th>min</th>\n",
       "      <td>1880.000000</td>\n",
       "      <td>-0.440945</td>\n",
       "      <td>-1.346457</td>\n",
       "      <td>0.464567</td>\n",
       "      <td>6.297493</td>\n",
       "    </tr>\n",
       "    <tr>\n",
       "      <th>25%</th>\n",
       "      <td>1913.250000</td>\n",
       "      <td>1.632874</td>\n",
       "      <td>1.078740</td>\n",
       "      <td>2.240157</td>\n",
       "      <td>6.848690</td>\n",
       "    </tr>\n",
       "    <tr>\n",
       "      <th>50%</th>\n",
       "      <td>1946.500000</td>\n",
       "      <td>3.312992</td>\n",
       "      <td>2.915354</td>\n",
       "      <td>3.710630</td>\n",
       "      <td>7.488353</td>\n",
       "    </tr>\n",
       "    <tr>\n",
       "      <th>75%</th>\n",
       "      <td>1979.750000</td>\n",
       "      <td>5.587598</td>\n",
       "      <td>5.329724</td>\n",
       "      <td>5.845472</td>\n",
       "      <td>7.907365</td>\n",
       "    </tr>\n",
       "    <tr>\n",
       "      <th>max</th>\n",
       "      <td>2013.000000</td>\n",
       "      <td>9.326772</td>\n",
       "      <td>8.992126</td>\n",
       "      <td>9.661417</td>\n",
       "      <td>8.546648</td>\n",
       "    </tr>\n",
       "  </tbody>\n",
       "</table>\n",
       "</div>"
      ]
     },
     "execution_count": 10,
     "metadata": {},
     "output_type": "execute_result"
    }
   ],
   "execution_count": 10
  },
  {
   "cell_type": "markdown",
   "id": "7186c00d-4ac0-4853-8977-728f17e0ab64",
   "metadata": {},
   "source": [
    "## **Exercise 2: Identifying Outliers**\n",
    "🔹 **Question:** Use the **interquartile range (IQR)** method to detect outliers in the **CSIRO Adjusted Sea Level** column. .)re)  \n"
   ]
  },
  {
   "cell_type": "code",
   "id": "40ffded5-78e1-43f9-b0ab-979662f0e3b1",
   "metadata": {
    "ExecuteTime": {
     "end_time": "2025-03-31T12:27:34.677489Z",
     "start_time": "2025-03-31T12:27:34.551424Z"
    }
   },
   "source": [
    "# Your code here:\n",
    "# Calculate Q1 (25th percentile), Q3 (75th percentile), and IQR for sea level\n",
    "q1_level = df[\"CSIRO Adjusted Sea Level\"].quantile(0.25)\n",
    "q3_level = df[\"CSIRO Adjusted Sea Level\"].quantile(0.75)\n",
    "iqr_level = q3_level - q1_level\n",
    "print(f\"25th percentile of sea level: {q1_level}\")\n",
    "print(f\"75th percentile of sea level: {q3_level}\")\n",
    "print(f\"IQR level: {iqr_level}\")\n",
    "\n",
    "# Visualize IQR using a boxplot\n",
    "plt.figure(figsize = (8, 5))\n",
    "sns.boxplot(x = df[\"CSIRO Adjusted Sea Level\"])\n",
    "plt.title(\"Boxplot of CSIRO Adjusted Sea Level distribution\")\n",
    "plt.show()\n"
   ],
   "outputs": [
    {
     "name": "stdout",
     "output_type": "stream",
     "text": [
      "25th percentile of sea level: 1.632874014\n",
      "75th percentile of sea level: 5.5875984195\n",
      "IQR level: 3.9547244055\n"
     ]
    },
    {
     "data": {
      "text/plain": [
       "<Figure size 800x500 with 1 Axes>"
      ],
      "image/png": "[encoded data removed]"
     },
     "metadata": {},
     "output_type": "display_data"
    }
   ],
   "execution_count": 11
  },
  {
   "metadata": {},
   "cell_type": "markdown",
   "source": "",
   "id": "968c1271726b00a7"
  },
  {
   "cell_type": "markdown",
   "id": "abb7e8b6-88f3-4c20-a706-1866b901f936",
   "metadata": {},
   "source": [
    "## **Exercise 3: Exploring Distributions**\n",
    "🔹 **Question:** Create a **boxplot** of sea level rise grouped by decade (e.g., 1880-1890, 1891-1900, etc.). e?"
   ]
  },
  {
   "metadata": {},
   "cell_type": "markdown",
   "source": "",
   "id": "e620ca5c943a62c6"
  },
  {
   "cell_type": "code",
   "id": "f2530035-c7dc-49e8-b34a-6eb82408850c",
   "metadata": {
    "ExecuteTime": {
     "end_time": "2025-03-31T13:06:00.473590Z",
     "start_time": "2025-03-31T13:06:00.380380Z"
    }
   },
   "source": [
    "# Your code here:\n",
    "df['Decade'] = (df['Year'] // 10) * 10\n",
    "sea_level_by_decade = df.groupby('Year')['CSIRO Adjusted Sea Level'].mean()\n",
    "\n",
    "plt.figure(figsize=(8, 5))\n",
    "sns.boxplot(x=df[\"Decade\"])\n",
    "plt.title(\"Sea Level Rise by Decade\")\n",
    "plt.xlabel('Decade')\n",
    "plt.ylabel('CSIRO Adjusted Sea Level')\n",
    "plt.show()"
   ],
   "outputs": [
    {
     "data": {
      "text/plain": [
       "<Figure size 800x500 with 1 Axes>"
      ],
      "image/png": "[encoded data removed]"
     },
     "metadata": {},
     "output_type": "display_data"
    }
   ],
   "execution_count": 19
  },
  {
   "metadata": {},
   "cell_type": "markdown",
   "source": "",
   "id": "197b6a9ec9ee7ec5"
  },
  {
   "cell_type": "markdown",
   "id": "3542b40f-45c0-4b19-a00b-6832bb1f8933",
   "metadata": {},
   "source": [
    "## **Exercise 4: Hypothesis Testing on Trends**\n",
    "🔹 **Question:** Perform a **T-test** to check if the mean sea level in the 21st century (2000-2014) is significantly higher than in the 20th century (1900-1999).  \n"
   ]
  },
  {
   "cell_type": "code",
   "id": "e71a544c-dafa-4277-93fc-55877a245927",
   "metadata": {
    "ExecuteTime": {
     "end_time": "2025-04-01T12:38:17.838772Z",
     "start_time": "2025-04-01T12:38:17.752959Z"
    }
   },
   "source": [
    "# Your code here:\n",
    "# check if the mean sea level in the 21st century (2000-2014) is significantly higher than in the 20th century (1900-1999)\n",
    "\n",
    "# Extract the first 29 days of Monero prices\n",
    "xs21 = df[(df['Year'] >= 2000) & (df['Year'] <= 2014)]['CSIRO Adjusted Sea Level']\n",
    "xs20 = df[(df['Year'] >= 1900) & (df['Year'] <= 1999)]['CSIRO Adjusted Sea Level']\n",
    "\n",
    "# Calculate the mean of this 29-day sample (optional, for context)\n",
    "xs21_mean = xs21.mean()\n",
    "# xs20_mean = xs20.mean()\n",
    "\n",
    "# Perform a t-test: is the mean sea level in the 21st century (2000-2014) is significantly higher than in the 20th century (1900-1999)?\n",
    "t_stat_xs21, p_val_xs21 = ttest_1samp(xs21, popmean=1)\n",
    "\n",
    "# Display test statistic and p-value\n",
    "print(f\"\\nT-test (21st century vs 20st century): t-stat = {t_stat_xs21:.3f}, p-value = {p_val_xs21:.3f}\")\n",
    "\n",
    "plt.figure(figsize=(12, 5))\n",
    "\n",
    "# Histogram + KDE for the 21st century\n",
    "plt.subplot(1, 2, 1)\n",
    "sns.histplot(xs21, kde=True, color='orange')\n",
    "plt.axvline(xs20, color='red', linestyle='--', label=\"20th (comparison mean)\")\n",
    "plt.title(\"Histogram of Sea level\")\n",
    "plt.xlabel(\"Sea Level\")\n",
    "plt.ylabel(\"Frequency\")\n",
    "plt.legend()\n",
    "\n",
    "# Q-Q plot to check for normality of the sample (assumption for t-test)\n",
    "plt.subplot(1, 2, 2)\n",
    "import scipy.stats as stats\n",
    "stats.probplot(xs21, dist=\"norm\", plot=plt)\n",
    "plt.title(\"Q-Q Plot of Sea level\")\n",
    "\n",
    "# Adjust layout for a clean display\n",
    "plt.tight_layout()\n",
    "plt.show()"
   ],
   "outputs": [
    {
     "name": "stdout",
     "output_type": "stream",
     "text": [
      "\n",
      "T-test (21st century vs 20st century): t-stat = 37.477, p-value = 0.000\n"
     ]
    },
    {
     "ename": "ValueError",
     "evalue": "The truth value of a Series is ambiguous. Use a.empty, a.bool(), a.item(), a.any() or a.all().",
     "output_type": "error",
     "traceback": [
      "\u001B[0;31m---------------------------------------------------------------------------\u001B[0m",
      "\u001B[0;31mValueError\u001B[0m                                Traceback (most recent call last)",
      "\u001B[0;32m/var/folders/hb/3jl8x77x5k94tq98l6fz3cbr0000gn/T/ipykernel_67029/1267643587.py\u001B[0m in \u001B[0;36m?\u001B[0;34m()\u001B[0m\n\u001B[1;32m     19\u001B[0m \u001B[0;34m\u001B[0m\u001B[0m\n\u001B[1;32m     20\u001B[0m \u001B[0;31m# Histogram + KDE for the 21st century\u001B[0m\u001B[0;34m\u001B[0m\u001B[0;34m\u001B[0m\u001B[0m\n\u001B[1;32m     21\u001B[0m \u001B[0mplt\u001B[0m\u001B[0;34m.\u001B[0m\u001B[0msubplot\u001B[0m\u001B[0;34m(\u001B[0m\u001B[0;36m1\u001B[0m\u001B[0;34m,\u001B[0m \u001B[0;36m2\u001B[0m\u001B[0;34m,\u001B[0m \u001B[0;36m1\u001B[0m\u001B[0;34m)\u001B[0m\u001B[0;34m\u001B[0m\u001B[0;34m\u001B[0m\u001B[0m\n\u001B[1;32m     22\u001B[0m \u001B[0msns\u001B[0m\u001B[0;34m.\u001B[0m\u001B[0mhistplot\u001B[0m\u001B[0;34m(\u001B[0m\u001B[0mxs21\u001B[0m\u001B[0;34m,\u001B[0m \u001B[0mkde\u001B[0m\u001B[0;34m=\u001B[0m\u001B[0;32mTrue\u001B[0m\u001B[0;34m,\u001B[0m \u001B[0mcolor\u001B[0m\u001B[0;34m=\u001B[0m\u001B[0;34m'orange'\u001B[0m\u001B[0;34m)\u001B[0m\u001B[0;34m\u001B[0m\u001B[0;34m\u001B[0m\u001B[0m\n\u001B[0;32m---> 23\u001B[0;31m \u001B[0mplt\u001B[0m\u001B[0;34m.\u001B[0m\u001B[0maxvline\u001B[0m\u001B[0;34m(\u001B[0m\u001B[0mxs20\u001B[0m\u001B[0;34m,\u001B[0m \u001B[0mcolor\u001B[0m\u001B[0;34m=\u001B[0m\u001B[0;34m'red'\u001B[0m\u001B[0;34m,\u001B[0m \u001B[0mlinestyle\u001B[0m\u001B[0;34m=\u001B[0m\u001B[0;34m'--'\u001B[0m\u001B[0;34m,\u001B[0m \u001B[0mlabel\u001B[0m\u001B[0;34m=\u001B[0m\u001B[0;34m\"20th (comparison mean)\"\u001B[0m\u001B[0;34m)\u001B[0m\u001B[0;34m\u001B[0m\u001B[0;34m\u001B[0m\u001B[0m\n\u001B[0m\u001B[1;32m     24\u001B[0m \u001B[0mplt\u001B[0m\u001B[0;34m.\u001B[0m\u001B[0mtitle\u001B[0m\u001B[0;34m(\u001B[0m\u001B[0;34m\"Histogram of Sea level\"\u001B[0m\u001B[0;34m)\u001B[0m\u001B[0;34m\u001B[0m\u001B[0;34m\u001B[0m\u001B[0m\n\u001B[1;32m     25\u001B[0m \u001B[0mplt\u001B[0m\u001B[0;34m.\u001B[0m\u001B[0mxlabel\u001B[0m\u001B[0;34m(\u001B[0m\u001B[0;34m\"Sea Level\"\u001B[0m\u001B[0;34m)\u001B[0m\u001B[0;34m\u001B[0m\u001B[0;34m\u001B[0m\u001B[0m\n\u001B[1;32m     26\u001B[0m \u001B[0mplt\u001B[0m\u001B[0;34m.\u001B[0m\u001B[0mylabel\u001B[0m\u001B[0;34m(\u001B[0m\u001B[0;34m\"Frequency\"\u001B[0m\u001B[0;34m)\u001B[0m\u001B[0;34m\u001B[0m\u001B[0;34m\u001B[0m\u001B[0m\n",
      "\u001B[0;32m/opt/anaconda3/lib/python3.12/site-packages/matplotlib/pyplot.py\u001B[0m in \u001B[0;36m?\u001B[0;34m(x, ymin, ymax, **kwargs)\u001B[0m\n\u001B[1;32m   2956\u001B[0m \u001B[0;34m@\u001B[0m\u001B[0m_copy_docstring_and_deprecators\u001B[0m\u001B[0;34m(\u001B[0m\u001B[0mAxes\u001B[0m\u001B[0;34m.\u001B[0m\u001B[0maxvline\u001B[0m\u001B[0;34m)\u001B[0m\u001B[0;34m\u001B[0m\u001B[0;34m\u001B[0m\u001B[0m\n\u001B[1;32m   2957\u001B[0m \u001B[0;32mdef\u001B[0m \u001B[0maxvline\u001B[0m\u001B[0;34m(\u001B[0m\u001B[0mx\u001B[0m\u001B[0;34m:\u001B[0m \u001B[0mfloat\u001B[0m \u001B[0;34m=\u001B[0m \u001B[0;36m0\u001B[0m\u001B[0;34m,\u001B[0m \u001B[0mymin\u001B[0m\u001B[0;34m:\u001B[0m \u001B[0mfloat\u001B[0m \u001B[0;34m=\u001B[0m \u001B[0;36m0\u001B[0m\u001B[0;34m,\u001B[0m \u001B[0mymax\u001B[0m\u001B[0;34m:\u001B[0m \u001B[0mfloat\u001B[0m \u001B[0;34m=\u001B[0m \u001B[0;36m1\u001B[0m\u001B[0;34m,\u001B[0m \u001B[0;34m**\u001B[0m\u001B[0mkwargs\u001B[0m\u001B[0;34m)\u001B[0m \u001B[0;34m->\u001B[0m \u001B[0mLine2D\u001B[0m\u001B[0;34m:\u001B[0m\u001B[0;34m\u001B[0m\u001B[0;34m\u001B[0m\u001B[0m\n\u001B[0;32m-> 2958\u001B[0;31m     \u001B[0;32mreturn\u001B[0m \u001B[0mgca\u001B[0m\u001B[0;34m(\u001B[0m\u001B[0;34m)\u001B[0m\u001B[0;34m.\u001B[0m\u001B[0maxvline\u001B[0m\u001B[0;34m(\u001B[0m\u001B[0mx\u001B[0m\u001B[0;34m=\u001B[0m\u001B[0mx\u001B[0m\u001B[0;34m,\u001B[0m \u001B[0mymin\u001B[0m\u001B[0;34m=\u001B[0m\u001B[0mymin\u001B[0m\u001B[0;34m,\u001B[0m \u001B[0mymax\u001B[0m\u001B[0;34m=\u001B[0m\u001B[0mymax\u001B[0m\u001B[0;34m,\u001B[0m \u001B[0;34m**\u001B[0m\u001B[0mkwargs\u001B[0m\u001B[0;34m)\u001B[0m\u001B[0;34m\u001B[0m\u001B[0;34m\u001B[0m\u001B[0m\n\u001B[0m",
      "\u001B[0;32m/opt/anaconda3/lib/python3.12/site-packages/matplotlib/axes/_axes.py\u001B[0m in \u001B[0;36m?\u001B[0;34m(self, x, ymin, ymax, **kwargs)\u001B[0m\n\u001B[1;32m    884\u001B[0m         \u001B[0mxmin\u001B[0m\u001B[0;34m,\u001B[0m \u001B[0mxmax\u001B[0m \u001B[0;34m=\u001B[0m \u001B[0mself\u001B[0m\u001B[0;34m.\u001B[0m\u001B[0mget_xbound\u001B[0m\u001B[0;34m(\u001B[0m\u001B[0;34m)\u001B[0m\u001B[0;34m\u001B[0m\u001B[0;34m\u001B[0m\u001B[0m\n\u001B[1;32m    885\u001B[0m \u001B[0;34m\u001B[0m\u001B[0m\n\u001B[1;32m    886\u001B[0m         \u001B[0;31m# Strip away the units for comparison with non-unitized bounds.\u001B[0m\u001B[0;34m\u001B[0m\u001B[0;34m\u001B[0m\u001B[0m\n\u001B[1;32m    887\u001B[0m         \u001B[0mxx\u001B[0m\u001B[0;34m,\u001B[0m \u001B[0;34m=\u001B[0m \u001B[0mself\u001B[0m\u001B[0;34m.\u001B[0m\u001B[0m_process_unit_info\u001B[0m\u001B[0;34m(\u001B[0m\u001B[0;34m[\u001B[0m\u001B[0;34m(\u001B[0m\u001B[0;34m\"x\"\u001B[0m\u001B[0;34m,\u001B[0m \u001B[0mx\u001B[0m\u001B[0;34m)\u001B[0m\u001B[0;34m]\u001B[0m\u001B[0;34m,\u001B[0m \u001B[0mkwargs\u001B[0m\u001B[0;34m)\u001B[0m\u001B[0;34m\u001B[0m\u001B[0;34m\u001B[0m\u001B[0m\n\u001B[0;32m--> 888\u001B[0;31m         \u001B[0mscalex\u001B[0m \u001B[0;34m=\u001B[0m \u001B[0;34m(\u001B[0m\u001B[0mxx\u001B[0m \u001B[0;34m<\u001B[0m \u001B[0mxmin\u001B[0m\u001B[0;34m)\u001B[0m \u001B[0;32mor\u001B[0m \u001B[0;34m(\u001B[0m\u001B[0mxx\u001B[0m \u001B[0;34m>\u001B[0m \u001B[0mxmax\u001B[0m\u001B[0;34m)\u001B[0m\u001B[0;34m\u001B[0m\u001B[0;34m\u001B[0m\u001B[0m\n\u001B[0m\u001B[1;32m    889\u001B[0m \u001B[0;34m\u001B[0m\u001B[0m\n\u001B[1;32m    890\u001B[0m         \u001B[0mtrans\u001B[0m \u001B[0;34m=\u001B[0m \u001B[0mself\u001B[0m\u001B[0;34m.\u001B[0m\u001B[0mget_xaxis_transform\u001B[0m\u001B[0;34m(\u001B[0m\u001B[0mwhich\u001B[0m\u001B[0;34m=\u001B[0m\u001B[0;34m'grid'\u001B[0m\u001B[0;34m)\u001B[0m\u001B[0;34m\u001B[0m\u001B[0;34m\u001B[0m\u001B[0m\n\u001B[1;32m    891\u001B[0m         \u001B[0ml\u001B[0m \u001B[0;34m=\u001B[0m \u001B[0mmlines\u001B[0m\u001B[0;34m.\u001B[0m\u001B[0mLine2D\u001B[0m\u001B[0;34m(\u001B[0m\u001B[0;34m[\u001B[0m\u001B[0mx\u001B[0m\u001B[0;34m,\u001B[0m \u001B[0mx\u001B[0m\u001B[0;34m]\u001B[0m\u001B[0;34m,\u001B[0m \u001B[0;34m[\u001B[0m\u001B[0mymin\u001B[0m\u001B[0;34m,\u001B[0m \u001B[0mymax\u001B[0m\u001B[0;34m]\u001B[0m\u001B[0;34m,\u001B[0m \u001B[0mtransform\u001B[0m\u001B[0;34m=\u001B[0m\u001B[0mtrans\u001B[0m\u001B[0;34m,\u001B[0m \u001B[0;34m**\u001B[0m\u001B[0mkwargs\u001B[0m\u001B[0;34m)\u001B[0m\u001B[0;34m\u001B[0m\u001B[0;34m\u001B[0m\u001B[0m\n",
      "\u001B[0;32m/opt/anaconda3/lib/python3.12/site-packages/pandas/core/generic.py\u001B[0m in \u001B[0;36m?\u001B[0;34m(self)\u001B[0m\n\u001B[1;32m   1575\u001B[0m     \u001B[0;34m@\u001B[0m\u001B[0mfinal\u001B[0m\u001B[0;34m\u001B[0m\u001B[0;34m\u001B[0m\u001B[0m\n\u001B[1;32m   1576\u001B[0m     \u001B[0;32mdef\u001B[0m \u001B[0m__nonzero__\u001B[0m\u001B[0;34m(\u001B[0m\u001B[0mself\u001B[0m\u001B[0;34m)\u001B[0m \u001B[0;34m->\u001B[0m \u001B[0mNoReturn\u001B[0m\u001B[0;34m:\u001B[0m\u001B[0;34m\u001B[0m\u001B[0;34m\u001B[0m\u001B[0m\n\u001B[0;32m-> 1577\u001B[0;31m         raise ValueError(\n\u001B[0m\u001B[1;32m   1578\u001B[0m             \u001B[0;34mf\"\u001B[0m\u001B[0;34mThe truth value of a \u001B[0m\u001B[0;34m{\u001B[0m\u001B[0mtype\u001B[0m\u001B[0;34m(\u001B[0m\u001B[0mself\u001B[0m\u001B[0;34m)\u001B[0m\u001B[0;34m.\u001B[0m\u001B[0m__name__\u001B[0m\u001B[0;34m}\u001B[0m\u001B[0;34m is ambiguous. \u001B[0m\u001B[0;34m\"\u001B[0m\u001B[0;34m\u001B[0m\u001B[0;34m\u001B[0m\u001B[0m\n\u001B[1;32m   1579\u001B[0m             \u001B[0;34m\"Use a.empty, a.bool(), a.item(), a.any() or a.all().\"\u001B[0m\u001B[0;34m\u001B[0m\u001B[0;34m\u001B[0m\u001B[0m\n\u001B[1;32m   1580\u001B[0m         \u001B[0;34m)\u001B[0m\u001B[0;34m\u001B[0m\u001B[0;34m\u001B[0m\u001B[0m\n",
      "\u001B[0;31mValueError\u001B[0m: The truth value of a Series is ambiguous. Use a.empty, a.bool(), a.item(), a.any() or a.all()."
     ]
    },
    {
     "data": {
      "text/plain": [
       "<Figure size 1200x500 with 1 Axes>"
      ],
      "image/png": "[encoded data removed]"
     },
     "metadata": {},
     "output_type": "display_data"
    }
   ],
   "execution_count": 27
  },
  {
   "cell_type": "markdown",
   "id": "6fc3984d-5b71-4117-8ab8-f9bc81434f13",
   "metadata": {},
   "source": [
    "## **Exercise 5: Probability Distributions**\n",
    "🔹 **Question:** Fit a **Poisson distribution** to the sea level rise data. ? \n"
   ]
  },
  {
   "cell_type": "code",
   "id": "a45846a0-4136-4985-a2e1-f9706ee40ce6",
   "metadata": {
    "ExecuteTime": {
     "end_time": "2025-03-31T12:27:34.823116Z",
     "start_time": "2025-03-31T12:27:34.820856Z"
    }
   },
   "source": [
    "# Your code here:"
   ],
   "outputs": [],
   "execution_count": 14
  },
  {
   "cell_type": "markdown",
   "id": "fdd2c687-f411-4f99-860d-8e2c0be0ac3c",
   "metadata": {},
   "source": [
    "## **Exercise 6: Correlation Analysis**\n",
    "🔹 **Question:** Check if there is a correlation between **CSIRO Adjusted Sea Level** and **NOAA Adjusted Sea Level**.  "
   ]
  },
  {
   "cell_type": "code",
   "id": "aa3aa4e7-0e20-4d5f-86bb-e1ecd6daa7e5",
   "metadata": {
    "ExecuteTime": {
     "end_time": "2025-03-31T12:27:34.839493Z",
     "start_time": "2025-03-31T12:27:34.837201Z"
    }
   },
   "source": [
    "# Your code here:"
   ],
   "outputs": [],
   "execution_count": 15
  },
  {
   "cell_type": "markdown",
   "id": "c4953368-3130-4dc9-a0ff-bd31e02a00bc",
   "metadata": {},
   "source": [
    "## **Exercise 7: Summary Reflection**\n",
    "🔹 **Question:** Summarize your findings from this analysis.  "
   ]
  },
  {
   "cell_type": "code",
   "id": "f765b2eb-eb5a-49c9-83ba-dd8f817a9069",
   "metadata": {
    "ExecuteTime": {
     "end_time": "2025-03-31T12:27:34.849246Z",
     "start_time": "2025-03-31T12:27:34.847172Z"
    }
   },
   "source": [
    "# Your code here:"
   ],
   "outputs": [],
   "execution_count": 16
  },
  {
   "cell_type": "code",
   "id": "8b39c018-9959-41ef-a3b2-217d47c5c7df",
   "metadata": {
    "ExecuteTime": {
     "end_time": "2025-03-31T12:27:34.855621Z",
     "start_time": "2025-03-31T12:27:34.854294Z"
    }
   },
   "source": [],
   "outputs": [],
   "execution_count": null
  }
 ],
 "metadata": {
  "kernelspec": {
   "display_name": "Python 3 (ipykernel)",
   "language": "python",
   "name": "python3"
  },
  "language_info": {
   "codemirror_mode": {
    "name": "ipython",
    "version": 3
   },
   "file_extension": ".py",
   "mimetype": "text/x-python",
   "name": "python",
   "nbconvert_exporter": "python",
   "pygments_lexer": "ipython3",
   "version": "3.11.9"
  }
 },
 "nbformat": 4,
 "nbformat_minor": 5
}

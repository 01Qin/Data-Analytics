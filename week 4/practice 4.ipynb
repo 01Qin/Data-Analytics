{
 "cells": [
  {
   "cell_type": "markdown",
   "id": "e3af01f0-eb01-4668-ba00-755922f5413a",
   "metadata": {},
   "source": [
    "## Hands-on - Probability Distributions and Variability"
   ]
  },
  {
   "cell_type": "code",
   "id": "a56353bd",
   "metadata": {
    "ExecuteTime": {
     "end_time": "2025-03-27T19:01:49.226817Z",
     "start_time": "2025-03-27T19:01:49.010400Z"
    }
   },
   "source": [
    "# Import necessary libraries\n",
    "import pandas as pd\n",
    "import numpy as np\n",
    "import seaborn as sns\n",
    "import scipy.stats as stats\n",
    "import matplotlib.pyplot as plt\n",
    "from scipy.stats import binom, norm, ttest_1samp, mannwhitneyu, chi2_contingency\n",
    "\n",
    "# Load dataset from GitHub URL\n",
    "file_path = \"https://raw.githubusercontent.com/Hamed-Ahmadinia/DASP-2025/main/epa-sea-level.csv\"  # URL link to the dataset stored on GitHub\n",
    "\n",
    "# Read the dataset into a pandas dataframe\n",
    "df = pd.read_csv(file_path)  # Load the dataset as a pandas DataFrame\n",
    "\n",
    "# Display the first few rows of the dataframe to confirm the data has been loaded correctly\n",
    "print(\"Dataset Preview:\")  # Print a label for context\n",
    "print(df.head(5))  # Display the first 5 rows of the dataset"
   ],
   "outputs": [
    {
     "name": "stdout",
     "output_type": "stream",
     "text": [
      "Dataset Preview:\n",
      "   Year  CSIRO Adjusted Sea Level  Lower Error Bound  Upper Error Bound  \\\n",
      "0  1880                  0.000000          -0.952756           0.952756   \n",
      "1  1881                  0.220472          -0.732283           1.173228   \n",
      "2  1882                 -0.440945          -1.346457           0.464567   \n",
      "3  1883                 -0.232283          -1.129921           0.665354   \n",
      "4  1884                  0.590551          -0.283465           1.464567   \n",
      "\n",
      "   NOAA Adjusted Sea Level  \n",
      "0                      NaN  \n",
      "1                      NaN  \n",
      "2                      NaN  \n",
      "3                      NaN  \n",
      "4                      NaN  \n"
     ]
    }
   ],
   "execution_count": 1
  },
  {
   "cell_type": "markdown",
   "id": "878fcaa5-7ebc-401a-99ae-c16c1c24bb9f",
   "metadata": {},
   "source": [
    "## **Exercise 1: Understanding the Dataset**\n",
    "🔹 **Question:** Display key statistics about the dataset using `.describe()`. `."
   ]
  },
  {
   "cell_type": "code",
   "id": "ce2da9e1-00e5-477a-ab10-0afdc58ff97a",
   "metadata": {
    "ExecuteTime": {
     "end_time": "2025-03-27T19:02:21.736764Z",
     "start_time": "2025-03-27T19:02:21.713919Z"
    }
   },
   "source": [
    "# Your code here:\n",
    "df.describe()"
   ],
   "outputs": [
    {
     "data": {
      "text/plain": [
       "              Year  CSIRO Adjusted Sea Level  Lower Error Bound  \\\n",
       "count   134.000000                134.000000         134.000000   \n",
       "mean   1946.500000                  3.650341           3.204666   \n",
       "std      38.826537                  2.485692           2.663781   \n",
       "min    1880.000000                 -0.440945          -1.346457   \n",
       "25%    1913.250000                  1.632874           1.078740   \n",
       "50%    1946.500000                  3.312992           2.915354   \n",
       "75%    1979.750000                  5.587598           5.329724   \n",
       "max    2013.000000                  9.326772           8.992126   \n",
       "\n",
       "       Upper Error Bound  NOAA Adjusted Sea Level  \n",
       "count         134.000000                21.000000  \n",
       "mean            4.096016                 7.363746  \n",
       "std             2.312581                 0.691038  \n",
       "min             0.464567                 6.297493  \n",
       "25%             2.240157                 6.848690  \n",
       "50%             3.710630                 7.488353  \n",
       "75%             5.845472                 7.907365  \n",
       "max             9.661417                 8.546648  "
      ],
      "text/html": [
       "<div>\n",
       "<style scoped>\n",
       "    .dataframe tbody tr th:only-of-type {\n",
       "        vertical-align: middle;\n",
       "    }\n",
       "\n",
       "    .dataframe tbody tr th {\n",
       "        vertical-align: top;\n",
       "    }\n",
       "\n",
       "    .dataframe thead th {\n",
       "        text-align: right;\n",
       "    }\n",
       "</style>\n",
       "<table border=\"1\" class=\"dataframe\">\n",
       "  <thead>\n",
       "    <tr style=\"text-align: right;\">\n",
       "      <th></th>\n",
       "      <th>Year</th>\n",
       "      <th>CSIRO Adjusted Sea Level</th>\n",
       "      <th>Lower Error Bound</th>\n",
       "      <th>Upper Error Bound</th>\n",
       "      <th>NOAA Adjusted Sea Level</th>\n",
       "    </tr>\n",
       "  </thead>\n",
       "  <tbody>\n",
       "    <tr>\n",
       "      <th>count</th>\n",
       "      <td>134.000000</td>\n",
       "      <td>134.000000</td>\n",
       "      <td>134.000000</td>\n",
       "      <td>134.000000</td>\n",
       "      <td>21.000000</td>\n",
       "    </tr>\n",
       "    <tr>\n",
       "      <th>mean</th>\n",
       "      <td>1946.500000</td>\n",
       "      <td>3.650341</td>\n",
       "      <td>3.204666</td>\n",
       "      <td>4.096016</td>\n",
       "      <td>7.363746</td>\n",
       "    </tr>\n",
       "    <tr>\n",
       "      <th>std</th>\n",
       "      <td>38.826537</td>\n",
       "      <td>2.485692</td>\n",
       "      <td>2.663781</td>\n",
       "      <td>2.312581</td>\n",
       "      <td>0.691038</td>\n",
       "    </tr>\n",
       "    <tr>\n",
       "      <th>min</th>\n",
       "      <td>1880.000000</td>\n",
       "      <td>-0.440945</td>\n",
       "      <td>-1.346457</td>\n",
       "      <td>0.464567</td>\n",
       "      <td>6.297493</td>\n",
       "    </tr>\n",
       "    <tr>\n",
       "      <th>25%</th>\n",
       "      <td>1913.250000</td>\n",
       "      <td>1.632874</td>\n",
       "      <td>1.078740</td>\n",
       "      <td>2.240157</td>\n",
       "      <td>6.848690</td>\n",
       "    </tr>\n",
       "    <tr>\n",
       "      <th>50%</th>\n",
       "      <td>1946.500000</td>\n",
       "      <td>3.312992</td>\n",
       "      <td>2.915354</td>\n",
       "      <td>3.710630</td>\n",
       "      <td>7.488353</td>\n",
       "    </tr>\n",
       "    <tr>\n",
       "      <th>75%</th>\n",
       "      <td>1979.750000</td>\n",
       "      <td>5.587598</td>\n",
       "      <td>5.329724</td>\n",
       "      <td>5.845472</td>\n",
       "      <td>7.907365</td>\n",
       "    </tr>\n",
       "    <tr>\n",
       "      <th>max</th>\n",
       "      <td>2013.000000</td>\n",
       "      <td>9.326772</td>\n",
       "      <td>8.992126</td>\n",
       "      <td>9.661417</td>\n",
       "      <td>8.546648</td>\n",
       "    </tr>\n",
       "  </tbody>\n",
       "</table>\n",
       "</div>"
      ]
     },
     "execution_count": 2,
     "metadata": {},
     "output_type": "execute_result"
    }
   ],
   "execution_count": 2
  },
  {
   "cell_type": "markdown",
   "id": "7186c00d-4ac0-4853-8977-728f17e0ab64",
   "metadata": {},
   "source": [
    "## **Exercise 2: Identifying Outliers**\n",
    "🔹 **Question:** Use the **interquartile range (IQR)** method to detect outliers in the **CSIRO Adjusted Sea Level** column. .)re)  \n"
   ]
  },
  {
   "cell_type": "code",
   "execution_count": 12,
   "id": "40ffded5-78e1-43f9-b0ab-979662f0e3b1",
   "metadata": {},
   "outputs": [],
   "source": "# Your code here:\n"
  },
  {
   "cell_type": "markdown",
   "id": "abb7e8b6-88f3-4c20-a706-1866b901f936",
   "metadata": {},
   "source": [
    "## **Exercise 3: Exploring Distributions**\n",
    "🔹 **Question:** Create a **boxplot** of sea level rise grouped by decade (e.g., 1880-1890, 1891-1900, etc.). e?"
   ]
  },
  {
   "cell_type": "code",
   "execution_count": 15,
   "id": "f2530035-c7dc-49e8-b34a-6eb82408850c",
   "metadata": {},
   "outputs": [],
   "source": [
    "# Your code here:"
   ]
  },
  {
   "cell_type": "markdown",
   "id": "3542b40f-45c0-4b19-a00b-6832bb1f8933",
   "metadata": {},
   "source": [
    "## **Exercise 4: Hypothesis Testing on Trends**\n",
    "🔹 **Question:** Perform a **T-test** to check if the mean sea level in the 21st century (2000-2014) is significantly higher than in the 20th century (1900-1999).  \n"
   ]
  },
  {
   "cell_type": "code",
   "execution_count": 31,
   "id": "e71a544c-dafa-4277-93fc-55877a245927",
   "metadata": {},
   "outputs": [],
   "source": [
    "# Your code here:"
   ]
  },
  {
   "cell_type": "markdown",
   "id": "6fc3984d-5b71-4117-8ab8-f9bc81434f13",
   "metadata": {},
   "source": [
    "## **Exercise 5: Probability Distributions**\n",
    "🔹 **Question:** Fit a **Poisson distribution** to the sea level rise data. ? \n"
   ]
  },
  {
   "cell_type": "code",
   "execution_count": 34,
   "id": "a45846a0-4136-4985-a2e1-f9706ee40ce6",
   "metadata": {},
   "outputs": [],
   "source": [
    "# Your code here:"
   ]
  },
  {
   "cell_type": "markdown",
   "id": "fdd2c687-f411-4f99-860d-8e2c0be0ac3c",
   "metadata": {},
   "source": [
    "## **Exercise 6: Correlation Analysis**\n",
    "🔹 **Question:** Check if there is a correlation between **CSIRO Adjusted Sea Level** and **NOAA Adjusted Sea Level**.  "
   ]
  },
  {
   "cell_type": "code",
   "execution_count": null,
   "id": "aa3aa4e7-0e20-4d5f-86bb-e1ecd6daa7e5",
   "metadata": {},
   "outputs": [],
   "source": [
    "# Your code here:"
   ]
  },
  {
   "cell_type": "markdown",
   "id": "c4953368-3130-4dc9-a0ff-bd31e02a00bc",
   "metadata": {},
   "source": [
    "## **Exercise 7: Summary Reflection**\n",
    "🔹 **Question:** Summarize your findings from this analysis.  "
   ]
  },
  {
   "cell_type": "code",
   "execution_count": null,
   "id": "f765b2eb-eb5a-49c9-83ba-dd8f817a9069",
   "metadata": {},
   "outputs": [],
   "source": [
    "# Your code here:"
   ]
  },
  {
   "cell_type": "code",
   "execution_count": null,
   "id": "8b39c018-9959-41ef-a3b2-217d47c5c7df",
   "metadata": {},
   "outputs": [],
   "source": []
  }
 ],
 "metadata": {
  "kernelspec": {
   "display_name": "Python 3 (ipykernel)",
   "language": "python",
   "name": "python3"
  },
  "language_info": {
   "codemirror_mode": {
    "name": "ipython",
    "version": 3
   },
   "file_extension": ".py",
   "mimetype": "text/x-python",
   "name": "python",
   "nbconvert_exporter": "python",
   "pygments_lexer": "ipython3",
   "version": "3.11.9"
  }
 },
 "nbformat": 4,
 "nbformat_minor": 5
}
